{
 "cells": [
  {
   "cell_type": "markdown",
   "metadata": {},
   "source": [
    "Curtis Sera <br>\n",
    "v2.0.5 <br>\n",
    "2020-11-06\n",
    "\n",
    "# Protrusion body: before and after fusion\n",
    "\n",
    "## Introduction\n",
    "This is a simple comparison of the bending energies for a fusion event occuring in the <i>Bt</i> protrusion body.  Starting with the protrusion set-up shown on the left and ending with the geometry shown on the right:\n",
    "<img src=\"Imgs/base_fusion.jpg\" width=600 /><br>\n",
    "except that the scission occurs within the protrusion body, leaving 2 rims rather than 1 rim and 1 fusion pore in the bulk.\n",
    "\n",
    "We will again split the protrusion into three idealized sections: toroidal base, cylindrical body, hemispherical cap.  We will further make the simplifying assumptions that only the toroidal base has changed geometry (perhaps this is very shortly after fusion) and that any excess membrane has been able to flow into a stress-free bulk.  Thus, our expression for the change in bending energy is simply:\n",
    "\n",
    "$\\Delta G = (2 G_{body rim} ) - G_{body segment}$\n",
    "where we have multiplied the body rim energy by 2 in recognition of the symmetry.\n",
    "\n",
    "That is, within this model we don't need to pay attention to anything other than the base and what it turns into.\n",
    "\n",
    "The relevant comparisons are for a fusion without a protrusion, fusion in the body, and fusion in the cap.  To make complete comparisons, it would be ideal to fully calculate pore + residual membrane energies for each situation.  However, the pore energy is not needed to make the base fusion vs protrusion-less fusion comparison since the pore energy is the same in those cases once the protrusion has been cut off.\n",
    "\n",
    "## Set-up\n",
    "To get started, let's first set our key system properties.  We'll be using the same variable names as in FusionPoreExpanG.ipynb.  The scheme for the protrusion base is shown on the left, and the scheme for a the protrusion base's post-fusion rim is shown on the right (adapted from the fusion pore scheme).  The coordinates/variables for the pre-fusion base are used identically in the body.\n",
    "\n",
    "<img src=\"Imgs/tor_base_xsection.jpg\" width=550 />   <img src=\"Imgs/base_rim.jpg\" width=550 />\n",
    "\n",
    "Note that the diagram for the rim is not to scale.\n",
    "\n",
    "We will make the rim toroidal (the bottom of a donut), and $r_{t,rim}$ will be the intermembrane distance.  Two intermembrane distance range will include 25 nm which is what I measured from 2019-08-05's infected-0040.tif and which is ~consistent with the known ER intermembrane distance of 30 nm."
   ]
  },
  {
   "cell_type": "code",
   "execution_count": 7,
   "metadata": {},
   "outputs": [],
   "source": [
    "import numpy as np\n",
    "import plotly.graph_objs as go\n",
    "\n",
    "# Membrane properties\n",
    "Kb = 15         # kT\n",
    "\n",
    "# Pre-fusion properties\n",
    "R0 = 375        # nm\n",
    "Rt = 200        # nm\n",
    "\n",
    "# Post-fusion properties\n",
    "rim_rt = np.array([2,2.3,2.6,3,3.5,4,5,6.5,8,10,\n",
    "                   12.5,15,17.5,20,22.5,25,30,35,40,45])    # nm\n",
    "    # the intermembrane distance of the residual protrusion\n",
    "    # (ie toroidal rim's tube radius)\n",
    "\n",
    "def helfrichStress(k1,k2,Kb):\n",
    "    '''\n",
    "    Helfrich bending *stress*\n",
    "    \n",
    "    Args:\n",
    "        k1 (float): Principal curvature 1; 1/nm\n",
    "        k2 (float): Principal curvature 2; 1/nm\n",
    "        Kb (float): Helfrich bending constant for membrane; kT/nm^2\n",
    "    Returns:\n",
    "        float: The Helfrich bending *stress* (ie energy for an infinitesimal dA) \n",
    "    '''\n",
    "    return 0.5*Kb*(k1+k2)**2 # Note units = energy/unit area = kT/nm^2\n",
    "\n",
    "def torusCircCurv(R,r,u):\n",
    "    '''\n",
    "    Curvature (reciprocal of radius of curvature) on a torus at a point defined by the angle u due \n",
    "    to connecting the tube ends.  The \"circumferential curvature\".\n",
    "    \n",
    "    Args:\n",
    "        R (float): distance from torus center to inner wall; nm\n",
    "        r (float): torus tube radius; nm\n",
    "        u (float): angle giving location on the relevant slice of tube where 0 points transversely *out*; radians\n",
    "    Returns:\n",
    "        float: Circumferential curvature; 1/nm\n",
    "    '''\n",
    "    return (np.cos(u)) / (R + r + r*np.cos(u));\n",
    "\n",
    "def GToroidalPore(R,r,Kb):\n",
    "    '''\n",
    "    Bending energy for a toroidal pore *with no spontaneous curvature*.\n",
    "    \n",
    "    Args:\n",
    "        R (float): distance from torus center to inner wall; nm\n",
    "        r (float): torus tube radius; nm\n",
    "        Kb (float): Helfrich bending constant for membrane; kT/nm^2\n",
    "    Returns:\n",
    "        float: Pore bending energy; kT\n",
    "    '''\n",
    "    return Kb*np.pi*2* ( np.arctan(np.sqrt((r+2*R)/r)) * (2*(r+R)**2)/(R*np.sqrt(r**2+2*R*r)) - 4 );"
   ]
  },
  {
   "cell_type": "markdown",
   "metadata": {},
   "source": [
    "## Computation: pre-fusion body\n",
    "\n",
    "**Assume:**\n",
    "- The area of body membrane that will be freed = $1.5 \\,\\, 2 \\pi r_{t,rim}$\n",
    "    - This is the area of membrane that will be incorporated into the post-fusion rims * 1.5.\n",
    "    - *Implicitly assumes that the are incorporated into the rims is freed and that an additional 0.5 times that area retracts into the bulk*\n",
    "\n",
    "Note that the body is cylindrical which makes its stresses uniform.  Thus, we need only find the per unit area energy then multiply that by the relevant area.  Since this depends on $r_{t,rim}$, this will have multiple pre-fusion energies unlike the cap and base pre-fusion vs post-fusion comparisons."
   ]
  },
  {
   "cell_type": "code",
   "execution_count": 8,
   "metadata": {},
   "outputs": [
    {
     "data": {
      "application/vnd.plotly.v1+json": {
       "config": {
        "plotlyServerURL": "https://plot.ly"
       },
       "data": [
        {
         "mode": "markers+lines",
         "type": "scatter",
         "x": [
          2,
          2.3,
          2.6,
          3,
          3.5,
          4,
          5,
          6.5,
          8,
          10,
          12.5,
          15,
          17.5,
          20,
          22.5,
          25,
          30,
          35,
          40,
          45
         ],
         "y": [
          0.7539822368615504,
          0.8670795723907829,
          0.9801769079200155,
          1.1309733552923256,
          1.3194689145077132,
          1.5079644737231008,
          1.884955592153876,
          2.450442269800039,
          3.0159289474462017,
          3.769911184307752,
          4.71238898038469,
          5.6548667764616285,
          6.597344572538566,
          7.539822368615504,
          8.482300164692441,
          9.42477796076938,
          11.309733552923257,
          13.194689145077133,
          15.079644737231009,
          16.964600329384883
         ]
        }
       ],
       "layout": {
        "autosize": true,
        "template": {
         "data": {
          "bar": [
           {
            "error_x": {
             "color": "#2a3f5f"
            },
            "error_y": {
             "color": "#2a3f5f"
            },
            "marker": {
             "line": {
              "color": "#E5ECF6",
              "width": 0.5
             }
            },
            "type": "bar"
           }
          ],
          "barpolar": [
           {
            "marker": {
             "line": {
              "color": "#E5ECF6",
              "width": 0.5
             }
            },
            "type": "barpolar"
           }
          ],
          "carpet": [
           {
            "aaxis": {
             "endlinecolor": "#2a3f5f",
             "gridcolor": "white",
             "linecolor": "white",
             "minorgridcolor": "white",
             "startlinecolor": "#2a3f5f"
            },
            "baxis": {
             "endlinecolor": "#2a3f5f",
             "gridcolor": "white",
             "linecolor": "white",
             "minorgridcolor": "white",
             "startlinecolor": "#2a3f5f"
            },
            "type": "carpet"
           }
          ],
          "choropleth": [
           {
            "colorbar": {
             "outlinewidth": 0,
             "ticks": ""
            },
            "type": "choropleth"
           }
          ],
          "contour": [
           {
            "colorbar": {
             "outlinewidth": 0,
             "ticks": ""
            },
            "colorscale": [
             [
              0,
              "#0d0887"
             ],
             [
              0.1111111111111111,
              "#46039f"
             ],
             [
              0.2222222222222222,
              "#7201a8"
             ],
             [
              0.3333333333333333,
              "#9c179e"
             ],
             [
              0.4444444444444444,
              "#bd3786"
             ],
             [
              0.5555555555555556,
              "#d8576b"
             ],
             [
              0.6666666666666666,
              "#ed7953"
             ],
             [
              0.7777777777777778,
              "#fb9f3a"
             ],
             [
              0.8888888888888888,
              "#fdca26"
             ],
             [
              1,
              "#f0f921"
             ]
            ],
            "type": "contour"
           }
          ],
          "contourcarpet": [
           {
            "colorbar": {
             "outlinewidth": 0,
             "ticks": ""
            },
            "type": "contourcarpet"
           }
          ],
          "heatmap": [
           {
            "colorbar": {
             "outlinewidth": 0,
             "ticks": ""
            },
            "colorscale": [
             [
              0,
              "#0d0887"
             ],
             [
              0.1111111111111111,
              "#46039f"
             ],
             [
              0.2222222222222222,
              "#7201a8"
             ],
             [
              0.3333333333333333,
              "#9c179e"
             ],
             [
              0.4444444444444444,
              "#bd3786"
             ],
             [
              0.5555555555555556,
              "#d8576b"
             ],
             [
              0.6666666666666666,
              "#ed7953"
             ],
             [
              0.7777777777777778,
              "#fb9f3a"
             ],
             [
              0.8888888888888888,
              "#fdca26"
             ],
             [
              1,
              "#f0f921"
             ]
            ],
            "type": "heatmap"
           }
          ],
          "heatmapgl": [
           {
            "colorbar": {
             "outlinewidth": 0,
             "ticks": ""
            },
            "colorscale": [
             [
              0,
              "#0d0887"
             ],
             [
              0.1111111111111111,
              "#46039f"
             ],
             [
              0.2222222222222222,
              "#7201a8"
             ],
             [
              0.3333333333333333,
              "#9c179e"
             ],
             [
              0.4444444444444444,
              "#bd3786"
             ],
             [
              0.5555555555555556,
              "#d8576b"
             ],
             [
              0.6666666666666666,
              "#ed7953"
             ],
             [
              0.7777777777777778,
              "#fb9f3a"
             ],
             [
              0.8888888888888888,
              "#fdca26"
             ],
             [
              1,
              "#f0f921"
             ]
            ],
            "type": "heatmapgl"
           }
          ],
          "histogram": [
           {
            "marker": {
             "colorbar": {
              "outlinewidth": 0,
              "ticks": ""
             }
            },
            "type": "histogram"
           }
          ],
          "histogram2d": [
           {
            "colorbar": {
             "outlinewidth": 0,
             "ticks": ""
            },
            "colorscale": [
             [
              0,
              "#0d0887"
             ],
             [
              0.1111111111111111,
              "#46039f"
             ],
             [
              0.2222222222222222,
              "#7201a8"
             ],
             [
              0.3333333333333333,
              "#9c179e"
             ],
             [
              0.4444444444444444,
              "#bd3786"
             ],
             [
              0.5555555555555556,
              "#d8576b"
             ],
             [
              0.6666666666666666,
              "#ed7953"
             ],
             [
              0.7777777777777778,
              "#fb9f3a"
             ],
             [
              0.8888888888888888,
              "#fdca26"
             ],
             [
              1,
              "#f0f921"
             ]
            ],
            "type": "histogram2d"
           }
          ],
          "histogram2dcontour": [
           {
            "colorbar": {
             "outlinewidth": 0,
             "ticks": ""
            },
            "colorscale": [
             [
              0,
              "#0d0887"
             ],
             [
              0.1111111111111111,
              "#46039f"
             ],
             [
              0.2222222222222222,
              "#7201a8"
             ],
             [
              0.3333333333333333,
              "#9c179e"
             ],
             [
              0.4444444444444444,
              "#bd3786"
             ],
             [
              0.5555555555555556,
              "#d8576b"
             ],
             [
              0.6666666666666666,
              "#ed7953"
             ],
             [
              0.7777777777777778,
              "#fb9f3a"
             ],
             [
              0.8888888888888888,
              "#fdca26"
             ],
             [
              1,
              "#f0f921"
             ]
            ],
            "type": "histogram2dcontour"
           }
          ],
          "mesh3d": [
           {
            "colorbar": {
             "outlinewidth": 0,
             "ticks": ""
            },
            "type": "mesh3d"
           }
          ],
          "parcoords": [
           {
            "line": {
             "colorbar": {
              "outlinewidth": 0,
              "ticks": ""
             }
            },
            "type": "parcoords"
           }
          ],
          "pie": [
           {
            "automargin": true,
            "type": "pie"
           }
          ],
          "scatter": [
           {
            "marker": {
             "colorbar": {
              "outlinewidth": 0,
              "ticks": ""
             }
            },
            "type": "scatter"
           }
          ],
          "scatter3d": [
           {
            "line": {
             "colorbar": {
              "outlinewidth": 0,
              "ticks": ""
             }
            },
            "marker": {
             "colorbar": {
              "outlinewidth": 0,
              "ticks": ""
             }
            },
            "type": "scatter3d"
           }
          ],
          "scattercarpet": [
           {
            "marker": {
             "colorbar": {
              "outlinewidth": 0,
              "ticks": ""
             }
            },
            "type": "scattercarpet"
           }
          ],
          "scattergeo": [
           {
            "marker": {
             "colorbar": {
              "outlinewidth": 0,
              "ticks": ""
             }
            },
            "type": "scattergeo"
           }
          ],
          "scattergl": [
           {
            "marker": {
             "colorbar": {
              "outlinewidth": 0,
              "ticks": ""
             }
            },
            "type": "scattergl"
           }
          ],
          "scattermapbox": [
           {
            "marker": {
             "colorbar": {
              "outlinewidth": 0,
              "ticks": ""
             }
            },
            "type": "scattermapbox"
           }
          ],
          "scatterpolar": [
           {
            "marker": {
             "colorbar": {
              "outlinewidth": 0,
              "ticks": ""
             }
            },
            "type": "scatterpolar"
           }
          ],
          "scatterpolargl": [
           {
            "marker": {
             "colorbar": {
              "outlinewidth": 0,
              "ticks": ""
             }
            },
            "type": "scatterpolargl"
           }
          ],
          "scatterternary": [
           {
            "marker": {
             "colorbar": {
              "outlinewidth": 0,
              "ticks": ""
             }
            },
            "type": "scatterternary"
           }
          ],
          "surface": [
           {
            "colorbar": {
             "outlinewidth": 0,
             "ticks": ""
            },
            "colorscale": [
             [
              0,
              "#0d0887"
             ],
             [
              0.1111111111111111,
              "#46039f"
             ],
             [
              0.2222222222222222,
              "#7201a8"
             ],
             [
              0.3333333333333333,
              "#9c179e"
             ],
             [
              0.4444444444444444,
              "#bd3786"
             ],
             [
              0.5555555555555556,
              "#d8576b"
             ],
             [
              0.6666666666666666,
              "#ed7953"
             ],
             [
              0.7777777777777778,
              "#fb9f3a"
             ],
             [
              0.8888888888888888,
              "#fdca26"
             ],
             [
              1,
              "#f0f921"
             ]
            ],
            "type": "surface"
           }
          ],
          "table": [
           {
            "cells": {
             "fill": {
              "color": "#EBF0F8"
             },
             "line": {
              "color": "white"
             }
            },
            "header": {
             "fill": {
              "color": "#C8D4E3"
             },
             "line": {
              "color": "white"
             }
            },
            "type": "table"
           }
          ]
         },
         "layout": {
          "annotationdefaults": {
           "arrowcolor": "#2a3f5f",
           "arrowhead": 0,
           "arrowwidth": 1
          },
          "coloraxis": {
           "colorbar": {
            "outlinewidth": 0,
            "ticks": ""
           }
          },
          "colorscale": {
           "diverging": [
            [
             0,
             "#8e0152"
            ],
            [
             0.1,
             "#c51b7d"
            ],
            [
             0.2,
             "#de77ae"
            ],
            [
             0.3,
             "#f1b6da"
            ],
            [
             0.4,
             "#fde0ef"
            ],
            [
             0.5,
             "#f7f7f7"
            ],
            [
             0.6,
             "#e6f5d0"
            ],
            [
             0.7,
             "#b8e186"
            ],
            [
             0.8,
             "#7fbc41"
            ],
            [
             0.9,
             "#4d9221"
            ],
            [
             1,
             "#276419"
            ]
           ],
           "sequential": [
            [
             0,
             "#0d0887"
            ],
            [
             0.1111111111111111,
             "#46039f"
            ],
            [
             0.2222222222222222,
             "#7201a8"
            ],
            [
             0.3333333333333333,
             "#9c179e"
            ],
            [
             0.4444444444444444,
             "#bd3786"
            ],
            [
             0.5555555555555556,
             "#d8576b"
            ],
            [
             0.6666666666666666,
             "#ed7953"
            ],
            [
             0.7777777777777778,
             "#fb9f3a"
            ],
            [
             0.8888888888888888,
             "#fdca26"
            ],
            [
             1,
             "#f0f921"
            ]
           ],
           "sequentialminus": [
            [
             0,
             "#0d0887"
            ],
            [
             0.1111111111111111,
             "#46039f"
            ],
            [
             0.2222222222222222,
             "#7201a8"
            ],
            [
             0.3333333333333333,
             "#9c179e"
            ],
            [
             0.4444444444444444,
             "#bd3786"
            ],
            [
             0.5555555555555556,
             "#d8576b"
            ],
            [
             0.6666666666666666,
             "#ed7953"
            ],
            [
             0.7777777777777778,
             "#fb9f3a"
            ],
            [
             0.8888888888888888,
             "#fdca26"
            ],
            [
             1,
             "#f0f921"
            ]
           ]
          },
          "colorway": [
           "#636efa",
           "#EF553B",
           "#00cc96",
           "#ab63fa",
           "#FFA15A",
           "#19d3f3",
           "#FF6692",
           "#B6E880",
           "#FF97FF",
           "#FECB52"
          ],
          "font": {
           "color": "#2a3f5f"
          },
          "geo": {
           "bgcolor": "white",
           "lakecolor": "white",
           "landcolor": "#E5ECF6",
           "showlakes": true,
           "showland": true,
           "subunitcolor": "white"
          },
          "hoverlabel": {
           "align": "left"
          },
          "hovermode": "closest",
          "mapbox": {
           "style": "light"
          },
          "paper_bgcolor": "white",
          "plot_bgcolor": "#E5ECF6",
          "polar": {
           "angularaxis": {
            "gridcolor": "white",
            "linecolor": "white",
            "ticks": ""
           },
           "bgcolor": "#E5ECF6",
           "radialaxis": {
            "gridcolor": "white",
            "linecolor": "white",
            "ticks": ""
           }
          },
          "scene": {
           "xaxis": {
            "backgroundcolor": "#E5ECF6",
            "gridcolor": "white",
            "gridwidth": 2,
            "linecolor": "white",
            "showbackground": true,
            "ticks": "",
            "zerolinecolor": "white"
           },
           "yaxis": {
            "backgroundcolor": "#E5ECF6",
            "gridcolor": "white",
            "gridwidth": 2,
            "linecolor": "white",
            "showbackground": true,
            "ticks": "",
            "zerolinecolor": "white"
           },
           "zaxis": {
            "backgroundcolor": "#E5ECF6",
            "gridcolor": "white",
            "gridwidth": 2,
            "linecolor": "white",
            "showbackground": true,
            "ticks": "",
            "zerolinecolor": "white"
           }
          },
          "shapedefaults": {
           "line": {
            "color": "#2a3f5f"
           }
          },
          "ternary": {
           "aaxis": {
            "gridcolor": "white",
            "linecolor": "white",
            "ticks": ""
           },
           "baxis": {
            "gridcolor": "white",
            "linecolor": "white",
            "ticks": ""
           },
           "bgcolor": "#E5ECF6",
           "caxis": {
            "gridcolor": "white",
            "linecolor": "white",
            "ticks": ""
           }
          },
          "title": {
           "x": 0.05
          },
          "xaxis": {
           "automargin": true,
           "gridcolor": "white",
           "linecolor": "white",
           "ticks": "",
           "title": {
            "standoff": 15
           },
           "zerolinecolor": "white",
           "zerolinewidth": 2
          },
          "yaxis": {
           "automargin": true,
           "gridcolor": "white",
           "linecolor": "white",
           "ticks": "",
           "title": {
            "standoff": 15
           },
           "zerolinecolor": "white",
           "zerolinewidth": 2
          }
         }
        },
        "title": {
         "text": "Pre-fusion body bending energy"
        },
        "xaxis": {
         "autorange": true,
         "range": [
          -0.5605537989843827,
          47.56055379898438
         ],
         "title": {
          "text": "$r_{t,prtr}$ (nm)"
         },
         "type": "linear"
        },
        "yaxis": {
         "autorange": true,
         "range": [
          -0.4334197253296491,
          18.152002291576082
         ],
         "title": {
          "text": "Energy (kT)"
         },
         "type": "linear"
        }
       }
      },
      "image/png": "[encoded data removed]",
      "text/html": [
       "<div>                            <div id=\"1452bfd3-a9cf-42be-bc24-b91e2d0e9a51\" class=\"plotly-graph-div\" style=\"height:525px; width:100%;\"></div>            <script type=\"text/javascript\">                require([\"plotly\"], function(Plotly) {                    window.PLOTLYENV=window.PLOTLYENV || {};                                    if (document.getElementById(\"1452bfd3-a9cf-42be-bc24-b91e2d0e9a51\")) {                    Plotly.newPlot(                        \"1452bfd3-a9cf-42be-bc24-b91e2d0e9a51\",                        [{\"mode\": \"markers+lines\", \"type\": \"scatter\", \"x\": [2.0, 2.3, 2.6, 3.0, 3.5, 4.0, 5.0, 6.5, 8.0, 10.0, 12.5, 15.0, 17.5, 20.0, 22.5, 25.0, 30.0, 35.0, 40.0, 45.0], \"y\": [0.7539822368615504, 0.8670795723907829, 0.9801769079200155, 1.1309733552923256, 1.3194689145077132, 1.5079644737231008, 1.884955592153876, 2.450442269800039, 3.0159289474462017, 3.769911184307752, 4.71238898038469, 5.6548667764616285, 6.597344572538566, 7.539822368615504, 8.482300164692441, 9.42477796076938, 11.309733552923257, 13.194689145077133, 15.079644737231009, 16.964600329384883]}],                        {\"template\": {\"data\": {\"bar\": [{\"error_x\": {\"color\": \"#2a3f5f\"}, \"error_y\": {\"color\": \"#2a3f5f\"}, \"marker\": {\"line\": {\"color\": \"#E5ECF6\", \"width\": 0.5}}, \"type\": \"bar\"}], \"barpolar\": [{\"marker\": {\"line\": {\"color\": \"#E5ECF6\", \"width\": 0.5}}, \"type\": \"barpolar\"}], \"carpet\": [{\"aaxis\": {\"endlinecolor\": \"#2a3f5f\", \"gridcolor\": \"white\", \"linecolor\": \"white\", \"minorgridcolor\": \"white\", \"startlinecolor\": \"#2a3f5f\"}, \"baxis\": {\"endlinecolor\": \"#2a3f5f\", \"gridcolor\": \"white\", \"linecolor\": \"white\", \"minorgridcolor\": \"white\", \"startlinecolor\": \"#2a3f5f\"}, \"type\": \"carpet\"}], \"choropleth\": [{\"colorbar\": {\"outlinewidth\": 0, \"ticks\": \"\"}, \"type\": \"choropleth\"}], \"contour\": [{\"colorbar\": {\"outlinewidth\": 0, \"ticks\": \"\"}, \"colorscale\": [[0.0, \"#0d0887\"], [0.1111111111111111, \"#46039f\"], [0.2222222222222222, \"#7201a8\"], [0.3333333333333333, \"#9c179e\"], [0.4444444444444444, \"#bd3786\"], [0.5555555555555556, \"#d8576b\"], [0.6666666666666666, \"#ed7953\"], [0.7777777777777778, \"#fb9f3a\"], [0.8888888888888888, \"#fdca26\"], [1.0, \"#f0f921\"]], \"type\": \"contour\"}], \"contourcarpet\": [{\"colorbar\": {\"outlinewidth\": 0, \"ticks\": \"\"}, \"type\": \"contourcarpet\"}], \"heatmap\": [{\"colorbar\": {\"outlinewidth\": 0, \"ticks\": \"\"}, \"colorscale\": [[0.0, \"#0d0887\"], [0.1111111111111111, \"#46039f\"], [0.2222222222222222, \"#7201a8\"], [0.3333333333333333, \"#9c179e\"], [0.4444444444444444, \"#bd3786\"], [0.5555555555555556, \"#d8576b\"], [0.6666666666666666, \"#ed7953\"], [0.7777777777777778, \"#fb9f3a\"], [0.8888888888888888, \"#fdca26\"], [1.0, \"#f0f921\"]], \"type\": \"heatmap\"}], \"heatmapgl\": [{\"colorbar\": {\"outlinewidth\": 0, \"ticks\": \"\"}, \"colorscale\": [[0.0, \"#0d0887\"], [0.1111111111111111, \"#46039f\"], [0.2222222222222222, \"#7201a8\"], [0.3333333333333333, \"#9c179e\"], [0.4444444444444444, \"#bd3786\"], [0.5555555555555556, \"#d8576b\"], [0.6666666666666666, \"#ed7953\"], [0.7777777777777778, \"#fb9f3a\"], [0.8888888888888888, \"#fdca26\"], [1.0, \"#f0f921\"]], \"type\": \"heatmapgl\"}], \"histogram\": [{\"marker\": {\"colorbar\": {\"outlinewidth\": 0, \"ticks\": \"\"}}, \"type\": \"histogram\"}], \"histogram2d\": [{\"colorbar\": {\"outlinewidth\": 0, \"ticks\": \"\"}, \"colorscale\": [[0.0, \"#0d0887\"], [0.1111111111111111, \"#46039f\"], [0.2222222222222222, \"#7201a8\"], [0.3333333333333333, \"#9c179e\"], [0.4444444444444444, \"#bd3786\"], [0.5555555555555556, \"#d8576b\"], [0.6666666666666666, \"#ed7953\"], [0.7777777777777778, \"#fb9f3a\"], [0.8888888888888888, \"#fdca26\"], [1.0, \"#f0f921\"]], \"type\": \"histogram2d\"}], \"histogram2dcontour\": [{\"colorbar\": {\"outlinewidth\": 0, \"ticks\": \"\"}, \"colorscale\": [[0.0, \"#0d0887\"], [0.1111111111111111, \"#46039f\"], [0.2222222222222222, \"#7201a8\"], [0.3333333333333333, \"#9c179e\"], [0.4444444444444444, \"#bd3786\"], [0.5555555555555556, \"#d8576b\"], [0.6666666666666666, \"#ed7953\"], [0.7777777777777778, \"#fb9f3a\"], [0.8888888888888888, \"#fdca26\"], [1.0, \"#f0f921\"]], \"type\": \"histogram2dcontour\"}], \"mesh3d\": [{\"colorbar\": {\"outlinewidth\": 0, \"ticks\": \"\"}, \"type\": \"mesh3d\"}], \"parcoords\": [{\"line\": {\"colorbar\": {\"outlinewidth\": 0, \"ticks\": \"\"}}, \"type\": \"parcoords\"}], \"pie\": [{\"automargin\": true, \"type\": \"pie\"}], \"scatter\": [{\"marker\": {\"colorbar\": {\"outlinewidth\": 0, \"ticks\": \"\"}}, \"type\": \"scatter\"}], \"scatter3d\": [{\"line\": {\"colorbar\": {\"outlinewidth\": 0, \"ticks\": \"\"}}, \"marker\": {\"colorbar\": {\"outlinewidth\": 0, \"ticks\": \"\"}}, \"type\": \"scatter3d\"}], \"scattercarpet\": [{\"marker\": {\"colorbar\": {\"outlinewidth\": 0, \"ticks\": \"\"}}, \"type\": \"scattercarpet\"}], \"scattergeo\": [{\"marker\": {\"colorbar\": {\"outlinewidth\": 0, \"ticks\": \"\"}}, \"type\": \"scattergeo\"}], \"scattergl\": [{\"marker\": {\"colorbar\": {\"outlinewidth\": 0, \"ticks\": \"\"}}, \"type\": \"scattergl\"}], \"scattermapbox\": [{\"marker\": {\"colorbar\": {\"outlinewidth\": 0, \"ticks\": \"\"}}, \"type\": \"scattermapbox\"}], \"scatterpolar\": [{\"marker\": {\"colorbar\": {\"outlinewidth\": 0, \"ticks\": \"\"}}, \"type\": \"scatterpolar\"}], \"scatterpolargl\": [{\"marker\": {\"colorbar\": {\"outlinewidth\": 0, \"ticks\": \"\"}}, \"type\": \"scatterpolargl\"}], \"scatterternary\": [{\"marker\": {\"colorbar\": {\"outlinewidth\": 0, \"ticks\": \"\"}}, \"type\": \"scatterternary\"}], \"surface\": [{\"colorbar\": {\"outlinewidth\": 0, \"ticks\": \"\"}, \"colorscale\": [[0.0, \"#0d0887\"], [0.1111111111111111, \"#46039f\"], [0.2222222222222222, \"#7201a8\"], [0.3333333333333333, \"#9c179e\"], [0.4444444444444444, \"#bd3786\"], [0.5555555555555556, \"#d8576b\"], [0.6666666666666666, \"#ed7953\"], [0.7777777777777778, \"#fb9f3a\"], [0.8888888888888888, \"#fdca26\"], [1.0, \"#f0f921\"]], \"type\": \"surface\"}], \"table\": [{\"cells\": {\"fill\": {\"color\": \"#EBF0F8\"}, \"line\": {\"color\": \"white\"}}, \"header\": {\"fill\": {\"color\": \"#C8D4E3\"}, \"line\": {\"color\": \"white\"}}, \"type\": \"table\"}]}, \"layout\": {\"annotationdefaults\": {\"arrowcolor\": \"#2a3f5f\", \"arrowhead\": 0, \"arrowwidth\": 1}, \"coloraxis\": {\"colorbar\": {\"outlinewidth\": 0, \"ticks\": \"\"}}, \"colorscale\": {\"diverging\": [[0, \"#8e0152\"], [0.1, \"#c51b7d\"], [0.2, \"#de77ae\"], [0.3, \"#f1b6da\"], [0.4, \"#fde0ef\"], [0.5, \"#f7f7f7\"], [0.6, \"#e6f5d0\"], [0.7, \"#b8e186\"], [0.8, \"#7fbc41\"], [0.9, \"#4d9221\"], [1, \"#276419\"]], \"sequential\": [[0.0, \"#0d0887\"], [0.1111111111111111, \"#46039f\"], [0.2222222222222222, \"#7201a8\"], [0.3333333333333333, \"#9c179e\"], [0.4444444444444444, \"#bd3786\"], [0.5555555555555556, \"#d8576b\"], [0.6666666666666666, \"#ed7953\"], [0.7777777777777778, \"#fb9f3a\"], [0.8888888888888888, \"#fdca26\"], [1.0, \"#f0f921\"]], \"sequentialminus\": [[0.0, \"#0d0887\"], [0.1111111111111111, \"#46039f\"], [0.2222222222222222, \"#7201a8\"], [0.3333333333333333, \"#9c179e\"], [0.4444444444444444, \"#bd3786\"], [0.5555555555555556, \"#d8576b\"], [0.6666666666666666, \"#ed7953\"], [0.7777777777777778, \"#fb9f3a\"], [0.8888888888888888, \"#fdca26\"], [1.0, \"#f0f921\"]]}, \"colorway\": [\"#636efa\", \"#EF553B\", \"#00cc96\", \"#ab63fa\", \"#FFA15A\", \"#19d3f3\", \"#FF6692\", \"#B6E880\", \"#FF97FF\", \"#FECB52\"], \"font\": {\"color\": \"#2a3f5f\"}, \"geo\": {\"bgcolor\": \"white\", \"lakecolor\": \"white\", \"landcolor\": \"#E5ECF6\", \"showlakes\": true, \"showland\": true, \"subunitcolor\": \"white\"}, \"hoverlabel\": {\"align\": \"left\"}, \"hovermode\": \"closest\", \"mapbox\": {\"style\": \"light\"}, \"paper_bgcolor\": \"white\", \"plot_bgcolor\": \"#E5ECF6\", \"polar\": {\"angularaxis\": {\"gridcolor\": \"white\", \"linecolor\": \"white\", \"ticks\": \"\"}, \"bgcolor\": \"#E5ECF6\", \"radialaxis\": {\"gridcolor\": \"white\", \"linecolor\": \"white\", \"ticks\": \"\"}}, \"scene\": {\"xaxis\": {\"backgroundcolor\": \"#E5ECF6\", \"gridcolor\": \"white\", \"gridwidth\": 2, \"linecolor\": \"white\", \"showbackground\": true, \"ticks\": \"\", \"zerolinecolor\": \"white\"}, \"yaxis\": {\"backgroundcolor\": \"#E5ECF6\", \"gridcolor\": \"white\", \"gridwidth\": 2, \"linecolor\": \"white\", \"showbackground\": true, \"ticks\": \"\", \"zerolinecolor\": \"white\"}, \"zaxis\": {\"backgroundcolor\": \"#E5ECF6\", \"gridcolor\": \"white\", \"gridwidth\": 2, \"linecolor\": \"white\", \"showbackground\": true, \"ticks\": \"\", \"zerolinecolor\": \"white\"}}, \"shapedefaults\": {\"line\": {\"color\": \"#2a3f5f\"}}, \"ternary\": {\"aaxis\": {\"gridcolor\": \"white\", \"linecolor\": \"white\", \"ticks\": \"\"}, \"baxis\": {\"gridcolor\": \"white\", \"linecolor\": \"white\", \"ticks\": \"\"}, \"bgcolor\": \"#E5ECF6\", \"caxis\": {\"gridcolor\": \"white\", \"linecolor\": \"white\", \"ticks\": \"\"}}, \"title\": {\"x\": 0.05}, \"xaxis\": {\"automargin\": true, \"gridcolor\": \"white\", \"linecolor\": \"white\", \"ticks\": \"\", \"title\": {\"standoff\": 15}, \"zerolinecolor\": \"white\", \"zerolinewidth\": 2}, \"yaxis\": {\"automargin\": true, \"gridcolor\": \"white\", \"linecolor\": \"white\", \"ticks\": \"\", \"title\": {\"standoff\": 15}, \"zerolinecolor\": \"white\", \"zerolinewidth\": 2}}}, \"title\": {\"text\": \"Pre-fusion body bending energy\"}, \"xaxis\": {\"title\": {\"text\": \"$r_{t,prtr}$ (nm)\"}}, \"yaxis\": {\"title\": {\"text\": \"Energy (kT)\"}}},                        {\"responsive\": true}                    ).then(function(){\n",
       "                            \n",
       "var gd = document.getElementById('1452bfd3-a9cf-42be-bc24-b91e2d0e9a51');\n",
       "var x = new MutationObserver(function (mutations, observer) {{\n",
       "        var display = window.getComputedStyle(gd).display;\n",
       "        if (!display || display === 'none') {{\n",
       "            console.log([gd, 'removed!']);\n",
       "            Plotly.purge(gd);\n",
       "            observer.disconnect();\n",
       "        }}\n",
       "}});\n",
       "\n",
       "// Listen for the removal of the full notebook cells\n",
       "var notebookContainer = gd.closest('#notebook-container');\n",
       "if (notebookContainer) {{\n",
       "    x.observe(notebookContainer, {childList: true});\n",
       "}}\n",
       "\n",
       "// Listen for the clearing of the current output cell\n",
       "var outputEl = gd.closest('.output');\n",
       "if (outputEl) {{\n",
       "    x.observe(outputEl, {childList: true});\n",
       "}}\n",
       "\n",
       "                        })                };                });            </script>        </div>"
      ]
     },
     "metadata": {},
     "output_type": "display_data"
    },
    {
     "name": "stdout",
     "output_type": "stream",
     "text": [
      "Total Gb of pre-fusion body =  [ 0.75398224  0.86707957  0.98017691  1.13097336  1.31946891  1.50796447\n",
      "  1.88495559  2.45044227  3.01592895  3.76991118  4.71238898  5.65486678\n",
      "  6.59734457  7.53982237  8.48230016  9.42477796 11.30973355 13.19468915\n",
      " 15.07964474 16.96460033]  kT\n"
     ]
    }
   ],
   "source": [
    "stressPre = helfrichStress(1/R0,0,2*Kb) # 2*Kb since two membranes\n",
    "\n",
    "GPre = np.zeros(rim_rt.size)\n",
    "for rt in range(0,rim_rt.size):\n",
    "    GPre[rt] = stressPre * 2*R0*np.pi*1.5*rim_rt[rt]\n",
    "\n",
    "prePlot = go.Figure()\n",
    "prePlot.add_trace(go.Scatter(x=rim_rt, y=GPre, mode='markers + lines'))\n",
    "prePlot.update_layout(title=\"Pre-fusion body bending energy\",\n",
    "                        xaxis_title=\"$r_{t,prtr}$ (nm)\", yaxis_title=\"Energy (kT)\")\n",
    "prePlot.show()\n",
    "\n",
    "print(\"Total Gb of pre-fusion body = \",GPre,\" kT\")"
   ]
  },
  {
   "cell_type": "markdown",
   "metadata": {},
   "source": [
    "Validation of my \"simulation parameter\" validation:\n",
    "- Dividing the z axis in to 1+Rt*n steps.  Choosing n=4 appears to be quite sufficient.  The final figure for GPre changes only slightly for n=2-->4, and there is no meaningful difference from n=4-->1000\n",
    "    - Pass!\n",
    "\n",
    "## Computation: post-fusion body rims via z-axis Riemann sum in cylindrical coordinates\n",
    "\n",
    "*Caution: It is tempting to apply Christoph and Rob's (2011 paper) solution for conical pores to this situation.  However, we cannot.  Their conical set-up requires an imagined vertex that the membrane would converge to.  On the other hand, my cylindrical set-up is at a 90 degree rotation (where 0 is a perfectly flat membrane) and would only have such a vertex if the tube radius was infinitely thin.  We must therefore calculate this via direct application of toroidal geometry.*\n",
    "\n",
    "This method poses the problem that each location on the z axis corresponds to 2 angles (except at the end).  However, we can use the same trigonometric method that we used in the previous section:\n",
    "\n",
    "$u_{rim} = \\left\\{ \\pi - arcsin \\left(\\frac{R_t - z}{R_t} \\right) \\cup arcsin \\left(\\frac{R_t - z}{R_t} \\right) \\right\\}$\n",
    "\n",
    "Note that this will double-count $u_{rim} = \\pi/2$, but that shouldn't be a huge problem since its contribution will be small compared to the whole.\n",
    "\n",
    "*The rim energy, GPost, is multiplied by 2 at the end of this calculation to reflect the presumed symmetry on either side of the \"cut\" within the body*"
   ]
  },
  {
   "cell_type": "code",
   "execution_count": 9,
   "metadata": {},
   "outputs": [
    {
     "data": {
      "application/vnd.plotly.v1+json": {
       "config": {
        "plotlyServerURL": "https://plot.ly"
       },
       "data": [
        {
         "mode": "lines",
         "name": "Outside, rt = 2.0 nm",
         "type": "scatter",
         "x": [
          0,
          0.020202020202020204,
          0.04040404040404041,
          0.06060606060606061,
          0.08080808080808081,
          0.10101010101010102,
          0.12121212121212122,
          0.14141414141414144,
          0.16161616161616163,
          0.18181818181818182,
          0.20202020202020204,
          0.22222222222222224,
          0.24242424242424243,
          0.26262626262626265,
          0.2828282828282829,
          0.30303030303030304,
          0.32323232323232326,
          0.3434343434343435,
          0.36363636363636365,
          0.38383838383838387,
          0.4040404040404041,
          0.42424242424242425,
          0.4444444444444445,
          0.4646464646464647,
          0.48484848484848486,
          0.5050505050505051,
          0.5252525252525253,
          0.5454545454545455,
          0.5656565656565657,
          0.5858585858585859,
          0.6060606060606061,
          0.6262626262626263,
          0.6464646464646465,
          0.6666666666666667,
          0.686868686868687,
          0.7070707070707072,
          0.7272727272727273,
          0.7474747474747475,
          0.7676767676767677,
          0.787878787878788,
          0.8080808080808082,
          0.8282828282828284,
          0.8484848484848485,
          0.8686868686868687,
          0.888888888888889,
          0.9090909090909092,
          0.9292929292929294,
          0.9494949494949496,
          0.9696969696969697,
          0.98989898989899,
          1.0101010101010102,
          1.0303030303030305,
          1.0505050505050506,
          1.0707070707070707,
          1.090909090909091,
          1.1111111111111112,
          1.1313131313131315,
          1.1515151515151516,
          1.1717171717171717,
          1.191919191919192,
          1.2121212121212122,
          1.2323232323232325,
          1.2525252525252526,
          1.272727272727273,
          1.292929292929293,
          1.3131313131313131,
          1.3333333333333335,
          1.3535353535353536,
          1.373737373737374,
          1.393939393939394,
          1.4141414141414144,
          1.4343434343434345,
          1.4545454545454546,
          1.474747474747475,
          1.494949494949495,
          1.5151515151515154,
          1.5353535353535355,
          1.5555555555555556,
          1.575757575757576,
          1.595959595959596,
          1.6161616161616164,
          1.6363636363636365,
          1.6565656565656568,
          1.676767676767677,
          1.696969696969697,
          1.7171717171717173,
          1.7373737373737375,
          1.7575757575757578,
          1.777777777777778,
          1.7979797979797982,
          1.8181818181818183,
          1.8383838383838385,
          1.8585858585858588,
          1.878787878787879,
          1.8989898989898992,
          1.9191919191919193,
          1.9393939393939394,
          1.9595959595959598,
          1.97979797979798,
          2
         ],
         "y": [
          1.875,
          1.8778193856209193,
          1.878976466316608,
          1.8798571455851554,
          1.8805935988126945,
          1.8812371581534324,
          1.8818142150776962,
          1.882340484751914,
          1.8828262302062297,
          1.8832785962466214,
          1.883702796391602,
          1.8841027748446362,
          1.8844816022342896,
          1.8848417254049912,
          1.8851851321368986,
          1.8855134637536533,
          1.885828094467146,
          1.886130188742021,
          1.886420743699017,
          1.8867006210705954,
          1.886970571695583,
          1.8872312545795435,
          1.8874832519270806,
          1.887727081141188,
          1.8879632045065047,
          1.8881920370811394,
          1.888413953186726,
          1.8886292917899,
          1.8888383609985258,
          1.8890414418446344,
          1.8892387914878812,
          1.8894306459446026,
          1.8896172224257262,
          1.889798721350053,
          1.8899753280864082,
          1.890147214468088,
          1.8903145401149544,
          1.8904774535922921,
          1.8906360934303987,
          1.8907905890248744,
          1.8909410614342257,
          1.891087624088776,
          1.891230383422625,
          1.891369439438641,
          1.8915048862149366,
          1.8916368123600853,
          1.8917653014232365,
          1.891890432264494,
          1.8920122793901195,
          1.89213091325657,
          1.892246400546799,
          1.8923588044218502,
          1.8924681847503686,
          1.8925745983183153,
          1.892678099020942,
          1.8927787380387737,
          1.8928765639991945,
          1.8929716231250129,
          1.8930639593712502,
          1.8931536145512469,
          1.8932406284530527,
          1.893325038946985,
          1.8934068820851244,
          1.8934861921934552,
          1.89356300195726,
          1.8936373425003452,
          1.8937092434585954,
          1.8937787330483211,
          1.8938458381297938,
          1.8939105842663635,
          1.893972995779479,
          1.8940330957999203,
          1.8940909063155222,
          1.8941464482156403,
          1.8941997413325855,
          1.8942508044802366,
          1.894299655490024,
          1.894346311244444,
          1.8943907877082864,
          1.8944330999576848,
          1.8944732622071518,
          1.8945112878347001,
          1.8945471894051684,
          1.894580978691839,
          1.8946126666964516,
          1.8946422636676907,
          1.8946697791182163,
          1.8946952218403117,
          1.8947185999202107,
          1.8947399207511577,
          1.894759191045251,
          1.8947764168441101,
          1.8947916035284198,
          1.8948047558263759,
          1.894815877821061,
          1.8948249729567905,
          1.894832044044444,
          1.894837093265793,
          1.8948401221768598,
          1.8948411317103058
         ]
        },
        {
         "mode": "lines",
         "name": "Inside, rt = 2.0 nm",
         "type": "scatter",
         "x": [
          0,
          0.020202020202020204,
          0.04040404040404041,
          0.06060606060606061,
          0.08080808080808081,
          0.10101010101010102,
          0.12121212121212122,
          0.14141414141414144,
          0.16161616161616163,
          0.18181818181818182,
          0.20202020202020204,
          0.22222222222222224,
          0.24242424242424243,
          0.26262626262626265,
          0.2828282828282829,
          0.30303030303030304,
          0.32323232323232326,
          0.3434343434343435,
          0.36363636363636365,
          0.38383838383838387,
          0.4040404040404041,
          0.42424242424242425,
          0.4444444444444445,
          0.4646464646464647,
          0.48484848484848486,
          0.5050505050505051,
          0.5252525252525253,
          0.5454545454545455,
          0.5656565656565657,
          0.5858585858585859,
          0.6060606060606061,
          0.6262626262626263,
          0.6464646464646465,
          0.6666666666666667,
          0.686868686868687,
          0.7070707070707072,
          0.7272727272727273,
          0.7474747474747475,
          0.7676767676767677,
          0.787878787878788,
          0.8080808080808082,
          0.8282828282828284,
          0.8484848484848485,
          0.8686868686868687,
          0.888888888888889,
          0.9090909090909092,
          0.9292929292929294,
          0.9494949494949496,
          0.9696969696969697,
          0.98989898989899,
          1.0101010101010102,
          1.0303030303030305,
          1.0505050505050506,
          1.0707070707070707,
          1.090909090909091,
          1.1111111111111112,
          1.1313131313131315,
          1.1515151515151516,
          1.1717171717171717,
          1.191919191919192,
          1.2121212121212122,
          1.2323232323232325,
          1.2525252525252526,
          1.272727272727273,
          1.292929292929293,
          1.3131313131313131,
          1.3333333333333335,
          1.3535353535353536,
          1.373737373737374,
          1.393939393939394,
          1.4141414141414144,
          1.4343434343434345,
          1.4545454545454546,
          1.474747474747475,
          1.494949494949495,
          1.5151515151515154,
          1.5353535353535355,
          1.5555555555555556,
          1.575757575757576,
          1.595959595959596,
          1.6161616161616164,
          1.6363636363636365,
          1.6565656565656568,
          1.676767676767677,
          1.696969696969697,
          1.7171717171717173,
          1.7373737373737375,
          1.7575757575757578,
          1.777777777777778,
          1.7979797979797982,
          1.8181818181818183,
          1.8383838383838385,
          1.8585858585858588,
          1.878787878787879,
          1.8989898989898992,
          1.9191919191919193,
          1.9393939393939394,
          1.9595959595959598,
          1.97979797979798,
          2
         ],
         "y": [
          1.875,
          1.8721784930690288,
          1.8710193126017942,
          1.8701365551001348,
          1.869398045177846,
          1.8687524506806492,
          1.8681733801381486,
          1.8676451183838458,
          1.8671574023875284,
          1.86670308734315,
          1.8662769597321316,
          1.865875075350941,
          1.865494363570947,
          1.865132377547657,
          1.8647871295008478,
          1.8644569781068148,
          1.8641405491536043,
          1.8638366781765108,
          1.8635443680547343,
          1.863262757055753,
          1.8629910943406798,
          1.8627287209038914,
          1.8624750545407276,
          1.8622295778481355,
          1.8619918285414208,
          1.8617613915624172,
          1.861537892589437,
          1.8613209926557894,
          1.8611103836535567,
          1.8609057845506538,
          1.860706938187373,
          1.8605136085473284,
          1.8603255784195392,
          1.8601426473851568,
          1.8599646300753025,
          1.8597913546566358,
          1.8596226615092442,
          1.8594584020677978,
          1.859298437801951,
          1.8591426393160595,
          1.8589908855515698,
          1.8588430630781156,
          1.8586990654615534,
          1.8585587926989735,
          1.8584221507122194,
          1.8582890508926782,
          1.8581594096911578,
          1.8580331482475174,
          1.8579101920554544,
          1.8577904706584754,
          1.8576739173735874,
          1.8575604690397103,
          1.8574500657881647,
          1.8573426508329522,
          1.857238170278788,
          1.8571365729451124,
          1.8570378102045095,
          1.856941835834138,
          1.8568486058789435,
          1.8567580785255562,
          1.8566702139858968,
          1.8565849743896188,
          1.856502323684611,
          1.8564222275448625,
          1.8563446532850636,
          1.856269569781382,
          1.8561969473979059,
          1.8561267579183018,
          1.856058974482273,
          1.8559935715264462,
          1.8559305247293503,
          1.8558698109601834,
          1.8558114082310895,
          1.8557552956526926,
          1.8557014533926621,
          1.8556498626370999,
          1.855600505554558,
          1.8555533652625213,
          1.8555084257961851,
          1.8554656720794003,
          1.8554250898976372,
          1.8553866658728682,
          1.8553503874402426,
          1.8553162428264651,
          1.8552842210297826,
          1.8552543118014997,
          1.8552265056289463,
          1.8552007937198283,
          1.8551771679879017,
          1.8551556210399145,
          1.8551361461637617,
          1.8551187373178153,
          1.8551033891213842,
          1.855090096846268,
          1.8550788564093788,
          1.8550696643663955,
          1.8550625179064386,
          1.8550574148477317,
          1.8550543536342508,
          1.8550533333333337
         ]
        },
        {
         "mode": "lines",
         "name": "Outside, rt = 2.6 nm",
         "type": "scatter",
         "x": [
          0,
          0.12626262626262627,
          0.25252525252525254,
          0.3787878787878788,
          0.5050505050505051,
          0.6313131313131314,
          0.7575757575757576,
          0.8838383838383839,
          1.0101010101010102,
          1.1363636363636365,
          1.2626262626262628,
          1.388888888888889,
          1.5151515151515151,
          1.6414141414141414,
          1.7676767676767677,
          1.893939393939394,
          2.0202020202020203,
          2.1464646464646466,
          2.272727272727273,
          2.3989898989898992,
          2.5252525252525255,
          2.651515151515152,
          2.777777777777778,
          2.9040404040404044,
          3.0303030303030303,
          3.1565656565656566,
          3.282828282828283,
          3.409090909090909,
          3.5353535353535355,
          3.6616161616161618,
          3.787878787878788,
          3.9141414141414144,
          4.040404040404041,
          4.166666666666667,
          4.292929292929293,
          4.41919191919192,
          4.545454545454546,
          4.671717171717172,
          4.7979797979797985,
          4.924242424242425,
          5.050505050505051,
          5.176767676767677,
          5.303030303030304,
          5.42929292929293,
          5.555555555555556,
          5.6818181818181825,
          5.808080808080809,
          5.934343434343435,
          6.0606060606060606,
          6.186868686868687,
          6.313131313131313,
          6.4393939393939394,
          6.565656565656566,
          6.691919191919192,
          6.818181818181818,
          6.944444444444445,
          7.070707070707071,
          7.196969696969697,
          7.3232323232323235,
          7.44949494949495,
          7.575757575757576,
          7.702020202020202,
          7.828282828282829,
          7.954545454545455,
          8.080808080808081,
          8.207070707070708,
          8.333333333333334,
          8.45959595959596,
          8.585858585858587,
          8.712121212121213,
          8.83838383838384,
          8.964646464646465,
          9.090909090909092,
          9.217171717171718,
          9.343434343434344,
          9.46969696969697,
          9.595959595959597,
          9.722222222222223,
          9.84848484848485,
          9.974747474747476,
          10.101010101010102,
          10.227272727272728,
          10.353535353535355,
          10.479797979797981,
          10.606060606060607,
          10.732323232323234,
          10.85858585858586,
          10.984848484848486,
          11.111111111111112,
          11.237373737373739,
          11.363636363636365,
          11.489898989898991,
          11.616161616161618,
          11.742424242424244,
          11.86868686868687,
          11.994949494949497,
          12.121212121212121,
          12.247474747474747,
          12.373737373737374,
          12.5
         ],
         "y": [
          1.1094674556213016,
          1.1116325249767443,
          1.1125209325272565,
          1.1131970639042805,
          1.1137624309244631,
          1.1142564571172204,
          1.1146994113553872,
          1.1151033630199274,
          1.1154761942049356,
          1.11582339218192,
          1.1161489609772501,
          1.116455929772582,
          1.1167466568366469,
          1.1170230213666708,
          1.1172865499946327,
          1.1175385032709697,
          1.1177799366020305,
          1.1180117443065027,
          1.1182346921815352,
          1.1184494420449351,
          1.118656570547256,
          1.1188565838103306,
          1.1190499289722002,
          1.1192370034027237,
          1.1194181621403962,
          1.1195937239533378,
          1.1197639763237086,
          1.119929179580735,
          1.120089570353842,
          1.1202453644779888,
          1.120396759453946,
          1.1205439365442356,
          1.1206870625686698,
          1.1208262914505616,
          1.120961765554721,
          1.1210936168505505,
          1.1212219679274378,
          1.1213469328847572,
          1.121468618114933,
          1.12158712299486,
          1.1217025404984786,
          1.1218149577412189,
          1.1219244564653512,
          1.122031113473906,
          1.122135001019655,
          1.1222361871547124,
          1.122334736045517,
          1.1224307082572775,
          1.1225241610114185,
          1.1226151484190776,
          1.122703721693312,
          1.1227899293423234,
          1.1228738173457202,
          1.1229554293155883,
          1.1230348066439215,
          1.1231119886377814,
          1.1231870126433965,
          1.123259914160261,
          1.1233307269461912,
          1.123399483114172,
          1.1234662132217488,
          1.1235309463536338,
          1.1235937101981186,
          1.1236545311178374,
          1.1237134342153514,
          1.1237704433939963,
          1.1238255814143727,
          1.1238788699468327,
          1.1239303296202832,
          1.1239799800675838,
          1.1240278399678023,
          1.1240739270855642,
          1.1241182583077038,
          1.1241608496774136,
          1.1242017164260685,
          1.1242408730028786,
          1.1242783331025243,
          1.1243141096909008,
          1.1243482150290913,
          1.1243806606956885,
          1.1244114576075521,
          1.124440616039103,
          1.124468145640237,
          1.124494055452929,
          1.1245183539266035,
          1.1245410489323318,
          1.1245621477759118,
          1.124581657209888,
          1.1245995834445528,
          1.1246159321579763,
          1.1246307085051024,
          1.1246439171259444,
          1.1246555621529108,
          1.1246656472172927,
          1.1246741754549308,
          1.1246811495110873,
          1.124686571544538,
          1.1246904432309026,
          1.1246927657652181,
          1.124693539863776
         ]
        },
        {
         "mode": "lines",
         "name": "Inside, rt = 2.6 nm",
         "type": "scatter",
         "x": [
          0,
          0.12626262626262627,
          0.25252525252525254,
          0.3787878787878788,
          0.5050505050505051,
          0.6313131313131314,
          0.7575757575757576,
          0.8838383838383839,
          1.0101010101010102,
          1.1363636363636365,
          1.2626262626262628,
          1.388888888888889,
          1.5151515151515151,
          1.6414141414141414,
          1.7676767676767677,
          1.893939393939394,
          2.0202020202020203,
          2.1464646464646466,
          2.272727272727273,
          2.3989898989898992,
          2.5252525252525255,
          2.651515151515152,
          2.777777777777778,
          2.9040404040404044,
          3.0303030303030303,
          3.1565656565656566,
          3.282828282828283,
          3.409090909090909,
          3.5353535353535355,
          3.6616161616161618,
          3.787878787878788,
          3.9141414141414144,
          4.040404040404041,
          4.166666666666667,
          4.292929292929293,
          4.41919191919192,
          4.545454545454546,
          4.671717171717172,
          4.7979797979797985,
          4.924242424242425,
          5.050505050505051,
          5.176767676767677,
          5.303030303030304,
          5.42929292929293,
          5.555555555555556,
          5.6818181818181825,
          5.808080808080809,
          5.934343434343435,
          6.0606060606060606,
          6.186868686868687,
          6.313131313131313,
          6.4393939393939394,
          6.565656565656566,
          6.691919191919192,
          6.818181818181818,
          6.944444444444445,
          7.070707070707071,
          7.196969696969697,
          7.3232323232323235,
          7.44949494949495,
          7.575757575757576,
          7.702020202020202,
          7.828282828282829,
          7.954545454545455,
          8.080808080808081,
          8.207070707070708,
          8.333333333333334,
          8.45959595959596,
          8.585858585858587,
          8.712121212121213,
          8.83838383838384,
          8.964646464646465,
          9.090909090909092,
          9.217171717171718,
          9.343434343434344,
          9.46969696969697,
          9.595959595959597,
          9.722222222222223,
          9.84848484848485,
          9.974747474747476,
          10.101010101010102,
          10.227272727272728,
          10.353535353535355,
          10.479797979797981,
          10.606060606060607,
          10.732323232323234,
          10.85858585858586,
          10.984848484848486,
          11.111111111111112,
          11.237373737373739,
          11.363636363636365,
          11.489898989898991,
          11.616161616161618,
          11.742424242424244,
          11.86868686868687,
          11.994949494949497,
          12.121212121212121,
          12.247474747474747,
          12.373737373737374,
          12.5
         ],
         "y": [
          1.1094674556213016,
          1.1073002716927207,
          1.1064097710407879,
          1.1057315680339381,
          1.1051641508554049,
          1.1046680959756523,
          1.1042231345217293,
          1.103817197112554,
          1.1034424016539177,
          1.1030932608741977,
          1.102765770746912,
          1.1024569020902923,
          1.1021642966354979,
          1.1018860751851935,
          1.1016207111072922,
          1.1013669438512508,
          1.1011237180106137,
          1.1008901392665915,
          1.1006654418219315,
          1.1004489638587251,
          1.1002401287263182,
          1.1000384303027793,
          1.0998434214499688,
          1.0996547047979313,
          1.0994719253080774,
          1.099294764212192,
          1.0991229340280215,
          1.0989561744262502,
          1.0987942487773597,
          1.0986369412463042,
          1.0984840543322243,
          1.0983354067725106,
          1.098190831747267,
          1.0980501753330953,
          1.0979132951651032,
          1.097780059273806,
          1.0976503450697366,
          1.0975240384534406,
          1.0974010330324164,
          1.097281229429692,
          1.0971645346712515,
          1.0970508616415917,
          1.0969401285983682,
          1.0968322587384793,
          1.0967271798090832,
          1.096624823757996,
          1.0965251264187115,
          1.0964280272259537,
          1.0963334689582334,
          1.0962413975043483,
          1.0961517616511773,
          1.0960645128904585,
          1.0959796052425224,
          1.0958969950952242,
          1.0958166410565118,
          1.095738503819267,
          1.0956625460372056,
          1.0955887322107796,
          1.0955170285821194,
          1.0954474030381884,
          1.0953798250213913,
          1.0953142654469656,
          1.0952506966265723,
          1.095189092197531,
          1.0951294270572336,
          1.0950716773023013,
          1.0950158201720903,
          1.0949618339962066,
          1.0949096981457025,
          1.0948593929876795,
          1.0948108998430317,
          1.094764200947097,
          1.0947192794130054,
          1.0946761191975298,
          1.0946347050692626,
          1.0945950225789622,
          1.0945570580319168,
          1.0945207984622034,
          1.0944862316087087,
          1.0944533458928147,
          1.0944221303976358,
          1.0943925748487267,
          1.0943646695961686,
          1.0943384055979648,
          1.0943137744046698,
          1.0942907681451934,
          1.0942693795137197,
          1.0942496017576873,
          1.0942314286667882,
          1.094214854562938,
          1.0941998742911792,
          1.0941864832114874,
          1.0941746771914431,
          1.094164452599746,
          1.094155806300547,
          1.0941487356485775,
          1.0941432384850553,
          1.094139313134358,
          1.0941369584014433,
          1.0941361735700197
         ]
        },
        {
         "mode": "lines",
         "name": "Outside, rt = 45.0 nm",
         "type": "scatter",
         "x": [
          0,
          0.45454545454545453,
          0.9090909090909091,
          1.3636363636363635,
          1.8181818181818181,
          2.2727272727272725,
          2.727272727272727,
          3.1818181818181817,
          3.6363636363636362,
          4.090909090909091,
          4.545454545454545,
          5,
          5.454545454545454,
          5.909090909090909,
          6.363636363636363,
          6.818181818181818,
          7.2727272727272725,
          7.727272727272727,
          8.181818181818182,
          8.636363636363637,
          9.09090909090909,
          9.545454545454545,
          10,
          10.454545454545455,
          10.909090909090908,
          11.363636363636363,
          11.818181818181818,
          12.272727272727272,
          12.727272727272727,
          13.181818181818182,
          13.636363636363637,
          14.09090909090909,
          14.545454545454545,
          15,
          15.454545454545453,
          15.909090909090908,
          16.363636363636363,
          16.818181818181817,
          17.272727272727273,
          17.727272727272727,
          18.18181818181818,
          18.636363636363637,
          19.09090909090909,
          19.545454545454543,
          20,
          20.454545454545453,
          20.90909090909091,
          21.363636363636363,
          21.818181818181817,
          22.272727272727273,
          22.727272727272727,
          23.18181818181818,
          23.636363636363637,
          24.09090909090909,
          24.545454545454543,
          25,
          25.454545454545453,
          25.909090909090907,
          26.363636363636363,
          26.818181818181817,
          27.272727272727273,
          27.727272727272727,
          28.18181818181818,
          28.636363636363637,
          29.09090909090909,
          29.545454545454543,
          30,
          30.454545454545453,
          30.909090909090907,
          31.363636363636363,
          31.818181818181817,
          32.27272727272727,
          32.72727272727273,
          33.18181818181818,
          33.63636363636363,
          34.090909090909086,
          34.54545454545455,
          35,
          35.45454545454545,
          35.90909090909091,
          36.36363636363636,
          36.81818181818182,
          37.27272727272727,
          37.72727272727273,
          38.18181818181818,
          38.63636363636363,
          39.090909090909086,
          39.54545454545455,
          40,
          40.45454545454545,
          40.90909090909091,
          41.36363636363636,
          41.81818181818182,
          42.27272727272727,
          42.72727272727273,
          43.18181818181818,
          43.63636363636363,
          44.090909090909086,
          44.54545454545455,
          45
         ],
         "y": [
          0.6122448979591836,
          0.6138491421605261,
          0.6145072668096541,
          0.6150080782756442,
          0.6154268060289798,
          0.6157926664834394,
          0.6161206807135731,
          0.6164197932261719,
          0.6166958453683703,
          0.6169529037063851,
          0.6171939355871482,
          0.6174211859091725,
          0.6176364023635931,
          0.6178409776060757,
          0.6180360430094348,
          0.6182225327559109,
          0.6184012289973538,
          0.6185727945050358,
          0.6187377968041027,
          0.618896726361571,
          0.6190500105277924,
          0.6191980243849347,
          0.6193410993028227,
          0.6194795297685424,
          0.6196135788977959,
          0.6197434829266464,
          0.6198694549054222,
          0.6199916877616624,
          0.6201103568592045,
          0.6202256221512978,
          0.6203376300038957,
          0.6204465147489365,
          0.6205524000149988,
          0.6206553998731861,
          0.6207556198287026,
          0.6208531576828131,
          0.6209481042853392,
          0.6210405441942346,
          0.6211305562559023,
          0.6212182141176031,
          0.6213035866814279,
          0.6213867385077788,
          0.6214677301750617,
          0.6215466186012565,
          0.6216234573321893,
          0.621698296800619,
          0.6217711845596666,
          0.6218421654936146,
          0.6219112820086995,
          0.6219785742061532,
          0.6220440800394683,
          0.6221078354575934,
          0.622169874535561,
          0.6222302295938554,
          0.6222889313076715,
          0.6223460088070817,
          0.6224014897690021,
          0.6224554005017537,
          0.6225077660229147,
          0.6225586101310957,
          0.6226079554721866,
          0.6226558236005735,
          0.6227022350357698,
          0.622747209314856,
          0.6227907650410864,
          0.622832919928979,
          0.6228736908461837,
          0.6229130938523774,
          0.6229511442354316,
          0.6229878565450575,
          0.6230232446241208,
          0.6230573216378026,
          0.6230901001007623,
          0.623121591902444,
          0.6231518083306629,
          0.6231807600935786,
          0.6232084573401773,
          0.6232349096793489,
          0.6232601261976553,
          0.623284115475871,
          0.6233068856043668,
          0.6233284441974094,
          0.6233487984064354,
          0.6233679549323582,
          0.6233859200369576,
          0.6234026995534023,
          0.6234182988959427,
          0.6234327230688187,
          0.6234459766744123,
          0.6234580639206823,
          0.6234689886279029,
          0.6234787542347394,
          0.6234873638036761,
          0.6234948200258248,
          0.623501125225124,
          0.6235062813619494,
          0.6235102900361472,
          0.6235131524895012,
          0.623514869607641,
          0.6235154419214025
         ]
        },
        {
         "mode": "lines",
         "name": "Inside, rt = 45.0 nm",
         "type": "scatter",
         "x": [
          0,
          0.45454545454545453,
          0.9090909090909091,
          1.3636363636363635,
          1.8181818181818181,
          2.2727272727272725,
          2.727272727272727,
          3.1818181818181817,
          3.6363636363636362,
          4.090909090909091,
          4.545454545454545,
          5,
          5.454545454545454,
          5.909090909090909,
          6.363636363636363,
          6.818181818181818,
          7.2727272727272725,
          7.727272727272727,
          8.181818181818182,
          8.636363636363637,
          9.09090909090909,
          9.545454545454545,
          10,
          10.454545454545455,
          10.909090909090908,
          11.363636363636363,
          11.818181818181818,
          12.272727272727272,
          12.727272727272727,
          13.181818181818182,
          13.636363636363637,
          14.09090909090909,
          14.545454545454545,
          15,
          15.454545454545453,
          15.909090909090908,
          16.363636363636363,
          16.818181818181817,
          17.272727272727273,
          17.727272727272727,
          18.18181818181818,
          18.636363636363637,
          19.09090909090909,
          19.545454545454543,
          20,
          20.454545454545453,
          20.90909090909091,
          21.363636363636363,
          21.818181818181817,
          22.272727272727273,
          22.727272727272727,
          23.18181818181818,
          23.636363636363637,
          24.09090909090909,
          24.545454545454543,
          25,
          25.454545454545453,
          25.909090909090907,
          26.363636363636363,
          26.818181818181817,
          27.272727272727273,
          27.727272727272727,
          28.18181818181818,
          28.636363636363637,
          29.09090909090909,
          29.545454545454543,
          30,
          30.454545454545453,
          30.909090909090907,
          31.363636363636363,
          31.818181818181817,
          32.27272727272727,
          32.72727272727273,
          33.18181818181818,
          33.63636363636363,
          34.090909090909086,
          34.54545454545455,
          35,
          35.45454545454545,
          35.90909090909091,
          36.36363636363636,
          36.81818181818182,
          37.27272727272727,
          37.72727272727273,
          38.18181818181818,
          38.63636363636363,
          39.090909090909086,
          39.54545454545455,
          40,
          40.45454545454545,
          40.90909090909091,
          41.36363636363636,
          41.81818181818182,
          42.27272727272727,
          42.72727272727273,
          43.18181818181818,
          43.63636363636363,
          44.090909090909086,
          44.54545454545455,
          45
         ],
         "y": [
          0.6122448979591836,
          0.6106385492304534,
          0.6099783414268222,
          0.6094754681789958,
          0.6090547000162748,
          0.6086868205246672,
          0.6083568086294118,
          0.6080557198235083,
          0.6077777127596151,
          0.6075187208713119,
          0.6072757768114632,
          0.6070466356813565,
          0.6068295497896585,
          0.6066231264805082,
          0.6064262343808974,
          0.606237939308395,
          0.6060574591109611,
          0.6058841310171373,
          0.6057173875015934,
          0.6055567380971307,
          0.6054017554532168,
          0.6052520644875068,
          0.6051073338299997,
          0.6049672689934366,
          0.6048316068619443,
          0.6047001111992902,
          0.6045725689549798,
          0.6044487872013093,
          0.6043285905742795,
          0.6042118191204809,
          0.6040983264738019,
          0.6039879783021495,
          0.6038806509767916,
          0.6037762304264731,
          0.6036746111458418,
          0.603575695333486,
          0.6034793921394398,
          0.6033856170056077,
          0.6032942910854463,
          0.6032053407315575,
          0.6031186970417155,
          0.6030342954553847,
          0.6029520753940277,
          0.6028719799395368,
          0.602793955545959,
          0.6027179517804114,
          0.6026439210896514,
          0.6025718185892758,
          0.6025016018729316,
          0.6024332308392708,
          0.6023666675346887,
          0.6023018760101254,
          0.6022388221904399,
          0.6021774737550416,
          0.6021178000286318,
          0.6020597718810359,
          0.602003361635238,
          0.6019485429828206,
          0.6018952909061099,
          0.6018435816064021,
          0.601793392437717,
          0.6017447018455803,
          0.601697489310392,
          0.6016517352949878,
          0.6016074211960322,
          0.6015645292989269,
          0.6015230427359454,
          0.6014829454473357,
          0.601444222145153,
          0.6014068582796164,
          0.6013708400077915,
          0.6013361541644316,
          0.601302788234813,
          0.6012707303294299,
          0.6012399691604087,
          0.6012104940195319,
          0.6011822947577584,
          0.6011553617661464,
          0.601129685958083,
          0.6011052587527459,
          0.6010820720597182,
          0.6010601182646896,
          0.6010393902161824,
          0.6010198812132437,
          0.6010015849940565,
          0.6009844957254181,
          0.6009686079930451,
          0.6009539167926679,
          0.6009404175218759,
          0.6009281059726851,
          0.600916978324797,
          0.6009070311395261,
          0.6008982613543682,
          0.6008906662781953,
          0.6008842435870542,
          0.6008789913205566,
          0.6008749078788463,
          0.600871992020132,
          0.6008702428587781,
          0.6008696598639456
         ]
        }
       ],
       "layout": {
        "autosize": true,
        "template": {
         "data": {
          "bar": [
           {
            "error_x": {
             "color": "#2a3f5f"
            },
            "error_y": {
             "color": "#2a3f5f"
            },
            "marker": {
             "line": {
              "color": "#E5ECF6",
              "width": 0.5
             }
            },
            "type": "bar"
           }
          ],
          "barpolar": [
           {
            "marker": {
             "line": {
              "color": "#E5ECF6",
              "width": 0.5
             }
            },
            "type": "barpolar"
           }
          ],
          "carpet": [
           {
            "aaxis": {
             "endlinecolor": "#2a3f5f",
             "gridcolor": "white",
             "linecolor": "white",
             "minorgridcolor": "white",
             "startlinecolor": "#2a3f5f"
            },
            "baxis": {
             "endlinecolor": "#2a3f5f",
             "gridcolor": "white",
             "linecolor": "white",
             "minorgridcolor": "white",
             "startlinecolor": "#2a3f5f"
            },
            "type": "carpet"
           }
          ],
          "choropleth": [
           {
            "colorbar": {
             "outlinewidth": 0,
             "ticks": ""
            },
            "type": "choropleth"
           }
          ],
          "contour": [
           {
            "colorbar": {
             "outlinewidth": 0,
             "ticks": ""
            },
            "colorscale": [
             [
              0,
              "#0d0887"
             ],
             [
              0.1111111111111111,
              "#46039f"
             ],
             [
              0.2222222222222222,
              "#7201a8"
             ],
             [
              0.3333333333333333,
              "#9c179e"
             ],
             [
              0.4444444444444444,
              "#bd3786"
             ],
             [
              0.5555555555555556,
              "#d8576b"
             ],
             [
              0.6666666666666666,
              "#ed7953"
             ],
             [
              0.7777777777777778,
              "#fb9f3a"
             ],
             [
              0.8888888888888888,
              "#fdca26"
             ],
             [
              1,
              "#f0f921"
             ]
            ],
            "type": "contour"
           }
          ],
          "contourcarpet": [
           {
            "colorbar": {
             "outlinewidth": 0,
             "ticks": ""
            },
            "type": "contourcarpet"
           }
          ],
          "heatmap": [
           {
            "colorbar": {
             "outlinewidth": 0,
             "ticks": ""
            },
            "colorscale": [
             [
              0,
              "#0d0887"
             ],
             [
              0.1111111111111111,
              "#46039f"
             ],
             [
              0.2222222222222222,
              "#7201a8"
             ],
             [
              0.3333333333333333,
              "#9c179e"
             ],
             [
              0.4444444444444444,
              "#bd3786"
             ],
             [
              0.5555555555555556,
              "#d8576b"
             ],
             [
              0.6666666666666666,
              "#ed7953"
             ],
             [
              0.7777777777777778,
              "#fb9f3a"
             ],
             [
              0.8888888888888888,
              "#fdca26"
             ],
             [
              1,
              "#f0f921"
             ]
            ],
            "type": "heatmap"
           }
          ],
          "heatmapgl": [
           {
            "colorbar": {
             "outlinewidth": 0,
             "ticks": ""
            },
            "colorscale": [
             [
              0,
              "#0d0887"
             ],
             [
              0.1111111111111111,
              "#46039f"
             ],
             [
              0.2222222222222222,
              "#7201a8"
             ],
             [
              0.3333333333333333,
              "#9c179e"
             ],
             [
              0.4444444444444444,
              "#bd3786"
             ],
             [
              0.5555555555555556,
              "#d8576b"
             ],
             [
              0.6666666666666666,
              "#ed7953"
             ],
             [
              0.7777777777777778,
              "#fb9f3a"
             ],
             [
              0.8888888888888888,
              "#fdca26"
             ],
             [
              1,
              "#f0f921"
             ]
            ],
            "type": "heatmapgl"
           }
          ],
          "histogram": [
           {
            "marker": {
             "colorbar": {
              "outlinewidth": 0,
              "ticks": ""
             }
            },
            "type": "histogram"
           }
          ],
          "histogram2d": [
           {
            "colorbar": {
             "outlinewidth": 0,
             "ticks": ""
            },
            "colorscale": [
             [
              0,
              "#0d0887"
             ],
             [
              0.1111111111111111,
              "#46039f"
             ],
             [
              0.2222222222222222,
              "#7201a8"
             ],
             [
              0.3333333333333333,
              "#9c179e"
             ],
             [
              0.4444444444444444,
              "#bd3786"
             ],
             [
              0.5555555555555556,
              "#d8576b"
             ],
             [
              0.6666666666666666,
              "#ed7953"
             ],
             [
              0.7777777777777778,
              "#fb9f3a"
             ],
             [
              0.8888888888888888,
              "#fdca26"
             ],
             [
              1,
              "#f0f921"
             ]
            ],
            "type": "histogram2d"
           }
          ],
          "histogram2dcontour": [
           {
            "colorbar": {
             "outlinewidth": 0,
             "ticks": ""
            },
            "colorscale": [
             [
              0,
              "#0d0887"
             ],
             [
              0.1111111111111111,
              "#46039f"
             ],
             [
              0.2222222222222222,
              "#7201a8"
             ],
             [
              0.3333333333333333,
              "#9c179e"
             ],
             [
              0.4444444444444444,
              "#bd3786"
             ],
             [
              0.5555555555555556,
              "#d8576b"
             ],
             [
              0.6666666666666666,
              "#ed7953"
             ],
             [
              0.7777777777777778,
              "#fb9f3a"
             ],
             [
              0.8888888888888888,
              "#fdca26"
             ],
             [
              1,
              "#f0f921"
             ]
            ],
            "type": "histogram2dcontour"
           }
          ],
          "mesh3d": [
           {
            "colorbar": {
             "outlinewidth": 0,
             "ticks": ""
            },
            "type": "mesh3d"
           }
          ],
          "parcoords": [
           {
            "line": {
             "colorbar": {
              "outlinewidth": 0,
              "ticks": ""
             }
            },
            "type": "parcoords"
           }
          ],
          "pie": [
           {
            "automargin": true,
            "type": "pie"
           }
          ],
          "scatter": [
           {
            "marker": {
             "colorbar": {
              "outlinewidth": 0,
              "ticks": ""
             }
            },
            "type": "scatter"
           }
          ],
          "scatter3d": [
           {
            "line": {
             "colorbar": {
              "outlinewidth": 0,
              "ticks": ""
             }
            },
            "marker": {
             "colorbar": {
              "outlinewidth": 0,
              "ticks": ""
             }
            },
            "type": "scatter3d"
           }
          ],
          "scattercarpet": [
           {
            "marker": {
             "colorbar": {
              "outlinewidth": 0,
              "ticks": ""
             }
            },
            "type": "scattercarpet"
           }
          ],
          "scattergeo": [
           {
            "marker": {
             "colorbar": {
              "outlinewidth": 0,
              "ticks": ""
             }
            },
            "type": "scattergeo"
           }
          ],
          "scattergl": [
           {
            "marker": {
             "colorbar": {
              "outlinewidth": 0,
              "ticks": ""
             }
            },
            "type": "scattergl"
           }
          ],
          "scattermapbox": [
           {
            "marker": {
             "colorbar": {
              "outlinewidth": 0,
              "ticks": ""
             }
            },
            "type": "scattermapbox"
           }
          ],
          "scatterpolar": [
           {
            "marker": {
             "colorbar": {
              "outlinewidth": 0,
              "ticks": ""
             }
            },
            "type": "scatterpolar"
           }
          ],
          "scatterpolargl": [
           {
            "marker": {
             "colorbar": {
              "outlinewidth": 0,
              "ticks": ""
             }
            },
            "type": "scatterpolargl"
           }
          ],
          "scatterternary": [
           {
            "marker": {
             "colorbar": {
              "outlinewidth": 0,
              "ticks": ""
             }
            },
            "type": "scatterternary"
           }
          ],
          "surface": [
           {
            "colorbar": {
             "outlinewidth": 0,
             "ticks": ""
            },
            "colorscale": [
             [
              0,
              "#0d0887"
             ],
             [
              0.1111111111111111,
              "#46039f"
             ],
             [
              0.2222222222222222,
              "#7201a8"
             ],
             [
              0.3333333333333333,
              "#9c179e"
             ],
             [
              0.4444444444444444,
              "#bd3786"
             ],
             [
              0.5555555555555556,
              "#d8576b"
             ],
             [
              0.6666666666666666,
              "#ed7953"
             ],
             [
              0.7777777777777778,
              "#fb9f3a"
             ],
             [
              0.8888888888888888,
              "#fdca26"
             ],
             [
              1,
              "#f0f921"
             ]
            ],
            "type": "surface"
           }
          ],
          "table": [
           {
            "cells": {
             "fill": {
              "color": "#EBF0F8"
             },
             "line": {
              "color": "white"
             }
            },
            "header": {
             "fill": {
              "color": "#C8D4E3"
             },
             "line": {
              "color": "white"
             }
            },
            "type": "table"
           }
          ]
         },
         "layout": {
          "annotationdefaults": {
           "arrowcolor": "#2a3f5f",
           "arrowhead": 0,
           "arrowwidth": 1
          },
          "coloraxis": {
           "colorbar": {
            "outlinewidth": 0,
            "ticks": ""
           }
          },
          "colorscale": {
           "diverging": [
            [
             0,
             "#8e0152"
            ],
            [
             0.1,
             "#c51b7d"
            ],
            [
             0.2,
             "#de77ae"
            ],
            [
             0.3,
             "#f1b6da"
            ],
            [
             0.4,
             "#fde0ef"
            ],
            [
             0.5,
             "#f7f7f7"
            ],
            [
             0.6,
             "#e6f5d0"
            ],
            [
             0.7,
             "#b8e186"
            ],
            [
             0.8,
             "#7fbc41"
            ],
            [
             0.9,
             "#4d9221"
            ],
            [
             1,
             "#276419"
            ]
           ],
           "sequential": [
            [
             0,
             "#0d0887"
            ],
            [
             0.1111111111111111,
             "#46039f"
            ],
            [
             0.2222222222222222,
             "#7201a8"
            ],
            [
             0.3333333333333333,
             "#9c179e"
            ],
            [
             0.4444444444444444,
             "#bd3786"
            ],
            [
             0.5555555555555556,
             "#d8576b"
            ],
            [
             0.6666666666666666,
             "#ed7953"
            ],
            [
             0.7777777777777778,
             "#fb9f3a"
            ],
            [
             0.8888888888888888,
             "#fdca26"
            ],
            [
             1,
             "#f0f921"
            ]
           ],
           "sequentialminus": [
            [
             0,
             "#0d0887"
            ],
            [
             0.1111111111111111,
             "#46039f"
            ],
            [
             0.2222222222222222,
             "#7201a8"
            ],
            [
             0.3333333333333333,
             "#9c179e"
            ],
            [
             0.4444444444444444,
             "#bd3786"
            ],
            [
             0.5555555555555556,
             "#d8576b"
            ],
            [
             0.6666666666666666,
             "#ed7953"
            ],
            [
             0.7777777777777778,
             "#fb9f3a"
            ],
            [
             0.8888888888888888,
             "#fdca26"
            ],
            [
             1,
             "#f0f921"
            ]
           ]
          },
          "colorway": [
           "#636efa",
           "#EF553B",
           "#00cc96",
           "#ab63fa",
           "#FFA15A",
           "#19d3f3",
           "#FF6692",
           "#B6E880",
           "#FF97FF",
           "#FECB52"
          ],
          "font": {
           "color": "#2a3f5f"
          },
          "geo": {
           "bgcolor": "white",
           "lakecolor": "white",
           "landcolor": "#E5ECF6",
           "showlakes": true,
           "showland": true,
           "subunitcolor": "white"
          },
          "hoverlabel": {
           "align": "left"
          },
          "hovermode": "closest",
          "mapbox": {
           "style": "light"
          },
          "paper_bgcolor": "white",
          "plot_bgcolor": "#E5ECF6",
          "polar": {
           "angularaxis": {
            "gridcolor": "white",
            "linecolor": "white",
            "ticks": ""
           },
           "bgcolor": "#E5ECF6",
           "radialaxis": {
            "gridcolor": "white",
            "linecolor": "white",
            "ticks": ""
           }
          },
          "scene": {
           "xaxis": {
            "backgroundcolor": "#E5ECF6",
            "gridcolor": "white",
            "gridwidth": 2,
            "linecolor": "white",
            "showbackground": true,
            "ticks": "",
            "zerolinecolor": "white"
           },
           "yaxis": {
            "backgroundcolor": "#E5ECF6",
            "gridcolor": "white",
            "gridwidth": 2,
            "linecolor": "white",
            "showbackground": true,
            "ticks": "",
            "zerolinecolor": "white"
           },
           "zaxis": {
            "backgroundcolor": "#E5ECF6",
            "gridcolor": "white",
            "gridwidth": 2,
            "linecolor": "white",
            "showbackground": true,
            "ticks": "",
            "zerolinecolor": "white"
           }
          },
          "shapedefaults": {
           "line": {
            "color": "#2a3f5f"
           }
          },
          "ternary": {
           "aaxis": {
            "gridcolor": "white",
            "linecolor": "white",
            "ticks": ""
           },
           "baxis": {
            "gridcolor": "white",
            "linecolor": "white",
            "ticks": ""
           },
           "bgcolor": "#E5ECF6",
           "caxis": {
            "gridcolor": "white",
            "linecolor": "white",
            "ticks": ""
           }
          },
          "title": {
           "x": 0.05
          },
          "xaxis": {
           "automargin": true,
           "gridcolor": "white",
           "linecolor": "white",
           "ticks": "",
           "title": {
            "standoff": 15
           },
           "zerolinecolor": "white",
           "zerolinewidth": 2
          },
          "yaxis": {
           "automargin": true,
           "gridcolor": "white",
           "linecolor": "white",
           "ticks": "",
           "title": {
            "standoff": 15
           },
           "zerolinecolor": "white",
           "zerolinewidth": 2
          }
         }
        },
        "title": {
         "text": "Post-fusion body stress profile"
        },
        "xaxis": {
         "autorange": true,
         "range": [
          0,
          45
         ],
         "title": {
          "text": "z (nm)"
         },
         "type": "linear"
        },
        "yaxis": {
         "autorange": true,
         "range": [
          0.5289823558724811,
          1.9667284357017703
         ],
         "title": {
          "text": "Stress (kT/nm^2)"
         },
         "type": "linear"
        }
       }
      },
      "image/png": "[encoded data removed]",
      "text/html": [
       "<div>                            <div id=\"2d399ffb-8798-4fc3-802d-73cd39fc0077\" class=\"plotly-graph-div\" style=\"height:525px; width:100%;\"></div>            <script type=\"text/javascript\">                require([\"plotly\"], function(Plotly) {                    window.PLOTLYENV=window.PLOTLYENV || {};                                    if (document.getElementById(\"2d399ffb-8798-4fc3-802d-73cd39fc0077\")) {                    Plotly.newPlot(                        \"2d399ffb-8798-4fc3-802d-73cd39fc0077\",                        [{\"mode\": \"lines\", \"name\": \"Outside, rt = 2.0 nm\", \"type\": \"scatter\", \"x\": [0.0, 0.020202020202020204, 0.04040404040404041, 0.06060606060606061, 0.08080808080808081, 0.10101010101010102, 0.12121212121212122, 0.14141414141414144, 0.16161616161616163, 0.18181818181818182, 0.20202020202020204, 0.22222222222222224, 0.24242424242424243, 0.26262626262626265, 0.2828282828282829, 0.30303030303030304, 0.32323232323232326, 0.3434343434343435, 0.36363636363636365, 0.38383838383838387, 0.4040404040404041, 0.42424242424242425, 0.4444444444444445, 0.4646464646464647, 0.48484848484848486, 0.5050505050505051, 0.5252525252525253, 0.5454545454545455, 0.5656565656565657, 0.5858585858585859, 0.6060606060606061, 0.6262626262626263, 0.6464646464646465, 0.6666666666666667, 0.686868686868687, 0.7070707070707072, 0.7272727272727273, 0.7474747474747475, 0.7676767676767677, 0.787878787878788, 0.8080808080808082, 0.8282828282828284, 0.8484848484848485, 0.8686868686868687, 0.888888888888889, 0.9090909090909092, 0.9292929292929294, 0.9494949494949496, 0.9696969696969697, 0.98989898989899, 1.0101010101010102, 1.0303030303030305, 1.0505050505050506, 1.0707070707070707, 1.090909090909091, 1.1111111111111112, 1.1313131313131315, 1.1515151515151516, 1.1717171717171717, 1.191919191919192, 1.2121212121212122, 1.2323232323232325, 1.2525252525252526, 1.272727272727273, 1.292929292929293, 1.3131313131313131, 1.3333333333333335, 1.3535353535353536, 1.373737373737374, 1.393939393939394, 1.4141414141414144, 1.4343434343434345, 1.4545454545454546, 1.474747474747475, 1.494949494949495, 1.5151515151515154, 1.5353535353535355, 1.5555555555555556, 1.575757575757576, 1.595959595959596, 1.6161616161616164, 1.6363636363636365, 1.6565656565656568, 1.676767676767677, 1.696969696969697, 1.7171717171717173, 1.7373737373737375, 1.7575757575757578, 1.777777777777778, 1.7979797979797982, 1.8181818181818183, 1.8383838383838385, 1.8585858585858588, 1.878787878787879, 1.8989898989898992, 1.9191919191919193, 1.9393939393939394, 1.9595959595959598, 1.97979797979798, 2.0], \"y\": [1.875, 1.8778193856209193, 1.878976466316608, 1.8798571455851554, 1.8805935988126945, 1.8812371581534324, 1.8818142150776962, 1.882340484751914, 1.8828262302062297, 1.8832785962466214, 1.883702796391602, 1.8841027748446362, 1.8844816022342896, 1.8848417254049912, 1.8851851321368986, 1.8855134637536533, 1.885828094467146, 1.886130188742021, 1.886420743699017, 1.8867006210705954, 1.886970571695583, 1.8872312545795435, 1.8874832519270806, 1.887727081141188, 1.8879632045065047, 1.8881920370811394, 1.888413953186726, 1.8886292917899, 1.8888383609985258, 1.8890414418446344, 1.8892387914878812, 1.8894306459446026, 1.8896172224257262, 1.889798721350053, 1.8899753280864082, 1.890147214468088, 1.8903145401149544, 1.8904774535922921, 1.8906360934303987, 1.8907905890248744, 1.8909410614342257, 1.891087624088776, 1.891230383422625, 1.891369439438641, 1.8915048862149366, 1.8916368123600853, 1.8917653014232365, 1.891890432264494, 1.8920122793901195, 1.89213091325657, 1.892246400546799, 1.8923588044218502, 1.8924681847503686, 1.8925745983183153, 1.892678099020942, 1.8927787380387737, 1.8928765639991945, 1.8929716231250129, 1.8930639593712502, 1.8931536145512469, 1.8932406284530527, 1.893325038946985, 1.8934068820851244, 1.8934861921934552, 1.89356300195726, 1.8936373425003452, 1.8937092434585954, 1.8937787330483211, 1.8938458381297938, 1.8939105842663635, 1.893972995779479, 1.8940330957999203, 1.8940909063155222, 1.8941464482156403, 1.8941997413325855, 1.8942508044802366, 1.894299655490024, 1.894346311244444, 1.8943907877082864, 1.8944330999576848, 1.8944732622071518, 1.8945112878347001, 1.8945471894051684, 1.894580978691839, 1.8946126666964516, 1.8946422636676907, 1.8946697791182163, 1.8946952218403117, 1.8947185999202107, 1.8947399207511577, 1.894759191045251, 1.8947764168441101, 1.8947916035284198, 1.8948047558263759, 1.894815877821061, 1.8948249729567905, 1.894832044044444, 1.894837093265793, 1.8948401221768598, 1.8948411317103058]}, {\"mode\": \"lines\", \"name\": \"Inside, rt = 2.0 nm\", \"type\": \"scatter\", \"x\": [0.0, 0.020202020202020204, 0.04040404040404041, 0.06060606060606061, 0.08080808080808081, 0.10101010101010102, 0.12121212121212122, 0.14141414141414144, 0.16161616161616163, 0.18181818181818182, 0.20202020202020204, 0.22222222222222224, 0.24242424242424243, 0.26262626262626265, 0.2828282828282829, 0.30303030303030304, 0.32323232323232326, 0.3434343434343435, 0.36363636363636365, 0.38383838383838387, 0.4040404040404041, 0.42424242424242425, 0.4444444444444445, 0.4646464646464647, 0.48484848484848486, 0.5050505050505051, 0.5252525252525253, 0.5454545454545455, 0.5656565656565657, 0.5858585858585859, 0.6060606060606061, 0.6262626262626263, 0.6464646464646465, 0.6666666666666667, 0.686868686868687, 0.7070707070707072, 0.7272727272727273, 0.7474747474747475, 0.7676767676767677, 0.787878787878788, 0.8080808080808082, 0.8282828282828284, 0.8484848484848485, 0.8686868686868687, 0.888888888888889, 0.9090909090909092, 0.9292929292929294, 0.9494949494949496, 0.9696969696969697, 0.98989898989899, 1.0101010101010102, 1.0303030303030305, 1.0505050505050506, 1.0707070707070707, 1.090909090909091, 1.1111111111111112, 1.1313131313131315, 1.1515151515151516, 1.1717171717171717, 1.191919191919192, 1.2121212121212122, 1.2323232323232325, 1.2525252525252526, 1.272727272727273, 1.292929292929293, 1.3131313131313131, 1.3333333333333335, 1.3535353535353536, 1.373737373737374, 1.393939393939394, 1.4141414141414144, 1.4343434343434345, 1.4545454545454546, 1.474747474747475, 1.494949494949495, 1.5151515151515154, 1.5353535353535355, 1.5555555555555556, 1.575757575757576, 1.595959595959596, 1.6161616161616164, 1.6363636363636365, 1.6565656565656568, 1.676767676767677, 1.696969696969697, 1.7171717171717173, 1.7373737373737375, 1.7575757575757578, 1.777777777777778, 1.7979797979797982, 1.8181818181818183, 1.8383838383838385, 1.8585858585858588, 1.878787878787879, 1.8989898989898992, 1.9191919191919193, 1.9393939393939394, 1.9595959595959598, 1.97979797979798, 2.0], \"y\": [1.875, 1.8721784930690288, 1.8710193126017942, 1.8701365551001348, 1.869398045177846, 1.8687524506806492, 1.8681733801381486, 1.8676451183838458, 1.8671574023875284, 1.86670308734315, 1.8662769597321316, 1.865875075350941, 1.865494363570947, 1.865132377547657, 1.8647871295008478, 1.8644569781068148, 1.8641405491536043, 1.8638366781765108, 1.8635443680547343, 1.863262757055753, 1.8629910943406798, 1.8627287209038914, 1.8624750545407276, 1.8622295778481355, 1.8619918285414208, 1.8617613915624172, 1.861537892589437, 1.8613209926557894, 1.8611103836535567, 1.8609057845506538, 1.860706938187373, 1.8605136085473284, 1.8603255784195392, 1.8601426473851568, 1.8599646300753025, 1.8597913546566358, 1.8596226615092442, 1.8594584020677978, 1.859298437801951, 1.8591426393160595, 1.8589908855515698, 1.8588430630781156, 1.8586990654615534, 1.8585587926989735, 1.8584221507122194, 1.8582890508926782, 1.8581594096911578, 1.8580331482475174, 1.8579101920554544, 1.8577904706584754, 1.8576739173735874, 1.8575604690397103, 1.8574500657881647, 1.8573426508329522, 1.857238170278788, 1.8571365729451124, 1.8570378102045095, 1.856941835834138, 1.8568486058789435, 1.8567580785255562, 1.8566702139858968, 1.8565849743896188, 1.856502323684611, 1.8564222275448625, 1.8563446532850636, 1.856269569781382, 1.8561969473979059, 1.8561267579183018, 1.856058974482273, 1.8559935715264462, 1.8559305247293503, 1.8558698109601834, 1.8558114082310895, 1.8557552956526926, 1.8557014533926621, 1.8556498626370999, 1.855600505554558, 1.8555533652625213, 1.8555084257961851, 1.8554656720794003, 1.8554250898976372, 1.8553866658728682, 1.8553503874402426, 1.8553162428264651, 1.8552842210297826, 1.8552543118014997, 1.8552265056289463, 1.8552007937198283, 1.8551771679879017, 1.8551556210399145, 1.8551361461637617, 1.8551187373178153, 1.8551033891213842, 1.855090096846268, 1.8550788564093788, 1.8550696643663955, 1.8550625179064386, 1.8550574148477317, 1.8550543536342508, 1.8550533333333337]}, {\"mode\": \"lines\", \"name\": \"Outside, rt = 2.6 nm\", \"type\": \"scatter\", \"x\": [0.0, 0.12626262626262627, 0.25252525252525254, 0.3787878787878788, 0.5050505050505051, 0.6313131313131314, 0.7575757575757576, 0.8838383838383839, 1.0101010101010102, 1.1363636363636365, 1.2626262626262628, 1.388888888888889, 1.5151515151515151, 1.6414141414141414, 1.7676767676767677, 1.893939393939394, 2.0202020202020203, 2.1464646464646466, 2.272727272727273, 2.3989898989898992, 2.5252525252525255, 2.651515151515152, 2.777777777777778, 2.9040404040404044, 3.0303030303030303, 3.1565656565656566, 3.282828282828283, 3.409090909090909, 3.5353535353535355, 3.6616161616161618, 3.787878787878788, 3.9141414141414144, 4.040404040404041, 4.166666666666667, 4.292929292929293, 4.41919191919192, 4.545454545454546, 4.671717171717172, 4.7979797979797985, 4.924242424242425, 5.050505050505051, 5.176767676767677, 5.303030303030304, 5.42929292929293, 5.555555555555556, 5.6818181818181825, 5.808080808080809, 5.934343434343435, 6.0606060606060606, 6.186868686868687, 6.313131313131313, 6.4393939393939394, 6.565656565656566, 6.691919191919192, 6.818181818181818, 6.944444444444445, 7.070707070707071, 7.196969696969697, 7.3232323232323235, 7.44949494949495, 7.575757575757576, 7.702020202020202, 7.828282828282829, 7.954545454545455, 8.080808080808081, 8.207070707070708, 8.333333333333334, 8.45959595959596, 8.585858585858587, 8.712121212121213, 8.83838383838384, 8.964646464646465, 9.090909090909092, 9.217171717171718, 9.343434343434344, 9.46969696969697, 9.595959595959597, 9.722222222222223, 9.84848484848485, 9.974747474747476, 10.101010101010102, 10.227272727272728, 10.353535353535355, 10.479797979797981, 10.606060606060607, 10.732323232323234, 10.85858585858586, 10.984848484848486, 11.111111111111112, 11.237373737373739, 11.363636363636365, 11.489898989898991, 11.616161616161618, 11.742424242424244, 11.86868686868687, 11.994949494949497, 12.121212121212121, 12.247474747474747, 12.373737373737374, 12.5], \"y\": [1.1094674556213016, 1.1116325249767443, 1.1125209325272565, 1.1131970639042805, 1.1137624309244631, 1.1142564571172204, 1.1146994113553872, 1.1151033630199274, 1.1154761942049356, 1.11582339218192, 1.1161489609772501, 1.116455929772582, 1.1167466568366469, 1.1170230213666708, 1.1172865499946327, 1.1175385032709697, 1.1177799366020305, 1.1180117443065027, 1.1182346921815352, 1.1184494420449351, 1.118656570547256, 1.1188565838103306, 1.1190499289722002, 1.1192370034027237, 1.1194181621403962, 1.1195937239533378, 1.1197639763237086, 1.119929179580735, 1.120089570353842, 1.1202453644779888, 1.120396759453946, 1.1205439365442356, 1.1206870625686698, 1.1208262914505616, 1.120961765554721, 1.1210936168505505, 1.1212219679274378, 1.1213469328847572, 1.121468618114933, 1.12158712299486, 1.1217025404984786, 1.1218149577412189, 1.1219244564653512, 1.122031113473906, 1.122135001019655, 1.1222361871547124, 1.122334736045517, 1.1224307082572775, 1.1225241610114185, 1.1226151484190776, 1.122703721693312, 1.1227899293423234, 1.1228738173457202, 1.1229554293155883, 1.1230348066439215, 1.1231119886377814, 1.1231870126433965, 1.123259914160261, 1.1233307269461912, 1.123399483114172, 1.1234662132217488, 1.1235309463536338, 1.1235937101981186, 1.1236545311178374, 1.1237134342153514, 1.1237704433939963, 1.1238255814143727, 1.1238788699468327, 1.1239303296202832, 1.1239799800675838, 1.1240278399678023, 1.1240739270855642, 1.1241182583077038, 1.1241608496774136, 1.1242017164260685, 1.1242408730028786, 1.1242783331025243, 1.1243141096909008, 1.1243482150290913, 1.1243806606956885, 1.1244114576075521, 1.124440616039103, 1.124468145640237, 1.124494055452929, 1.1245183539266035, 1.1245410489323318, 1.1245621477759118, 1.124581657209888, 1.1245995834445528, 1.1246159321579763, 1.1246307085051024, 1.1246439171259444, 1.1246555621529108, 1.1246656472172927, 1.1246741754549308, 1.1246811495110873, 1.124686571544538, 1.1246904432309026, 1.1246927657652181, 1.124693539863776]}, {\"mode\": \"lines\", \"name\": \"Inside, rt = 2.6 nm\", \"type\": \"scatter\", \"x\": [0.0, 0.12626262626262627, 0.25252525252525254, 0.3787878787878788, 0.5050505050505051, 0.6313131313131314, 0.7575757575757576, 0.8838383838383839, 1.0101010101010102, 1.1363636363636365, 1.2626262626262628, 1.388888888888889, 1.5151515151515151, 1.6414141414141414, 1.7676767676767677, 1.893939393939394, 2.0202020202020203, 2.1464646464646466, 2.272727272727273, 2.3989898989898992, 2.5252525252525255, 2.651515151515152, 2.777777777777778, 2.9040404040404044, 3.0303030303030303, 3.1565656565656566, 3.282828282828283, 3.409090909090909, 3.5353535353535355, 3.6616161616161618, 3.787878787878788, 3.9141414141414144, 4.040404040404041, 4.166666666666667, 4.292929292929293, 4.41919191919192, 4.545454545454546, 4.671717171717172, 4.7979797979797985, 4.924242424242425, 5.050505050505051, 5.176767676767677, 5.303030303030304, 5.42929292929293, 5.555555555555556, 5.6818181818181825, 5.808080808080809, 5.934343434343435, 6.0606060606060606, 6.186868686868687, 6.313131313131313, 6.4393939393939394, 6.565656565656566, 6.691919191919192, 6.818181818181818, 6.944444444444445, 7.070707070707071, 7.196969696969697, 7.3232323232323235, 7.44949494949495, 7.575757575757576, 7.702020202020202, 7.828282828282829, 7.954545454545455, 8.080808080808081, 8.207070707070708, 8.333333333333334, 8.45959595959596, 8.585858585858587, 8.712121212121213, 8.83838383838384, 8.964646464646465, 9.090909090909092, 9.217171717171718, 9.343434343434344, 9.46969696969697, 9.595959595959597, 9.722222222222223, 9.84848484848485, 9.974747474747476, 10.101010101010102, 10.227272727272728, 10.353535353535355, 10.479797979797981, 10.606060606060607, 10.732323232323234, 10.85858585858586, 10.984848484848486, 11.111111111111112, 11.237373737373739, 11.363636363636365, 11.489898989898991, 11.616161616161618, 11.742424242424244, 11.86868686868687, 11.994949494949497, 12.121212121212121, 12.247474747474747, 12.373737373737374, 12.5], \"y\": [1.1094674556213016, 1.1073002716927207, 1.1064097710407879, 1.1057315680339381, 1.1051641508554049, 1.1046680959756523, 1.1042231345217293, 1.103817197112554, 1.1034424016539177, 1.1030932608741977, 1.102765770746912, 1.1024569020902923, 1.1021642966354979, 1.1018860751851935, 1.1016207111072922, 1.1013669438512508, 1.1011237180106137, 1.1008901392665915, 1.1006654418219315, 1.1004489638587251, 1.1002401287263182, 1.1000384303027793, 1.0998434214499688, 1.0996547047979313, 1.0994719253080774, 1.099294764212192, 1.0991229340280215, 1.0989561744262502, 1.0987942487773597, 1.0986369412463042, 1.0984840543322243, 1.0983354067725106, 1.098190831747267, 1.0980501753330953, 1.0979132951651032, 1.097780059273806, 1.0976503450697366, 1.0975240384534406, 1.0974010330324164, 1.097281229429692, 1.0971645346712515, 1.0970508616415917, 1.0969401285983682, 1.0968322587384793, 1.0967271798090832, 1.096624823757996, 1.0965251264187115, 1.0964280272259537, 1.0963334689582334, 1.0962413975043483, 1.0961517616511773, 1.0960645128904585, 1.0959796052425224, 1.0958969950952242, 1.0958166410565118, 1.095738503819267, 1.0956625460372056, 1.0955887322107796, 1.0955170285821194, 1.0954474030381884, 1.0953798250213913, 1.0953142654469656, 1.0952506966265723, 1.095189092197531, 1.0951294270572336, 1.0950716773023013, 1.0950158201720903, 1.0949618339962066, 1.0949096981457025, 1.0948593929876795, 1.0948108998430317, 1.094764200947097, 1.0947192794130054, 1.0946761191975298, 1.0946347050692626, 1.0945950225789622, 1.0945570580319168, 1.0945207984622034, 1.0944862316087087, 1.0944533458928147, 1.0944221303976358, 1.0943925748487267, 1.0943646695961686, 1.0943384055979648, 1.0943137744046698, 1.0942907681451934, 1.0942693795137197, 1.0942496017576873, 1.0942314286667882, 1.094214854562938, 1.0941998742911792, 1.0941864832114874, 1.0941746771914431, 1.094164452599746, 1.094155806300547, 1.0941487356485775, 1.0941432384850553, 1.094139313134358, 1.0941369584014433, 1.0941361735700197]}, {\"mode\": \"lines\", \"name\": \"Outside, rt = 45.0 nm\", \"type\": \"scatter\", \"x\": [0.0, 0.45454545454545453, 0.9090909090909091, 1.3636363636363635, 1.8181818181818181, 2.2727272727272725, 2.727272727272727, 3.1818181818181817, 3.6363636363636362, 4.090909090909091, 4.545454545454545, 5.0, 5.454545454545454, 5.909090909090909, 6.363636363636363, 6.818181818181818, 7.2727272727272725, 7.727272727272727, 8.181818181818182, 8.636363636363637, 9.09090909090909, 9.545454545454545, 10.0, 10.454545454545455, 10.909090909090908, 11.363636363636363, 11.818181818181818, 12.272727272727272, 12.727272727272727, 13.181818181818182, 13.636363636363637, 14.09090909090909, 14.545454545454545, 15.0, 15.454545454545453, 15.909090909090908, 16.363636363636363, 16.818181818181817, 17.272727272727273, 17.727272727272727, 18.18181818181818, 18.636363636363637, 19.09090909090909, 19.545454545454543, 20.0, 20.454545454545453, 20.90909090909091, 21.363636363636363, 21.818181818181817, 22.272727272727273, 22.727272727272727, 23.18181818181818, 23.636363636363637, 24.09090909090909, 24.545454545454543, 25.0, 25.454545454545453, 25.909090909090907, 26.363636363636363, 26.818181818181817, 27.272727272727273, 27.727272727272727, 28.18181818181818, 28.636363636363637, 29.09090909090909, 29.545454545454543, 30.0, 30.454545454545453, 30.909090909090907, 31.363636363636363, 31.818181818181817, 32.27272727272727, 32.72727272727273, 33.18181818181818, 33.63636363636363, 34.090909090909086, 34.54545454545455, 35.0, 35.45454545454545, 35.90909090909091, 36.36363636363636, 36.81818181818182, 37.27272727272727, 37.72727272727273, 38.18181818181818, 38.63636363636363, 39.090909090909086, 39.54545454545455, 40.0, 40.45454545454545, 40.90909090909091, 41.36363636363636, 41.81818181818182, 42.27272727272727, 42.72727272727273, 43.18181818181818, 43.63636363636363, 44.090909090909086, 44.54545454545455, 45.0], \"y\": [0.6122448979591836, 0.6138491421605261, 0.6145072668096541, 0.6150080782756442, 0.6154268060289798, 0.6157926664834394, 0.6161206807135731, 0.6164197932261719, 0.6166958453683703, 0.6169529037063851, 0.6171939355871482, 0.6174211859091725, 0.6176364023635931, 0.6178409776060757, 0.6180360430094348, 0.6182225327559109, 0.6184012289973538, 0.6185727945050358, 0.6187377968041027, 0.618896726361571, 0.6190500105277924, 0.6191980243849347, 0.6193410993028227, 0.6194795297685424, 0.6196135788977959, 0.6197434829266464, 0.6198694549054222, 0.6199916877616624, 0.6201103568592045, 0.6202256221512978, 0.6203376300038957, 0.6204465147489365, 0.6205524000149988, 0.6206553998731861, 0.6207556198287026, 0.6208531576828131, 0.6209481042853392, 0.6210405441942346, 0.6211305562559023, 0.6212182141176031, 0.6213035866814279, 0.6213867385077788, 0.6214677301750617, 0.6215466186012565, 0.6216234573321893, 0.621698296800619, 0.6217711845596666, 0.6218421654936146, 0.6219112820086995, 0.6219785742061532, 0.6220440800394683, 0.6221078354575934, 0.622169874535561, 0.6222302295938554, 0.6222889313076715, 0.6223460088070817, 0.6224014897690021, 0.6224554005017537, 0.6225077660229147, 0.6225586101310957, 0.6226079554721866, 0.6226558236005735, 0.6227022350357698, 0.622747209314856, 0.6227907650410864, 0.622832919928979, 0.6228736908461837, 0.6229130938523774, 0.6229511442354316, 0.6229878565450575, 0.6230232446241208, 0.6230573216378026, 0.6230901001007623, 0.623121591902444, 0.6231518083306629, 0.6231807600935786, 0.6232084573401773, 0.6232349096793489, 0.6232601261976553, 0.623284115475871, 0.6233068856043668, 0.6233284441974094, 0.6233487984064354, 0.6233679549323582, 0.6233859200369576, 0.6234026995534023, 0.6234182988959427, 0.6234327230688187, 0.6234459766744123, 0.6234580639206823, 0.6234689886279029, 0.6234787542347394, 0.6234873638036761, 0.6234948200258248, 0.623501125225124, 0.6235062813619494, 0.6235102900361472, 0.6235131524895012, 0.623514869607641, 0.6235154419214025]}, {\"mode\": \"lines\", \"name\": \"Inside, rt = 45.0 nm\", \"type\": \"scatter\", \"x\": [0.0, 0.45454545454545453, 0.9090909090909091, 1.3636363636363635, 1.8181818181818181, 2.2727272727272725, 2.727272727272727, 3.1818181818181817, 3.6363636363636362, 4.090909090909091, 4.545454545454545, 5.0, 5.454545454545454, 5.909090909090909, 6.363636363636363, 6.818181818181818, 7.2727272727272725, 7.727272727272727, 8.181818181818182, 8.636363636363637, 9.09090909090909, 9.545454545454545, 10.0, 10.454545454545455, 10.909090909090908, 11.363636363636363, 11.818181818181818, 12.272727272727272, 12.727272727272727, 13.181818181818182, 13.636363636363637, 14.09090909090909, 14.545454545454545, 15.0, 15.454545454545453, 15.909090909090908, 16.363636363636363, 16.818181818181817, 17.272727272727273, 17.727272727272727, 18.18181818181818, 18.636363636363637, 19.09090909090909, 19.545454545454543, 20.0, 20.454545454545453, 20.90909090909091, 21.363636363636363, 21.818181818181817, 22.272727272727273, 22.727272727272727, 23.18181818181818, 23.636363636363637, 24.09090909090909, 24.545454545454543, 25.0, 25.454545454545453, 25.909090909090907, 26.363636363636363, 26.818181818181817, 27.272727272727273, 27.727272727272727, 28.18181818181818, 28.636363636363637, 29.09090909090909, 29.545454545454543, 30.0, 30.454545454545453, 30.909090909090907, 31.363636363636363, 31.818181818181817, 32.27272727272727, 32.72727272727273, 33.18181818181818, 33.63636363636363, 34.090909090909086, 34.54545454545455, 35.0, 35.45454545454545, 35.90909090909091, 36.36363636363636, 36.81818181818182, 37.27272727272727, 37.72727272727273, 38.18181818181818, 38.63636363636363, 39.090909090909086, 39.54545454545455, 40.0, 40.45454545454545, 40.90909090909091, 41.36363636363636, 41.81818181818182, 42.27272727272727, 42.72727272727273, 43.18181818181818, 43.63636363636363, 44.090909090909086, 44.54545454545455, 45.0], \"y\": [0.6122448979591836, 0.6106385492304534, 0.6099783414268222, 0.6094754681789958, 0.6090547000162748, 0.6086868205246672, 0.6083568086294118, 0.6080557198235083, 0.6077777127596151, 0.6075187208713119, 0.6072757768114632, 0.6070466356813565, 0.6068295497896585, 0.6066231264805082, 0.6064262343808974, 0.606237939308395, 0.6060574591109611, 0.6058841310171373, 0.6057173875015934, 0.6055567380971307, 0.6054017554532168, 0.6052520644875068, 0.6051073338299997, 0.6049672689934366, 0.6048316068619443, 0.6047001111992902, 0.6045725689549798, 0.6044487872013093, 0.6043285905742795, 0.6042118191204809, 0.6040983264738019, 0.6039879783021495, 0.6038806509767916, 0.6037762304264731, 0.6036746111458418, 0.603575695333486, 0.6034793921394398, 0.6033856170056077, 0.6032942910854463, 0.6032053407315575, 0.6031186970417155, 0.6030342954553847, 0.6029520753940277, 0.6028719799395368, 0.602793955545959, 0.6027179517804114, 0.6026439210896514, 0.6025718185892758, 0.6025016018729316, 0.6024332308392708, 0.6023666675346887, 0.6023018760101254, 0.6022388221904399, 0.6021774737550416, 0.6021178000286318, 0.6020597718810359, 0.602003361635238, 0.6019485429828206, 0.6018952909061099, 0.6018435816064021, 0.601793392437717, 0.6017447018455803, 0.601697489310392, 0.6016517352949878, 0.6016074211960322, 0.6015645292989269, 0.6015230427359454, 0.6014829454473357, 0.601444222145153, 0.6014068582796164, 0.6013708400077915, 0.6013361541644316, 0.601302788234813, 0.6012707303294299, 0.6012399691604087, 0.6012104940195319, 0.6011822947577584, 0.6011553617661464, 0.601129685958083, 0.6011052587527459, 0.6010820720597182, 0.6010601182646896, 0.6010393902161824, 0.6010198812132437, 0.6010015849940565, 0.6009844957254181, 0.6009686079930451, 0.6009539167926679, 0.6009404175218759, 0.6009281059726851, 0.600916978324797, 0.6009070311395261, 0.6008982613543682, 0.6008906662781953, 0.6008842435870542, 0.6008789913205566, 0.6008749078788463, 0.600871992020132, 0.6008702428587781, 0.6008696598639456]}],                        {\"template\": {\"data\": {\"bar\": [{\"error_x\": {\"color\": \"#2a3f5f\"}, \"error_y\": {\"color\": \"#2a3f5f\"}, \"marker\": {\"line\": {\"color\": \"#E5ECF6\", \"width\": 0.5}}, \"type\": \"bar\"}], \"barpolar\": [{\"marker\": {\"line\": {\"color\": \"#E5ECF6\", \"width\": 0.5}}, \"type\": \"barpolar\"}], \"carpet\": [{\"aaxis\": {\"endlinecolor\": \"#2a3f5f\", \"gridcolor\": \"white\", \"linecolor\": \"white\", \"minorgridcolor\": \"white\", \"startlinecolor\": \"#2a3f5f\"}, \"baxis\": {\"endlinecolor\": \"#2a3f5f\", \"gridcolor\": \"white\", \"linecolor\": \"white\", \"minorgridcolor\": \"white\", \"startlinecolor\": \"#2a3f5f\"}, \"type\": \"carpet\"}], \"choropleth\": [{\"colorbar\": {\"outlinewidth\": 0, \"ticks\": \"\"}, \"type\": \"choropleth\"}], \"contour\": [{\"colorbar\": {\"outlinewidth\": 0, \"ticks\": \"\"}, \"colorscale\": [[0.0, \"#0d0887\"], [0.1111111111111111, \"#46039f\"], [0.2222222222222222, \"#7201a8\"], [0.3333333333333333, \"#9c179e\"], [0.4444444444444444, \"#bd3786\"], [0.5555555555555556, \"#d8576b\"], [0.6666666666666666, \"#ed7953\"], [0.7777777777777778, \"#fb9f3a\"], [0.8888888888888888, \"#fdca26\"], [1.0, \"#f0f921\"]], \"type\": \"contour\"}], \"contourcarpet\": [{\"colorbar\": {\"outlinewidth\": 0, \"ticks\": \"\"}, \"type\": \"contourcarpet\"}], \"heatmap\": [{\"colorbar\": {\"outlinewidth\": 0, \"ticks\": \"\"}, \"colorscale\": [[0.0, \"#0d0887\"], [0.1111111111111111, \"#46039f\"], [0.2222222222222222, \"#7201a8\"], [0.3333333333333333, \"#9c179e\"], [0.4444444444444444, \"#bd3786\"], [0.5555555555555556, \"#d8576b\"], [0.6666666666666666, \"#ed7953\"], [0.7777777777777778, \"#fb9f3a\"], [0.8888888888888888, \"#fdca26\"], [1.0, \"#f0f921\"]], \"type\": \"heatmap\"}], \"heatmapgl\": [{\"colorbar\": {\"outlinewidth\": 0, \"ticks\": \"\"}, \"colorscale\": [[0.0, \"#0d0887\"], [0.1111111111111111, \"#46039f\"], [0.2222222222222222, \"#7201a8\"], [0.3333333333333333, \"#9c179e\"], [0.4444444444444444, \"#bd3786\"], [0.5555555555555556, \"#d8576b\"], [0.6666666666666666, \"#ed7953\"], [0.7777777777777778, \"#fb9f3a\"], [0.8888888888888888, \"#fdca26\"], [1.0, \"#f0f921\"]], \"type\": \"heatmapgl\"}], \"histogram\": [{\"marker\": {\"colorbar\": {\"outlinewidth\": 0, \"ticks\": \"\"}}, \"type\": \"histogram\"}], \"histogram2d\": [{\"colorbar\": {\"outlinewidth\": 0, \"ticks\": \"\"}, \"colorscale\": [[0.0, \"#0d0887\"], [0.1111111111111111, \"#46039f\"], [0.2222222222222222, \"#7201a8\"], [0.3333333333333333, \"#9c179e\"], [0.4444444444444444, \"#bd3786\"], [0.5555555555555556, \"#d8576b\"], [0.6666666666666666, \"#ed7953\"], [0.7777777777777778, \"#fb9f3a\"], [0.8888888888888888, \"#fdca26\"], [1.0, \"#f0f921\"]], \"type\": \"histogram2d\"}], \"histogram2dcontour\": [{\"colorbar\": {\"outlinewidth\": 0, \"ticks\": \"\"}, \"colorscale\": [[0.0, \"#0d0887\"], [0.1111111111111111, \"#46039f\"], [0.2222222222222222, \"#7201a8\"], [0.3333333333333333, \"#9c179e\"], [0.4444444444444444, \"#bd3786\"], [0.5555555555555556, \"#d8576b\"], [0.6666666666666666, \"#ed7953\"], [0.7777777777777778, \"#fb9f3a\"], [0.8888888888888888, \"#fdca26\"], [1.0, \"#f0f921\"]], \"type\": \"histogram2dcontour\"}], \"mesh3d\": [{\"colorbar\": {\"outlinewidth\": 0, \"ticks\": \"\"}, \"type\": \"mesh3d\"}], \"parcoords\": [{\"line\": {\"colorbar\": {\"outlinewidth\": 0, \"ticks\": \"\"}}, \"type\": \"parcoords\"}], \"pie\": [{\"automargin\": true, \"type\": \"pie\"}], \"scatter\": [{\"marker\": {\"colorbar\": {\"outlinewidth\": 0, \"ticks\": \"\"}}, \"type\": \"scatter\"}], \"scatter3d\": [{\"line\": {\"colorbar\": {\"outlinewidth\": 0, \"ticks\": \"\"}}, \"marker\": {\"colorbar\": {\"outlinewidth\": 0, \"ticks\": \"\"}}, \"type\": \"scatter3d\"}], \"scattercarpet\": [{\"marker\": {\"colorbar\": {\"outlinewidth\": 0, \"ticks\": \"\"}}, \"type\": \"scattercarpet\"}], \"scattergeo\": [{\"marker\": {\"colorbar\": {\"outlinewidth\": 0, \"ticks\": \"\"}}, \"type\": \"scattergeo\"}], \"scattergl\": [{\"marker\": {\"colorbar\": {\"outlinewidth\": 0, \"ticks\": \"\"}}, \"type\": \"scattergl\"}], \"scattermapbox\": [{\"marker\": {\"colorbar\": {\"outlinewidth\": 0, \"ticks\": \"\"}}, \"type\": \"scattermapbox\"}], \"scatterpolar\": [{\"marker\": {\"colorbar\": {\"outlinewidth\": 0, \"ticks\": \"\"}}, \"type\": \"scatterpolar\"}], \"scatterpolargl\": [{\"marker\": {\"colorbar\": {\"outlinewidth\": 0, \"ticks\": \"\"}}, \"type\": \"scatterpolargl\"}], \"scatterternary\": [{\"marker\": {\"colorbar\": {\"outlinewidth\": 0, \"ticks\": \"\"}}, \"type\": \"scatterternary\"}], \"surface\": [{\"colorbar\": {\"outlinewidth\": 0, \"ticks\": \"\"}, \"colorscale\": [[0.0, \"#0d0887\"], [0.1111111111111111, \"#46039f\"], [0.2222222222222222, \"#7201a8\"], [0.3333333333333333, \"#9c179e\"], [0.4444444444444444, \"#bd3786\"], [0.5555555555555556, \"#d8576b\"], [0.6666666666666666, \"#ed7953\"], [0.7777777777777778, \"#fb9f3a\"], [0.8888888888888888, \"#fdca26\"], [1.0, \"#f0f921\"]], \"type\": \"surface\"}], \"table\": [{\"cells\": {\"fill\": {\"color\": \"#EBF0F8\"}, \"line\": {\"color\": \"white\"}}, \"header\": {\"fill\": {\"color\": \"#C8D4E3\"}, \"line\": {\"color\": \"white\"}}, \"type\": \"table\"}]}, \"layout\": {\"annotationdefaults\": {\"arrowcolor\": \"#2a3f5f\", \"arrowhead\": 0, \"arrowwidth\": 1}, \"coloraxis\": {\"colorbar\": {\"outlinewidth\": 0, \"ticks\": \"\"}}, \"colorscale\": {\"diverging\": [[0, \"#8e0152\"], [0.1, \"#c51b7d\"], [0.2, \"#de77ae\"], [0.3, \"#f1b6da\"], [0.4, \"#fde0ef\"], [0.5, \"#f7f7f7\"], [0.6, \"#e6f5d0\"], [0.7, \"#b8e186\"], [0.8, \"#7fbc41\"], [0.9, \"#4d9221\"], [1, \"#276419\"]], \"sequential\": [[0.0, \"#0d0887\"], [0.1111111111111111, \"#46039f\"], [0.2222222222222222, \"#7201a8\"], [0.3333333333333333, \"#9c179e\"], [0.4444444444444444, \"#bd3786\"], [0.5555555555555556, \"#d8576b\"], [0.6666666666666666, \"#ed7953\"], [0.7777777777777778, \"#fb9f3a\"], [0.8888888888888888, \"#fdca26\"], [1.0, \"#f0f921\"]], \"sequentialminus\": [[0.0, \"#0d0887\"], [0.1111111111111111, \"#46039f\"], [0.2222222222222222, \"#7201a8\"], [0.3333333333333333, \"#9c179e\"], [0.4444444444444444, \"#bd3786\"], [0.5555555555555556, \"#d8576b\"], [0.6666666666666666, \"#ed7953\"], [0.7777777777777778, \"#fb9f3a\"], [0.8888888888888888, \"#fdca26\"], [1.0, \"#f0f921\"]]}, \"colorway\": [\"#636efa\", \"#EF553B\", \"#00cc96\", \"#ab63fa\", \"#FFA15A\", \"#19d3f3\", \"#FF6692\", \"#B6E880\", \"#FF97FF\", \"#FECB52\"], \"font\": {\"color\": \"#2a3f5f\"}, \"geo\": {\"bgcolor\": \"white\", \"lakecolor\": \"white\", \"landcolor\": \"#E5ECF6\", \"showlakes\": true, \"showland\": true, \"subunitcolor\": \"white\"}, \"hoverlabel\": {\"align\": \"left\"}, \"hovermode\": \"closest\", \"mapbox\": {\"style\": \"light\"}, \"paper_bgcolor\": \"white\", \"plot_bgcolor\": \"#E5ECF6\", \"polar\": {\"angularaxis\": {\"gridcolor\": \"white\", \"linecolor\": \"white\", \"ticks\": \"\"}, \"bgcolor\": \"#E5ECF6\", \"radialaxis\": {\"gridcolor\": \"white\", \"linecolor\": \"white\", \"ticks\": \"\"}}, \"scene\": {\"xaxis\": {\"backgroundcolor\": \"#E5ECF6\", \"gridcolor\": \"white\", \"gridwidth\": 2, \"linecolor\": \"white\", \"showbackground\": true, \"ticks\": \"\", \"zerolinecolor\": \"white\"}, \"yaxis\": {\"backgroundcolor\": \"#E5ECF6\", \"gridcolor\": \"white\", \"gridwidth\": 2, \"linecolor\": \"white\", \"showbackground\": true, \"ticks\": \"\", \"zerolinecolor\": \"white\"}, \"zaxis\": {\"backgroundcolor\": \"#E5ECF6\", \"gridcolor\": \"white\", \"gridwidth\": 2, \"linecolor\": \"white\", \"showbackground\": true, \"ticks\": \"\", \"zerolinecolor\": \"white\"}}, \"shapedefaults\": {\"line\": {\"color\": \"#2a3f5f\"}}, \"ternary\": {\"aaxis\": {\"gridcolor\": \"white\", \"linecolor\": \"white\", \"ticks\": \"\"}, \"baxis\": {\"gridcolor\": \"white\", \"linecolor\": \"white\", \"ticks\": \"\"}, \"bgcolor\": \"#E5ECF6\", \"caxis\": {\"gridcolor\": \"white\", \"linecolor\": \"white\", \"ticks\": \"\"}}, \"title\": {\"x\": 0.05}, \"xaxis\": {\"automargin\": true, \"gridcolor\": \"white\", \"linecolor\": \"white\", \"ticks\": \"\", \"title\": {\"standoff\": 15}, \"zerolinecolor\": \"white\", \"zerolinewidth\": 2}, \"yaxis\": {\"automargin\": true, \"gridcolor\": \"white\", \"linecolor\": \"white\", \"ticks\": \"\", \"title\": {\"standoff\": 15}, \"zerolinecolor\": \"white\", \"zerolinewidth\": 2}}}, \"title\": {\"text\": \"Post-fusion body stress profile\"}, \"xaxis\": {\"title\": {\"text\": \"z (nm)\"}}, \"yaxis\": {\"title\": {\"text\": \"Stress (kT/nm^2)\"}}},                        {\"responsive\": true}                    ).then(function(){\n",
       "                            \n",
       "var gd = document.getElementById('2d399ffb-8798-4fc3-802d-73cd39fc0077');\n",
       "var x = new MutationObserver(function (mutations, observer) {{\n",
       "        var display = window.getComputedStyle(gd).display;\n",
       "        if (!display || display === 'none') {{\n",
       "            console.log([gd, 'removed!']);\n",
       "            Plotly.purge(gd);\n",
       "            observer.disconnect();\n",
       "        }}\n",
       "}});\n",
       "\n",
       "// Listen for the removal of the full notebook cells\n",
       "var notebookContainer = gd.closest('#notebook-container');\n",
       "if (notebookContainer) {{\n",
       "    x.observe(notebookContainer, {childList: true});\n",
       "}}\n",
       "\n",
       "// Listen for the clearing of the current output cell\n",
       "var outputEl = gd.closest('.output');\n",
       "if (outputEl) {{\n",
       "    x.observe(outputEl, {childList: true});\n",
       "}}\n",
       "\n",
       "                        })                };                });            </script>        </div>"
      ]
     },
     "metadata": {},
     "output_type": "display_data"
    },
    {
     "data": {
      "application/vnd.plotly.v1+json": {
       "config": {
        "plotlyServerURL": "https://plot.ly"
       },
       "data": [
        {
         "mode": "lines",
         "name": "Outside, rt = 2.0 nm",
         "type": "scatter",
         "x": [
          0,
          0.020202020202020204,
          0.04040404040404041,
          0.06060606060606061,
          0.08080808080808081,
          0.10101010101010102,
          0.12121212121212122,
          0.14141414141414144,
          0.16161616161616163,
          0.18181818181818182,
          0.20202020202020204,
          0.22222222222222224,
          0.24242424242424243,
          0.26262626262626265,
          0.2828282828282829,
          0.30303030303030304,
          0.32323232323232326,
          0.3434343434343435,
          0.36363636363636365,
          0.38383838383838387,
          0.4040404040404041,
          0.42424242424242425,
          0.4444444444444445,
          0.4646464646464647,
          0.48484848484848486,
          0.5050505050505051,
          0.5252525252525253,
          0.5454545454545455,
          0.5656565656565657,
          0.5858585858585859,
          0.6060606060606061,
          0.6262626262626263,
          0.6464646464646465,
          0.6666666666666667,
          0.686868686868687,
          0.7070707070707072,
          0.7272727272727273,
          0.7474747474747475,
          0.7676767676767677,
          0.787878787878788,
          0.8080808080808082,
          0.8282828282828284,
          0.8484848484848485,
          0.8686868686868687,
          0.888888888888889,
          0.9090909090909092,
          0.9292929292929294,
          0.9494949494949496,
          0.9696969696969697,
          0.98989898989899,
          1.0101010101010102,
          1.0303030303030305,
          1.0505050505050506,
          1.0707070707070707,
          1.090909090909091,
          1.1111111111111112,
          1.1313131313131315,
          1.1515151515151516,
          1.1717171717171717,
          1.191919191919192,
          1.2121212121212122,
          1.2323232323232325,
          1.2525252525252526,
          1.272727272727273,
          1.292929292929293,
          1.3131313131313131,
          1.3333333333333335,
          1.3535353535353536,
          1.373737373737374,
          1.393939393939394,
          1.4141414141414144,
          1.4343434343434345,
          1.4545454545454546,
          1.474747474747475,
          1.494949494949495,
          1.5151515151515154,
          1.5353535353535355,
          1.5555555555555556,
          1.575757575757576,
          1.595959595959596,
          1.6161616161616164,
          1.6363636363636365,
          1.6565656565656568,
          1.676767676767677,
          1.696969696969697,
          1.7171717171717173,
          1.7373737373737375,
          1.7575757575757578,
          1.777777777777778,
          1.7979797979797982,
          1.8181818181818183,
          1.8383838383838385,
          1.8585858585858588,
          1.878787878787879,
          1.8989898989898992,
          1.9191919191919193,
          1.9393939393939394,
          1.9595959595959598,
          1.97979797979798,
          2
         ],
         "y": [
          89.72579018207213,
          89.8945013435303,
          89.9637774301631,
          90.01651930541937,
          90.06063333209795,
          90.0991900568875,
          90.13376814437252,
          90.16530763238309,
          90.19442242712044,
          90.2215399112737,
          90.24697194326825,
          90.27095445461497,
          90.29367112198635,
          90.31526830900714,
          90.33586491934015,
          90.35555913257053,
          90.37443315039033,
          90.39255662798472,
          90.409989210483,
          90.42678244445636,
          90.44298124311983,
          90.45862502647162,
          90.473748620484,
          90.48838297487187,
          90.50255574231824,
          90.51629175054188,
          90.52961339051468,
          90.54254093836686,
          90.55509282433907,
          90.56728585906748,
          90.57913542520592,
          90.59065564067062,
          90.60185949848783,
          90.61275898722265,
          90.62336519519013,
          90.63368840104506,
          90.64373815286643,
          90.6535233374769,
          90.66305224143215,
          90.67233260487366,
          90.68137166923933,
          90.69017621966853,
          90.6987526228043,
          90.70710686058968,
          90.71524456056369,
          90.72317102309128,
          90.73089124589524,
          90.73840994621122,
          90.74573158083889,
          90.75286036432853,
          90.75980028550865,
          90.7665551225357,
          90.7731284566228,
          90.77952368458432,
          90.78574403031935,
          90.7917925553385,
          90.79767216842949,
          90.80338563454396,
          90.80893558297991,
          90.81432451492492,
          90.81955481041835,
          90.82462873478521,
          90.82954844458773,
          90.83431599313695,
          90.83893333560088,
          90.84340233374341,
          90.84772476032435,
          90.85190230318759,
          90.85593656906183,
          90.8598290870967,
          90.86358131215393,
          90.86719462787204,
          90.87067034952096,
          90.87400972666185,
          90.87721394562577,
          90.88028413182322,
          90.88322135189658,
          90.88602661572503,
          90.88870087829231,
          90.89124504142461,
          90.89365995540757,
          90.89594642048914,
          90.89810518827474,
          90.90013696302039,
          90.90204240282998,
          90.90382212076106,
          90.90547668584357,
          90.9070066240159,
          90.90841241898185,
          90.90969451299193,
          90.91085330755166,
          90.91188916405986,
          90.91280240437935,
          90.91359331134235,
          90.91426212919153,
          90.91480906395961,
          90.91523428378837,
          90.91553791918749,
          90.91572006323543
         ]
        },
        {
         "mode": "lines",
         "name": "Inside, rt = 2.0 nm",
         "type": "scatter",
         "x": [
          0,
          0.020202020202020204,
          0.04040404040404041,
          0.06060606060606061,
          0.08080808080808081,
          0.10101010101010102,
          0.12121212121212122,
          0.14141414141414144,
          0.16161616161616163,
          0.18181818181818182,
          0.20202020202020204,
          0.22222222222222224,
          0.24242424242424243,
          0.26262626262626265,
          0.2828282828282829,
          0.30303030303030304,
          0.32323232323232326,
          0.3434343434343435,
          0.36363636363636365,
          0.38383838383838387,
          0.4040404040404041,
          0.42424242424242425,
          0.4444444444444445,
          0.4646464646464647,
          0.48484848484848486,
          0.5050505050505051,
          0.5252525252525253,
          0.5454545454545455,
          0.5656565656565657,
          0.5858585858585859,
          0.6060606060606061,
          0.6262626262626263,
          0.6464646464646465,
          0.6666666666666667,
          0.686868686868687,
          0.7070707070707072,
          0.7272727272727273,
          0.7474747474747475,
          0.7676767676767677,
          0.787878787878788,
          0.8080808080808082,
          0.8282828282828284,
          0.8484848484848485,
          0.8686868686868687,
          0.888888888888889,
          0.9090909090909092,
          0.9292929292929294,
          0.9494949494949496,
          0.9696969696969697,
          0.98989898989899,
          1.0101010101010102,
          1.0303030303030305,
          1.0505050505050506,
          1.0707070707070707,
          1.090909090909091,
          1.1111111111111112,
          1.1313131313131315,
          1.1515151515151516,
          1.1717171717171717,
          1.191919191919192,
          1.2121212121212122,
          1.2323232323232325,
          1.2525252525252526,
          1.272727272727273,
          1.292929292929293,
          1.3131313131313131,
          1.3333333333333335,
          1.3535353535353536,
          1.373737373737374,
          1.393939393939394,
          1.4141414141414144,
          1.4343434343434345,
          1.4545454545454546,
          1.474747474747475,
          1.494949494949495,
          1.5151515151515154,
          1.5353535353535355,
          1.5555555555555556,
          1.575757575757576,
          1.595959595959596,
          1.6161616161616164,
          1.6363636363636365,
          1.6565656565656568,
          1.676767676767677,
          1.696969696969697,
          1.7171717171717173,
          1.7373737373737375,
          1.7575757575757578,
          1.777777777777778,
          1.7979797979797982,
          1.8181818181818183,
          1.8383838383838385,
          1.8585858585858588,
          1.878787878787879,
          1.8989898989898992,
          1.9191919191919193,
          1.9393939393939394,
          1.9595959595959598,
          1.97979797979798,
          2
         ],
         "y": [
          89.72579018207213,
          89.5570790206714,
          89.48780293420853,
          89.43506105923129,
          89.39094703293733,
          89.35239030863465,
          89.3178122217354,
          89.28627273440618,
          89.25715794044244,
          89.23004045715184,
          89.20460842610576,
          89.18062591579017,
          89.15790924952937,
          89.13631206369561,
          89.11571545462293,
          89.09602124272314,
          89.07714722630122,
          89.05902375016905,
          89.04159116919438,
          89.02479793680315,
          89.0085991397774,
          88.99295535811613,
          88.97783176584433,
          88.96319741324433,
          88.94902464763035,
          88.93528864128096,
          88.92196700322167,
          88.90903945731962,
          88.8964875733316,
          88.88429454061885,
          88.87244497652507,
          88.86092476313158,
          88.84972090740968,
          88.83882142079193,
          88.82821521496075,
          88.8178920112592,
          88.80784226160593,
          88.79805707917603,
          88.7885281774116,
          88.77924781616902,
          88.77020875400814,
          88.76140420578754,
          88.7528278048621,
          88.74447356928677,
          88.73633587152044,
          88.7284094111963,
          88.72068919058948,
          88.71317049246255,
          88.70584886001393,
          88.69872007869157,
          88.69178015966509,
          88.68502532477625,
          88.67845199281037,
          88.67205676695119,
          88.66583642329809,
          88.65978790033883,
          88.65390828928415,
          88.64819482518078,
          88.64264487872917,
          88.6372559487404,
          88.63202565517363,
          88.62695173270248,
          88.62203202476321,
          88.61726447804355,
          88.61264713737422,
          88.60817814099005,
          88.60385571612996,
          88.59967817494888,
          88.59564391071702,
          88.59175139428352,
          88.58799917078566,
          88.58438585658388,
          88.58091013640718,
          88.57757076069343,
          88.57436654311067,
          88.57129635824747,
          88.56835913946058,
          88.56555387686991,
          88.56287961549104,
          88.56033545349705,
          88.55792054060143,
          88.55563407655556,
          88.55347530975345,
          88.55144353593842,
          88.54953809700595,
          88.54775837989799,
          88.5461038155841,
          88.54457387812538,
          88.54316808381756,
          88.54188599040972,
          88.54072719639605,
          88.53969134037733,
          88.53877810049039,
          88.53798719390285,
          88.53731837637179,
          88.53677144186416,
          88.53634622223824,
          88.53604258698407,
          88.53586044302311
         ]
        },
        {
         "mode": "lines",
         "name": "Outside, rt = 2.6 nm",
         "type": "scatter",
         "x": [
          0,
          0.12626262626262627,
          0.25252525252525254,
          0.3787878787878788,
          0.5050505050505051,
          0.6313131313131314,
          0.7575757575757576,
          0.8838383838383839,
          1.0101010101010102,
          1.1363636363636365,
          1.2626262626262628,
          1.388888888888889,
          1.5151515151515151,
          1.6414141414141414,
          1.7676767676767677,
          1.893939393939394,
          2.0202020202020203,
          2.1464646464646466,
          2.272727272727273,
          2.3989898989898992,
          2.5252525252525255,
          2.651515151515152,
          2.777777777777778,
          2.9040404040404044,
          3.0303030303030303,
          3.1565656565656566,
          3.282828282828283,
          3.409090909090909,
          3.5353535353535355,
          3.6616161616161618,
          3.787878787878788,
          3.9141414141414144,
          4.040404040404041,
          4.166666666666667,
          4.292929292929293,
          4.41919191919192,
          4.545454545454546,
          4.671717171717172,
          4.7979797979797985,
          4.924242424242425,
          5.050505050505051,
          5.176767676767677,
          5.303030303030304,
          5.42929292929293,
          5.555555555555556,
          5.6818181818181825,
          5.808080808080809,
          5.934343434343435,
          6.0606060606060606,
          6.186868686868687,
          6.313131313131313,
          6.4393939393939394,
          6.565656565656566,
          6.691919191919192,
          6.818181818181818,
          6.944444444444445,
          7.070707070707071,
          7.196969696969697,
          7.3232323232323235,
          7.44949494949495,
          7.575757575757576,
          7.702020202020202,
          7.828282828282829,
          7.954545454545455,
          8.080808080808081,
          8.207070707070708,
          8.333333333333334,
          8.45959595959596,
          8.585858585858587,
          8.712121212121213,
          8.83838383838384,
          8.964646464646465,
          9.090909090909092,
          9.217171717171718,
          9.343434343434344,
          9.46969696969697,
          9.595959595959597,
          9.722222222222223,
          9.84848484848485,
          9.974747474747476,
          10.101010101010102,
          10.227272727272728,
          10.353535353535355,
          10.479797979797981,
          10.606060606060607,
          10.732323232323234,
          10.85858585858586,
          10.984848484848486,
          11.111111111111112,
          11.237373737373739,
          11.363636363636365,
          11.489898989898991,
          11.616161616161618,
          11.742424242424244,
          11.86868686868687,
          11.994949494949497,
          12.121212121212121,
          12.247474747474747,
          12.373737373737374,
          12.5
         ],
         "y": [
          69.1296844985726,
          69.29059378183635,
          69.35665745056403,
          69.40695017648609,
          69.4490134140845,
          69.48577599294727,
          69.51874371652161,
          69.5488132365064,
          69.57657012515368,
          69.60242203994856,
          69.62666644597857,
          69.64952838571828,
          69.67118305855242,
          69.6917700729476,
          69.71140284478291,
          69.73017502234829,
          69.74816501347573,
          69.76543925855476,
          69.7820546499171,
          69.79806035511217,
          69.81349921448465,
          69.82840882869252,
          69.84282241639704,
          69.85676949890384,
          69.87027645265543,
          69.88336695951085,
          69.8960623770457,
          69.90838204560049,
          69.92034354481943,
          69.931962909492,
          69.94325481233074,
          69.95423271968197,
          69.96490902491898,
          69.97529516331248,
          69.98540171143246,
          69.99523847355624,
          70.00481455710373,
          70.014138438757,
          70.02321802263519,
          70.03206069166141,
          70.04067335307181,
          70.04906247886319,
          70.05723414185061,
          70.06519404790383,
          70.07294756484544,
          70.08049974842334,
          70.08785536571119,
          70.09501891624043,
          70.10199465112622,
          70.10878659041447,
          70.11539853884695,
          70.12183410021632,
          70.12809669046094,
          70.13418954963105,
          70.14011575284172,
          70.14587822031402,
          70.15147972659457,
          70.15692290903223,
          70.16221027558275,
          70.16734421200383,
          70.17232698849612,
          70.1771607658402,
          70.1818476010734,
          70.18638945274692,
          70.19078818579824,
          70.19504557607156,
          70.19916331451458,
          70.20314301107786,
          70.20698619834039,
          70.2106943348825,
          70.21426880842485,
          70.2177109387519,
          70.22102198043484,
          70.22420312536848,
          70.22725550513563,
          70.23018019321003,
          70.2329782070094,
          70.23565050980805,
          70.23819801251794,
          70.24062157534688,
          70.24292200934077,
          70.24510007781693,
          70.24715649769495,
          70.24909194073021,
          70.25090703465591,
          70.25260236423766,
          70.2541784722453,
          70.25563586034586,
          70.25697498992079,
          70.25819628281131,
          70.25930012199389,
          70.26028685218932,
          70.2611567804069,
          70.26191017642641,
          70.26254727321907,
          70.26306826730958,
          70.26347331908002,
          70.26376255301734,
          70.26393605790457
         ]
        },
        {
         "mode": "lines",
         "name": "Inside, rt = 2.6 nm",
         "type": "scatter",
         "x": [
          0,
          0.12626262626262627,
          0.25252525252525254,
          0.3787878787878788,
          0.5050505050505051,
          0.6313131313131314,
          0.7575757575757576,
          0.8838383838383839,
          1.0101010101010102,
          1.1363636363636365,
          1.2626262626262628,
          1.388888888888889,
          1.5151515151515151,
          1.6414141414141414,
          1.7676767676767677,
          1.893939393939394,
          2.0202020202020203,
          2.1464646464646466,
          2.272727272727273,
          2.3989898989898992,
          2.5252525252525255,
          2.651515151515152,
          2.777777777777778,
          2.9040404040404044,
          3.0303030303030303,
          3.1565656565656566,
          3.282828282828283,
          3.409090909090909,
          3.5353535353535355,
          3.6616161616161618,
          3.787878787878788,
          3.9141414141414144,
          4.040404040404041,
          4.166666666666667,
          4.292929292929293,
          4.41919191919192,
          4.545454545454546,
          4.671717171717172,
          4.7979797979797985,
          4.924242424242425,
          5.050505050505051,
          5.176767676767677,
          5.303030303030304,
          5.42929292929293,
          5.555555555555556,
          5.6818181818181825,
          5.808080808080809,
          5.934343434343435,
          6.0606060606060606,
          6.186868686868687,
          6.313131313131313,
          6.4393939393939394,
          6.565656565656566,
          6.691919191919192,
          6.818181818181818,
          6.944444444444445,
          7.070707070707071,
          7.196969696969697,
          7.3232323232323235,
          7.44949494949495,
          7.575757575757576,
          7.702020202020202,
          7.828282828282829,
          7.954545454545455,
          8.080808080808081,
          8.207070707070708,
          8.333333333333334,
          8.45959595959596,
          8.585858585858587,
          8.712121212121213,
          8.83838383838384,
          8.964646464646465,
          9.090909090909092,
          9.217171717171718,
          9.343434343434344,
          9.46969696969697,
          9.595959595959597,
          9.722222222222223,
          9.84848484848485,
          9.974747474747476,
          10.101010101010102,
          10.227272727272728,
          10.353535353535355,
          10.479797979797981,
          10.606060606060607,
          10.732323232323234,
          10.85858585858586,
          10.984848484848486,
          11.111111111111112,
          11.237373737373739,
          11.363636363636365,
          11.489898989898991,
          11.616161616161618,
          11.742424242424244,
          11.86868686868687,
          11.994949494949497,
          12.121212121212121,
          12.247474747474747,
          12.373737373737374,
          12.5
         ],
         "y": [
          69.1296844985726,
          68.96874481001245,
          68.90265104491895,
          68.85232853155398,
          68.81023581542816,
          68.77344406694597,
          68.74044748265295,
          68.71034941084292,
          68.68256427925668,
          68.65668443040198,
          68.63241239918437,
          68.60952314312216,
          68.5878414628239,
          68.56722774981611,
          68.54756858821301,
          68.52877032971801,
          68.51075456649251,
          68.49345485814061,
          68.4768143123241,
          68.46078376148726,
          68.44532036527916,
          68.43038652303565,
          68.41594901608936,
          68.40197832312859,
          68.38844806770504,
          68.37533456795367,
          68.36261646629313,
          68.35027442237727,
          68.33829085655611,
          68.32664973403477,
          68.31533638209517,
          68.30433733438554,
          68.29364019752735,
          68.28323353624462,
          68.27310677396221,
          68.26325010639766,
          68.25365442612613,
          68.24431125646059,
          68.23521269327702,
          68.22635135364754,
          68.2177203303313,
          68.20931315132691,
          68.20112374381475,
          68.19314640192059,
          68.18537575781744,
          68.17780675575312,
          68.1704346286497,
          68.16325487697164,
          68.15626324959969,
          68.14945572648394,
          68.14282850287859,
          68.13637797498725,
          68.13010072686778,
          68.12399351846625,
          68.11805327466398,
          68.11227707523635,
          68.10666214563325,
          68.10120584850252,
          68.09590567588505,
          68.09075924201993,
          68.0857642767034,
          68.08091861915175,
          68.07622021232469,
          68.07166709766814,
          68.06725741024174,
          68.06298937419855,
          68.05886129858818,
          68.05487157345749,
          68.05101866622492,
          68.04730111830776,
          68.04371754198294,
          68.04026661746371,
          68.0369470901767,
          68.0337577682249,
          68.0306975200235,
          68.02776527209673,
          68.024960007025,
          68.02228076153222,
          68.01972662470457,
          68.01729673633265,
          68.01499028536895,
          68.01280650849465,
          68.0107446887887,
          68.00880415449437,
          68.00698427787717,
          68.00528447417027,
          68.00370420060275,
          68.00224295550652,
          68.00090027749913,
          67.99967574473851,
          67.99856897424732,
          67.99757962130407,
          67.9967073788988,
          67.99595197725114,
          67.99531318338933,
          67.99479080078831,
          67.99438466906558,
          67.994094663734,
          67.99392069601026
         ]
        },
        {
         "mode": "lines",
         "name": "Outside, rt = 45.0 nm",
         "type": "scatter",
         "x": [
          0,
          0.45454545454545453,
          0.9090909090909091,
          1.3636363636363635,
          1.8181818181818181,
          2.2727272727272725,
          2.727272727272727,
          3.1818181818181817,
          3.6363636363636362,
          4.090909090909091,
          4.545454545454545,
          5,
          5.454545454545454,
          5.909090909090909,
          6.363636363636363,
          6.818181818181818,
          7.2727272727272725,
          7.727272727272727,
          8.181818181818182,
          8.636363636363637,
          9.09090909090909,
          9.545454545454545,
          10,
          10.454545454545455,
          10.909090909090908,
          11.363636363636363,
          11.818181818181818,
          12.272727272727272,
          12.727272727272727,
          13.181818181818182,
          13.636363636363637,
          14.09090909090909,
          14.545454545454545,
          15,
          15.454545454545453,
          15.909090909090908,
          16.363636363636363,
          16.818181818181817,
          17.272727272727273,
          17.727272727272727,
          18.18181818181818,
          18.636363636363637,
          19.09090909090909,
          19.545454545454543,
          20,
          20.454545454545453,
          20.90909090909091,
          21.363636363636363,
          21.818181818181817,
          22.272727272727273,
          22.727272727272727,
          23.18181818181818,
          23.636363636363637,
          24.09090909090909,
          24.545454545454543,
          25,
          25.454545454545453,
          25.909090909090907,
          26.363636363636363,
          26.818181818181817,
          27.272727272727273,
          27.727272727272727,
          28.18181818181818,
          28.636363636363637,
          29.09090909090909,
          29.545454545454543,
          30,
          30.454545454545453,
          30.909090909090907,
          31.363636363636363,
          31.818181818181817,
          32.27272727272727,
          32.72727272727273,
          33.18181818181818,
          33.63636363636363,
          34.090909090909086,
          34.54545454545455,
          35,
          35.45454545454545,
          35.90909090909091,
          36.36363636363636,
          36.81818181818182,
          37.27272727272727,
          37.72727272727273,
          38.18181818181818,
          38.63636363636363,
          39.090909090909086,
          39.54545454545455,
          40,
          40.45454545454545,
          40.90909090909091,
          41.36363636363636,
          41.81818181818182,
          42.27272727272727,
          42.72727272727273,
          43.18181818181818,
          43.63636363636363,
          44.090909090909086,
          44.54545454545455,
          45
         ],
         "y": [
          51.475879627001575,
          51.63009189979679,
          51.693392476705306,
          51.741576437633924,
          51.7818724589059,
          51.817087898545786,
          51.84866610776147,
          51.87746655026259,
          51.90405051215649,
          51.92880874369076,
          51.952026372873476,
          51.97391910877771,
          51.99465488459202,
          52.01436751869255,
          52.03316572318376,
          52.051139262424535,
          52.06836329239972,
          52.084901497989854,
          52.10080841201361,
          52.116131162884486,
          52.130910814224976,
          52.14518340728075,
          52.15898078303863,
          52.172331238473085,
          52.185260056124264,
          52.197789935703064,
          52.2099413490332,
          52.22173283436508,
          52.233181242274995,
          52.24430194255472,
          52.255108999409025,
          52.2656153207084,
          52.275832785849836,
          52.28577235586329,
          52.29544416869089,
          52.3048576220115,
          52.31402144554709,
          52.32294376444047,
          52.33163215501715,
          52.340093694022116,
          52.348335002241335,
          52.35636228327186,
          52.36418135808415,
          52.371797695921394,
          52.37921644199924,
          52.3864424424011,
          52.39348026650808,
          52.400334227254454,
          52.40700839946073,
          52.41350663646096,
          52.41983258521415,
          52.42598970006383,
          52.431981255289855,
          52.43781035657836,
          52.44347995152034,
          52.44899283923659,
          52.4543516792146,
          52.459558999433916,
          52.46461720384703,
          52.46952857927605,
          52.474295301778355,
          52.47891944252884,
          52.48340297326158,
          52.48774777130867,
          52.49195562427086,
          52.49602823435013,
          52.49996722237282,
          52.503774131527024,
          52.507450430837864,
          52.51099751840043,
          52.514416724388816,
          52.51770931385814,
          52.52087648935463,
          52.52391939334728,
          52.5268391104942,
          52.52963666975412,
          52.5323130463544,
          52.53486916362423,
          52.537305894701845,
          52.53962406412406,
          52.541824449304315,
          52.54390778190685,
          52.54587474912212,
          52.54772599484932,
          52.549462120790935,
          52.551083687463716,
          52.552591215130064,
          52.553985184654074,
          52.555266038284785,
          52.556434180370665,
          52.5574899780071,
          52.558433761620144,
          52.55926582548816,
          52.55998642820387,
          52.56059579307775,
          52.56109410848508,
          52.56148152815733,
          52.561758171419285,
          52.56192412337233
         ]
        },
        {
         "mode": "lines",
         "name": "Inside, rt = 45.0 nm",
         "type": "scatter",
         "x": [
          0,
          0.45454545454545453,
          0.9090909090909091,
          1.3636363636363635,
          1.8181818181818181,
          2.2727272727272725,
          2.727272727272727,
          3.1818181818181817,
          3.6363636363636362,
          4.090909090909091,
          4.545454545454545,
          5,
          5.454545454545454,
          5.909090909090909,
          6.363636363636363,
          6.818181818181818,
          7.2727272727272725,
          7.727272727272727,
          8.181818181818182,
          8.636363636363637,
          9.09090909090909,
          9.545454545454545,
          10,
          10.454545454545455,
          10.909090909090908,
          11.363636363636363,
          11.818181818181818,
          12.272727272727272,
          12.727272727272727,
          13.181818181818182,
          13.636363636363637,
          14.09090909090909,
          14.545454545454545,
          15,
          15.454545454545453,
          15.909090909090908,
          16.363636363636363,
          16.818181818181817,
          17.272727272727273,
          17.727272727272727,
          18.18181818181818,
          18.636363636363637,
          19.09090909090909,
          19.545454545454543,
          20,
          20.454545454545453,
          20.90909090909091,
          21.363636363636363,
          21.818181818181817,
          22.272727272727273,
          22.727272727272727,
          23.18181818181818,
          23.636363636363637,
          24.09090909090909,
          24.545454545454543,
          25,
          25.454545454545453,
          25.909090909090907,
          26.363636363636363,
          26.818181818181817,
          27.272727272727273,
          27.727272727272727,
          28.18181818181818,
          28.636363636363637,
          29.09090909090909,
          29.545454545454543,
          30,
          30.454545454545453,
          30.909090909090907,
          31.363636363636363,
          31.818181818181817,
          32.27272727272727,
          32.72727272727273,
          33.18181818181818,
          33.63636363636363,
          34.090909090909086,
          34.54545454545455,
          35,
          35.45454545454545,
          35.90909090909091,
          36.36363636363636,
          36.81818181818182,
          37.27272727272727,
          37.72727272727273,
          38.18181818181818,
          38.63636363636363,
          39.090909090909086,
          39.54545454545455,
          40,
          40.45454545454545,
          40.90909090909091,
          41.36363636363636,
          41.81818181818182,
          42.27272727272727,
          42.72727272727273,
          43.18181818181818,
          43.63636363636363,
          44.090909090909086,
          44.54545454545455,
          45
         ],
         "y": [
          51.475879627001575,
          51.321591521701215,
          51.25821588275967,
          51.20995763025188,
          51.16958808783639,
          51.13429989747071,
          51.1026497079292,
          51.07377805548464,
          51.04712365401225,
          51.022295753247334,
          50.9990092251647,
          50.9770483606745,
          50.956245226571504,
          50.93646600446315,
          50.91760198222868,
          50.899563395493196,
          50.88227508825588,
          50.86567337562052,
          50.84970372475295,
          50.83431900722436,
          50.81947815939706,
          50.80514514001047,
          50.79128810806297,
          50.77787876656556,
          50.764891832963706,
          50.75230460753227,
          50.74009661843354,
          50.728249327403276,
          50.71674588385159,
          50.705570917973255,
          50.69471036555017,
          50.68415131869885,
          50.67388189800941,
          50.66389114243915,
          50.65416891403347,
          50.64470581510119,
          50.635493115908176,
          50.626522691299726,
          50.61778696493851,
          50.609278860068,
          50.60099175589089,
          50.5929194487989,
          50.58505611781052,
          50.577396293671804,
          50.56993483115646,
          50.56266688417064,
          50.555587883323,
          50.54869351566913,
          50.54197970637873,
          50.535442602108,
          50.52907855588848,
          50.52288411336731,
          50.516856000255494,
          50.51099111085797,
          50.505286497575014,
          50.499739361277236,
          50.494347042468775,
          50.48910701316195,
          50.48401686939623,
          50.479074324341674,
          50.47427720193334,
          50.46962343098888,
          50.46511103976698,
          50.460738150928464,
          50.45650297686576,
          50.45240381537015,
          50.44843904560884,
          50.44460712438744,
          50.440906582674664,
          50.43733602236954,
          50.43389411329224,
          50.43057959038208,
          50.42739125108746,
          50.4243279529342,
          50.42138861125926,
          50.41857219709906,
          50.41587773522162,
          50.4133043022934,
          50.410851025171844,
          50.408517079316155,
          50.40630168730899,
          50.40420411748246,
          50.40222368264265,
          50.40035973888703,
          50.39861168451002,
          50.396978958991994,
          50.395461042067765,
          50.394057452870754,
          50.39276774914952,
          50.39159152655347,
          50.39052841798518,
          50.389578093016894,
          50.38874025736857,
          50.38801465244614,
          50.38740105493788,
          50.38689927646746,
          50.38650916330256,
          50.38623059611778,
          50.38606348981121
         ]
        }
       ],
       "layout": {
        "autosize": true,
        "template": {
         "data": {
          "bar": [
           {
            "error_x": {
             "color": "#2a3f5f"
            },
            "error_y": {
             "color": "#2a3f5f"
            },
            "marker": {
             "line": {
              "color": "#E5ECF6",
              "width": 0.5
             }
            },
            "type": "bar"
           }
          ],
          "barpolar": [
           {
            "marker": {
             "line": {
              "color": "#E5ECF6",
              "width": 0.5
             }
            },
            "type": "barpolar"
           }
          ],
          "carpet": [
           {
            "aaxis": {
             "endlinecolor": "#2a3f5f",
             "gridcolor": "white",
             "linecolor": "white",
             "minorgridcolor": "white",
             "startlinecolor": "#2a3f5f"
            },
            "baxis": {
             "endlinecolor": "#2a3f5f",
             "gridcolor": "white",
             "linecolor": "white",
             "minorgridcolor": "white",
             "startlinecolor": "#2a3f5f"
            },
            "type": "carpet"
           }
          ],
          "choropleth": [
           {
            "colorbar": {
             "outlinewidth": 0,
             "ticks": ""
            },
            "type": "choropleth"
           }
          ],
          "contour": [
           {
            "colorbar": {
             "outlinewidth": 0,
             "ticks": ""
            },
            "colorscale": [
             [
              0,
              "#0d0887"
             ],
             [
              0.1111111111111111,
              "#46039f"
             ],
             [
              0.2222222222222222,
              "#7201a8"
             ],
             [
              0.3333333333333333,
              "#9c179e"
             ],
             [
              0.4444444444444444,
              "#bd3786"
             ],
             [
              0.5555555555555556,
              "#d8576b"
             ],
             [
              0.6666666666666666,
              "#ed7953"
             ],
             [
              0.7777777777777778,
              "#fb9f3a"
             ],
             [
              0.8888888888888888,
              "#fdca26"
             ],
             [
              1,
              "#f0f921"
             ]
            ],
            "type": "contour"
           }
          ],
          "contourcarpet": [
           {
            "colorbar": {
             "outlinewidth": 0,
             "ticks": ""
            },
            "type": "contourcarpet"
           }
          ],
          "heatmap": [
           {
            "colorbar": {
             "outlinewidth": 0,
             "ticks": ""
            },
            "colorscale": [
             [
              0,
              "#0d0887"
             ],
             [
              0.1111111111111111,
              "#46039f"
             ],
             [
              0.2222222222222222,
              "#7201a8"
             ],
             [
              0.3333333333333333,
              "#9c179e"
             ],
             [
              0.4444444444444444,
              "#bd3786"
             ],
             [
              0.5555555555555556,
              "#d8576b"
             ],
             [
              0.6666666666666666,
              "#ed7953"
             ],
             [
              0.7777777777777778,
              "#fb9f3a"
             ],
             [
              0.8888888888888888,
              "#fdca26"
             ],
             [
              1,
              "#f0f921"
             ]
            ],
            "type": "heatmap"
           }
          ],
          "heatmapgl": [
           {
            "colorbar": {
             "outlinewidth": 0,
             "ticks": ""
            },
            "colorscale": [
             [
              0,
              "#0d0887"
             ],
             [
              0.1111111111111111,
              "#46039f"
             ],
             [
              0.2222222222222222,
              "#7201a8"
             ],
             [
              0.3333333333333333,
              "#9c179e"
             ],
             [
              0.4444444444444444,
              "#bd3786"
             ],
             [
              0.5555555555555556,
              "#d8576b"
             ],
             [
              0.6666666666666666,
              "#ed7953"
             ],
             [
              0.7777777777777778,
              "#fb9f3a"
             ],
             [
              0.8888888888888888,
              "#fdca26"
             ],
             [
              1,
              "#f0f921"
             ]
            ],
            "type": "heatmapgl"
           }
          ],
          "histogram": [
           {
            "marker": {
             "colorbar": {
              "outlinewidth": 0,
              "ticks": ""
             }
            },
            "type": "histogram"
           }
          ],
          "histogram2d": [
           {
            "colorbar": {
             "outlinewidth": 0,
             "ticks": ""
            },
            "colorscale": [
             [
              0,
              "#0d0887"
             ],
             [
              0.1111111111111111,
              "#46039f"
             ],
             [
              0.2222222222222222,
              "#7201a8"
             ],
             [
              0.3333333333333333,
              "#9c179e"
             ],
             [
              0.4444444444444444,
              "#bd3786"
             ],
             [
              0.5555555555555556,
              "#d8576b"
             ],
             [
              0.6666666666666666,
              "#ed7953"
             ],
             [
              0.7777777777777778,
              "#fb9f3a"
             ],
             [
              0.8888888888888888,
              "#fdca26"
             ],
             [
              1,
              "#f0f921"
             ]
            ],
            "type": "histogram2d"
           }
          ],
          "histogram2dcontour": [
           {
            "colorbar": {
             "outlinewidth": 0,
             "ticks": ""
            },
            "colorscale": [
             [
              0,
              "#0d0887"
             ],
             [
              0.1111111111111111,
              "#46039f"
             ],
             [
              0.2222222222222222,
              "#7201a8"
             ],
             [
              0.3333333333333333,
              "#9c179e"
             ],
             [
              0.4444444444444444,
              "#bd3786"
             ],
             [
              0.5555555555555556,
              "#d8576b"
             ],
             [
              0.6666666666666666,
              "#ed7953"
             ],
             [
              0.7777777777777778,
              "#fb9f3a"
             ],
             [
              0.8888888888888888,
              "#fdca26"
             ],
             [
              1,
              "#f0f921"
             ]
            ],
            "type": "histogram2dcontour"
           }
          ],
          "mesh3d": [
           {
            "colorbar": {
             "outlinewidth": 0,
             "ticks": ""
            },
            "type": "mesh3d"
           }
          ],
          "parcoords": [
           {
            "line": {
             "colorbar": {
              "outlinewidth": 0,
              "ticks": ""
             }
            },
            "type": "parcoords"
           }
          ],
          "pie": [
           {
            "automargin": true,
            "type": "pie"
           }
          ],
          "scatter": [
           {
            "marker": {
             "colorbar": {
              "outlinewidth": 0,
              "ticks": ""
             }
            },
            "type": "scatter"
           }
          ],
          "scatter3d": [
           {
            "line": {
             "colorbar": {
              "outlinewidth": 0,
              "ticks": ""
             }
            },
            "marker": {
             "colorbar": {
              "outlinewidth": 0,
              "ticks": ""
             }
            },
            "type": "scatter3d"
           }
          ],
          "scattercarpet": [
           {
            "marker": {
             "colorbar": {
              "outlinewidth": 0,
              "ticks": ""
             }
            },
            "type": "scattercarpet"
           }
          ],
          "scattergeo": [
           {
            "marker": {
             "colorbar": {
              "outlinewidth": 0,
              "ticks": ""
             }
            },
            "type": "scattergeo"
           }
          ],
          "scattergl": [
           {
            "marker": {
             "colorbar": {
              "outlinewidth": 0,
              "ticks": ""
             }
            },
            "type": "scattergl"
           }
          ],
          "scattermapbox": [
           {
            "marker": {
             "colorbar": {
              "outlinewidth": 0,
              "ticks": ""
             }
            },
            "type": "scattermapbox"
           }
          ],
          "scatterpolar": [
           {
            "marker": {
             "colorbar": {
              "outlinewidth": 0,
              "ticks": ""
             }
            },
            "type": "scatterpolar"
           }
          ],
          "scatterpolargl": [
           {
            "marker": {
             "colorbar": {
              "outlinewidth": 0,
              "ticks": ""
             }
            },
            "type": "scatterpolargl"
           }
          ],
          "scatterternary": [
           {
            "marker": {
             "colorbar": {
              "outlinewidth": 0,
              "ticks": ""
             }
            },
            "type": "scatterternary"
           }
          ],
          "surface": [
           {
            "colorbar": {
             "outlinewidth": 0,
             "ticks": ""
            },
            "colorscale": [
             [
              0,
              "#0d0887"
             ],
             [
              0.1111111111111111,
              "#46039f"
             ],
             [
              0.2222222222222222,
              "#7201a8"
             ],
             [
              0.3333333333333333,
              "#9c179e"
             ],
             [
              0.4444444444444444,
              "#bd3786"
             ],
             [
              0.5555555555555556,
              "#d8576b"
             ],
             [
              0.6666666666666666,
              "#ed7953"
             ],
             [
              0.7777777777777778,
              "#fb9f3a"
             ],
             [
              0.8888888888888888,
              "#fdca26"
             ],
             [
              1,
              "#f0f921"
             ]
            ],
            "type": "surface"
           }
          ],
          "table": [
           {
            "cells": {
             "fill": {
              "color": "#EBF0F8"
             },
             "line": {
              "color": "white"
             }
            },
            "header": {
             "fill": {
              "color": "#C8D4E3"
             },
             "line": {
              "color": "white"
             }
            },
            "type": "table"
           }
          ]
         },
         "layout": {
          "annotationdefaults": {
           "arrowcolor": "#2a3f5f",
           "arrowhead": 0,
           "arrowwidth": 1
          },
          "coloraxis": {
           "colorbar": {
            "outlinewidth": 0,
            "ticks": ""
           }
          },
          "colorscale": {
           "diverging": [
            [
             0,
             "#8e0152"
            ],
            [
             0.1,
             "#c51b7d"
            ],
            [
             0.2,
             "#de77ae"
            ],
            [
             0.3,
             "#f1b6da"
            ],
            [
             0.4,
             "#fde0ef"
            ],
            [
             0.5,
             "#f7f7f7"
            ],
            [
             0.6,
             "#e6f5d0"
            ],
            [
             0.7,
             "#b8e186"
            ],
            [
             0.8,
             "#7fbc41"
            ],
            [
             0.9,
             "#4d9221"
            ],
            [
             1,
             "#276419"
            ]
           ],
           "sequential": [
            [
             0,
             "#0d0887"
            ],
            [
             0.1111111111111111,
             "#46039f"
            ],
            [
             0.2222222222222222,
             "#7201a8"
            ],
            [
             0.3333333333333333,
             "#9c179e"
            ],
            [
             0.4444444444444444,
             "#bd3786"
            ],
            [
             0.5555555555555556,
             "#d8576b"
            ],
            [
             0.6666666666666666,
             "#ed7953"
            ],
            [
             0.7777777777777778,
             "#fb9f3a"
            ],
            [
             0.8888888888888888,
             "#fdca26"
            ],
            [
             1,
             "#f0f921"
            ]
           ],
           "sequentialminus": [
            [
             0,
             "#0d0887"
            ],
            [
             0.1111111111111111,
             "#46039f"
            ],
            [
             0.2222222222222222,
             "#7201a8"
            ],
            [
             0.3333333333333333,
             "#9c179e"
            ],
            [
             0.4444444444444444,
             "#bd3786"
            ],
            [
             0.5555555555555556,
             "#d8576b"
            ],
            [
             0.6666666666666666,
             "#ed7953"
            ],
            [
             0.7777777777777778,
             "#fb9f3a"
            ],
            [
             0.8888888888888888,
             "#fdca26"
            ],
            [
             1,
             "#f0f921"
            ]
           ]
          },
          "colorway": [
           "#636efa",
           "#EF553B",
           "#00cc96",
           "#ab63fa",
           "#FFA15A",
           "#19d3f3",
           "#FF6692",
           "#B6E880",
           "#FF97FF",
           "#FECB52"
          ],
          "font": {
           "color": "#2a3f5f"
          },
          "geo": {
           "bgcolor": "white",
           "lakecolor": "white",
           "landcolor": "#E5ECF6",
           "showlakes": true,
           "showland": true,
           "subunitcolor": "white"
          },
          "hoverlabel": {
           "align": "left"
          },
          "hovermode": "closest",
          "mapbox": {
           "style": "light"
          },
          "paper_bgcolor": "white",
          "plot_bgcolor": "#E5ECF6",
          "polar": {
           "angularaxis": {
            "gridcolor": "white",
            "linecolor": "white",
            "ticks": ""
           },
           "bgcolor": "#E5ECF6",
           "radialaxis": {
            "gridcolor": "white",
            "linecolor": "white",
            "ticks": ""
           }
          },
          "scene": {
           "xaxis": {
            "backgroundcolor": "#E5ECF6",
            "gridcolor": "white",
            "gridwidth": 2,
            "linecolor": "white",
            "showbackground": true,
            "ticks": "",
            "zerolinecolor": "white"
           },
           "yaxis": {
            "backgroundcolor": "#E5ECF6",
            "gridcolor": "white",
            "gridwidth": 2,
            "linecolor": "white",
            "showbackground": true,
            "ticks": "",
            "zerolinecolor": "white"
           },
           "zaxis": {
            "backgroundcolor": "#E5ECF6",
            "gridcolor": "white",
            "gridwidth": 2,
            "linecolor": "white",
            "showbackground": true,
            "ticks": "",
            "zerolinecolor": "white"
           }
          },
          "shapedefaults": {
           "line": {
            "color": "#2a3f5f"
           }
          },
          "ternary": {
           "aaxis": {
            "gridcolor": "white",
            "linecolor": "white",
            "ticks": ""
           },
           "baxis": {
            "gridcolor": "white",
            "linecolor": "white",
            "ticks": ""
           },
           "bgcolor": "#E5ECF6",
           "caxis": {
            "gridcolor": "white",
            "linecolor": "white",
            "ticks": ""
           }
          },
          "title": {
           "x": 0.05
          },
          "xaxis": {
           "automargin": true,
           "gridcolor": "white",
           "linecolor": "white",
           "ticks": "",
           "title": {
            "standoff": 15
           },
           "zerolinecolor": "white",
           "zerolinewidth": 2
          },
          "yaxis": {
           "automargin": true,
           "gridcolor": "white",
           "linecolor": "white",
           "ticks": "",
           "title": {
            "standoff": 15
           },
           "zerolinecolor": "white",
           "zerolinewidth": 2
          }
         }
        },
        "title": {
         "text": "Post-fusion ring energies"
        },
        "xaxis": {
         "autorange": true,
         "range": [
          0,
          44.54545454545455
         ],
         "title": {
          "text": "z (nm)"
         },
         "type": "linear"
        },
        "yaxis": {
         "autorange": true,
         "range": [
          48.13441590239875,
          93.16736765064789
         ],
         "title": {
          "text": "Energy (kT)"
         },
         "type": "linear"
        }
       }
      },
      "image/png": "[encoded data removed]",
      "text/html": [
       "<div>                            <div id=\"dbd4f8ee-9e20-4d82-8b30-276036596582\" class=\"plotly-graph-div\" style=\"height:525px; width:100%;\"></div>            <script type=\"text/javascript\">                require([\"plotly\"], function(Plotly) {                    window.PLOTLYENV=window.PLOTLYENV || {};                                    if (document.getElementById(\"dbd4f8ee-9e20-4d82-8b30-276036596582\")) {                    Plotly.newPlot(                        \"dbd4f8ee-9e20-4d82-8b30-276036596582\",                        [{\"mode\": \"lines\", \"name\": \"Outside, rt = 2.0 nm\", \"type\": \"scatter\", \"x\": [0.0, 0.020202020202020204, 0.04040404040404041, 0.06060606060606061, 0.08080808080808081, 0.10101010101010102, 0.12121212121212122, 0.14141414141414144, 0.16161616161616163, 0.18181818181818182, 0.20202020202020204, 0.22222222222222224, 0.24242424242424243, 0.26262626262626265, 0.2828282828282829, 0.30303030303030304, 0.32323232323232326, 0.3434343434343435, 0.36363636363636365, 0.38383838383838387, 0.4040404040404041, 0.42424242424242425, 0.4444444444444445, 0.4646464646464647, 0.48484848484848486, 0.5050505050505051, 0.5252525252525253, 0.5454545454545455, 0.5656565656565657, 0.5858585858585859, 0.6060606060606061, 0.6262626262626263, 0.6464646464646465, 0.6666666666666667, 0.686868686868687, 0.7070707070707072, 0.7272727272727273, 0.7474747474747475, 0.7676767676767677, 0.787878787878788, 0.8080808080808082, 0.8282828282828284, 0.8484848484848485, 0.8686868686868687, 0.888888888888889, 0.9090909090909092, 0.9292929292929294, 0.9494949494949496, 0.9696969696969697, 0.98989898989899, 1.0101010101010102, 1.0303030303030305, 1.0505050505050506, 1.0707070707070707, 1.090909090909091, 1.1111111111111112, 1.1313131313131315, 1.1515151515151516, 1.1717171717171717, 1.191919191919192, 1.2121212121212122, 1.2323232323232325, 1.2525252525252526, 1.272727272727273, 1.292929292929293, 1.3131313131313131, 1.3333333333333335, 1.3535353535353536, 1.373737373737374, 1.393939393939394, 1.4141414141414144, 1.4343434343434345, 1.4545454545454546, 1.474747474747475, 1.494949494949495, 1.5151515151515154, 1.5353535353535355, 1.5555555555555556, 1.575757575757576, 1.595959595959596, 1.6161616161616164, 1.6363636363636365, 1.6565656565656568, 1.676767676767677, 1.696969696969697, 1.7171717171717173, 1.7373737373737375, 1.7575757575757578, 1.777777777777778, 1.7979797979797982, 1.8181818181818183, 1.8383838383838385, 1.8585858585858588, 1.878787878787879, 1.8989898989898992, 1.9191919191919193, 1.9393939393939394, 1.9595959595959598, 1.97979797979798, 2.0], \"y\": [89.72579018207213, 89.8945013435303, 89.9637774301631, 90.01651930541937, 90.06063333209795, 90.0991900568875, 90.13376814437252, 90.16530763238309, 90.19442242712044, 90.2215399112737, 90.24697194326825, 90.27095445461497, 90.29367112198635, 90.31526830900714, 90.33586491934015, 90.35555913257053, 90.37443315039033, 90.39255662798472, 90.409989210483, 90.42678244445636, 90.44298124311983, 90.45862502647162, 90.473748620484, 90.48838297487187, 90.50255574231824, 90.51629175054188, 90.52961339051468, 90.54254093836686, 90.55509282433907, 90.56728585906748, 90.57913542520592, 90.59065564067062, 90.60185949848783, 90.61275898722265, 90.62336519519013, 90.63368840104506, 90.64373815286643, 90.6535233374769, 90.66305224143215, 90.67233260487366, 90.68137166923933, 90.69017621966853, 90.6987526228043, 90.70710686058968, 90.71524456056369, 90.72317102309128, 90.73089124589524, 90.73840994621122, 90.74573158083889, 90.75286036432853, 90.75980028550865, 90.7665551225357, 90.7731284566228, 90.77952368458432, 90.78574403031935, 90.7917925553385, 90.79767216842949, 90.80338563454396, 90.80893558297991, 90.81432451492492, 90.81955481041835, 90.82462873478521, 90.82954844458773, 90.83431599313695, 90.83893333560088, 90.84340233374341, 90.84772476032435, 90.85190230318759, 90.85593656906183, 90.8598290870967, 90.86358131215393, 90.86719462787204, 90.87067034952096, 90.87400972666185, 90.87721394562577, 90.88028413182322, 90.88322135189658, 90.88602661572503, 90.88870087829231, 90.89124504142461, 90.89365995540757, 90.89594642048914, 90.89810518827474, 90.90013696302039, 90.90204240282998, 90.90382212076106, 90.90547668584357, 90.9070066240159, 90.90841241898185, 90.90969451299193, 90.91085330755166, 90.91188916405986, 90.91280240437935, 90.91359331134235, 90.91426212919153, 90.91480906395961, 90.91523428378837, 90.91553791918749, 90.91572006323543]}, {\"mode\": \"lines\", \"name\": \"Inside, rt = 2.0 nm\", \"type\": \"scatter\", \"x\": [0.0, 0.020202020202020204, 0.04040404040404041, 0.06060606060606061, 0.08080808080808081, 0.10101010101010102, 0.12121212121212122, 0.14141414141414144, 0.16161616161616163, 0.18181818181818182, 0.20202020202020204, 0.22222222222222224, 0.24242424242424243, 0.26262626262626265, 0.2828282828282829, 0.30303030303030304, 0.32323232323232326, 0.3434343434343435, 0.36363636363636365, 0.38383838383838387, 0.4040404040404041, 0.42424242424242425, 0.4444444444444445, 0.4646464646464647, 0.48484848484848486, 0.5050505050505051, 0.5252525252525253, 0.5454545454545455, 0.5656565656565657, 0.5858585858585859, 0.6060606060606061, 0.6262626262626263, 0.6464646464646465, 0.6666666666666667, 0.686868686868687, 0.7070707070707072, 0.7272727272727273, 0.7474747474747475, 0.7676767676767677, 0.787878787878788, 0.8080808080808082, 0.8282828282828284, 0.8484848484848485, 0.8686868686868687, 0.888888888888889, 0.9090909090909092, 0.9292929292929294, 0.9494949494949496, 0.9696969696969697, 0.98989898989899, 1.0101010101010102, 1.0303030303030305, 1.0505050505050506, 1.0707070707070707, 1.090909090909091, 1.1111111111111112, 1.1313131313131315, 1.1515151515151516, 1.1717171717171717, 1.191919191919192, 1.2121212121212122, 1.2323232323232325, 1.2525252525252526, 1.272727272727273, 1.292929292929293, 1.3131313131313131, 1.3333333333333335, 1.3535353535353536, 1.373737373737374, 1.393939393939394, 1.4141414141414144, 1.4343434343434345, 1.4545454545454546, 1.474747474747475, 1.494949494949495, 1.5151515151515154, 1.5353535353535355, 1.5555555555555556, 1.575757575757576, 1.595959595959596, 1.6161616161616164, 1.6363636363636365, 1.6565656565656568, 1.676767676767677, 1.696969696969697, 1.7171717171717173, 1.7373737373737375, 1.7575757575757578, 1.777777777777778, 1.7979797979797982, 1.8181818181818183, 1.8383838383838385, 1.8585858585858588, 1.878787878787879, 1.8989898989898992, 1.9191919191919193, 1.9393939393939394, 1.9595959595959598, 1.97979797979798, 2.0], \"y\": [89.72579018207213, 89.5570790206714, 89.48780293420853, 89.43506105923129, 89.39094703293733, 89.35239030863465, 89.3178122217354, 89.28627273440618, 89.25715794044244, 89.23004045715184, 89.20460842610576, 89.18062591579017, 89.15790924952937, 89.13631206369561, 89.11571545462293, 89.09602124272314, 89.07714722630122, 89.05902375016905, 89.04159116919438, 89.02479793680315, 89.0085991397774, 88.99295535811613, 88.97783176584433, 88.96319741324433, 88.94902464763035, 88.93528864128096, 88.92196700322167, 88.90903945731962, 88.8964875733316, 88.88429454061885, 88.87244497652507, 88.86092476313158, 88.84972090740968, 88.83882142079193, 88.82821521496075, 88.8178920112592, 88.80784226160593, 88.79805707917603, 88.7885281774116, 88.77924781616902, 88.77020875400814, 88.76140420578754, 88.7528278048621, 88.74447356928677, 88.73633587152044, 88.7284094111963, 88.72068919058948, 88.71317049246255, 88.70584886001393, 88.69872007869157, 88.69178015966509, 88.68502532477625, 88.67845199281037, 88.67205676695119, 88.66583642329809, 88.65978790033883, 88.65390828928415, 88.64819482518078, 88.64264487872917, 88.6372559487404, 88.63202565517363, 88.62695173270248, 88.62203202476321, 88.61726447804355, 88.61264713737422, 88.60817814099005, 88.60385571612996, 88.59967817494888, 88.59564391071702, 88.59175139428352, 88.58799917078566, 88.58438585658388, 88.58091013640718, 88.57757076069343, 88.57436654311067, 88.57129635824747, 88.56835913946058, 88.56555387686991, 88.56287961549104, 88.56033545349705, 88.55792054060143, 88.55563407655556, 88.55347530975345, 88.55144353593842, 88.54953809700595, 88.54775837989799, 88.5461038155841, 88.54457387812538, 88.54316808381756, 88.54188599040972, 88.54072719639605, 88.53969134037733, 88.53877810049039, 88.53798719390285, 88.53731837637179, 88.53677144186416, 88.53634622223824, 88.53604258698407, 88.53586044302311]}, {\"mode\": \"lines\", \"name\": \"Outside, rt = 2.6 nm\", \"type\": \"scatter\", \"x\": [0.0, 0.12626262626262627, 0.25252525252525254, 0.3787878787878788, 0.5050505050505051, 0.6313131313131314, 0.7575757575757576, 0.8838383838383839, 1.0101010101010102, 1.1363636363636365, 1.2626262626262628, 1.388888888888889, 1.5151515151515151, 1.6414141414141414, 1.7676767676767677, 1.893939393939394, 2.0202020202020203, 2.1464646464646466, 2.272727272727273, 2.3989898989898992, 2.5252525252525255, 2.651515151515152, 2.777777777777778, 2.9040404040404044, 3.0303030303030303, 3.1565656565656566, 3.282828282828283, 3.409090909090909, 3.5353535353535355, 3.6616161616161618, 3.787878787878788, 3.9141414141414144, 4.040404040404041, 4.166666666666667, 4.292929292929293, 4.41919191919192, 4.545454545454546, 4.671717171717172, 4.7979797979797985, 4.924242424242425, 5.050505050505051, 5.176767676767677, 5.303030303030304, 5.42929292929293, 5.555555555555556, 5.6818181818181825, 5.808080808080809, 5.934343434343435, 6.0606060606060606, 6.186868686868687, 6.313131313131313, 6.4393939393939394, 6.565656565656566, 6.691919191919192, 6.818181818181818, 6.944444444444445, 7.070707070707071, 7.196969696969697, 7.3232323232323235, 7.44949494949495, 7.575757575757576, 7.702020202020202, 7.828282828282829, 7.954545454545455, 8.080808080808081, 8.207070707070708, 8.333333333333334, 8.45959595959596, 8.585858585858587, 8.712121212121213, 8.83838383838384, 8.964646464646465, 9.090909090909092, 9.217171717171718, 9.343434343434344, 9.46969696969697, 9.595959595959597, 9.722222222222223, 9.84848484848485, 9.974747474747476, 10.101010101010102, 10.227272727272728, 10.353535353535355, 10.479797979797981, 10.606060606060607, 10.732323232323234, 10.85858585858586, 10.984848484848486, 11.111111111111112, 11.237373737373739, 11.363636363636365, 11.489898989898991, 11.616161616161618, 11.742424242424244, 11.86868686868687, 11.994949494949497, 12.121212121212121, 12.247474747474747, 12.373737373737374, 12.5], \"y\": [69.1296844985726, 69.29059378183635, 69.35665745056403, 69.40695017648609, 69.4490134140845, 69.48577599294727, 69.51874371652161, 69.5488132365064, 69.57657012515368, 69.60242203994856, 69.62666644597857, 69.64952838571828, 69.67118305855242, 69.6917700729476, 69.71140284478291, 69.73017502234829, 69.74816501347573, 69.76543925855476, 69.7820546499171, 69.79806035511217, 69.81349921448465, 69.82840882869252, 69.84282241639704, 69.85676949890384, 69.87027645265543, 69.88336695951085, 69.8960623770457, 69.90838204560049, 69.92034354481943, 69.931962909492, 69.94325481233074, 69.95423271968197, 69.96490902491898, 69.97529516331248, 69.98540171143246, 69.99523847355624, 70.00481455710373, 70.014138438757, 70.02321802263519, 70.03206069166141, 70.04067335307181, 70.04906247886319, 70.05723414185061, 70.06519404790383, 70.07294756484544, 70.08049974842334, 70.08785536571119, 70.09501891624043, 70.10199465112622, 70.10878659041447, 70.11539853884695, 70.12183410021632, 70.12809669046094, 70.13418954963105, 70.14011575284172, 70.14587822031402, 70.15147972659457, 70.15692290903223, 70.16221027558275, 70.16734421200383, 70.17232698849612, 70.1771607658402, 70.1818476010734, 70.18638945274692, 70.19078818579824, 70.19504557607156, 70.19916331451458, 70.20314301107786, 70.20698619834039, 70.2106943348825, 70.21426880842485, 70.2177109387519, 70.22102198043484, 70.22420312536848, 70.22725550513563, 70.23018019321003, 70.2329782070094, 70.23565050980805, 70.23819801251794, 70.24062157534688, 70.24292200934077, 70.24510007781693, 70.24715649769495, 70.24909194073021, 70.25090703465591, 70.25260236423766, 70.2541784722453, 70.25563586034586, 70.25697498992079, 70.25819628281131, 70.25930012199389, 70.26028685218932, 70.2611567804069, 70.26191017642641, 70.26254727321907, 70.26306826730958, 70.26347331908002, 70.26376255301734, 70.26393605790457]}, {\"mode\": \"lines\", \"name\": \"Inside, rt = 2.6 nm\", \"type\": \"scatter\", \"x\": [0.0, 0.12626262626262627, 0.25252525252525254, 0.3787878787878788, 0.5050505050505051, 0.6313131313131314, 0.7575757575757576, 0.8838383838383839, 1.0101010101010102, 1.1363636363636365, 1.2626262626262628, 1.388888888888889, 1.5151515151515151, 1.6414141414141414, 1.7676767676767677, 1.893939393939394, 2.0202020202020203, 2.1464646464646466, 2.272727272727273, 2.3989898989898992, 2.5252525252525255, 2.651515151515152, 2.777777777777778, 2.9040404040404044, 3.0303030303030303, 3.1565656565656566, 3.282828282828283, 3.409090909090909, 3.5353535353535355, 3.6616161616161618, 3.787878787878788, 3.9141414141414144, 4.040404040404041, 4.166666666666667, 4.292929292929293, 4.41919191919192, 4.545454545454546, 4.671717171717172, 4.7979797979797985, 4.924242424242425, 5.050505050505051, 5.176767676767677, 5.303030303030304, 5.42929292929293, 5.555555555555556, 5.6818181818181825, 5.808080808080809, 5.934343434343435, 6.0606060606060606, 6.186868686868687, 6.313131313131313, 6.4393939393939394, 6.565656565656566, 6.691919191919192, 6.818181818181818, 6.944444444444445, 7.070707070707071, 7.196969696969697, 7.3232323232323235, 7.44949494949495, 7.575757575757576, 7.702020202020202, 7.828282828282829, 7.954545454545455, 8.080808080808081, 8.207070707070708, 8.333333333333334, 8.45959595959596, 8.585858585858587, 8.712121212121213, 8.83838383838384, 8.964646464646465, 9.090909090909092, 9.217171717171718, 9.343434343434344, 9.46969696969697, 9.595959595959597, 9.722222222222223, 9.84848484848485, 9.974747474747476, 10.101010101010102, 10.227272727272728, 10.353535353535355, 10.479797979797981, 10.606060606060607, 10.732323232323234, 10.85858585858586, 10.984848484848486, 11.111111111111112, 11.237373737373739, 11.363636363636365, 11.489898989898991, 11.616161616161618, 11.742424242424244, 11.86868686868687, 11.994949494949497, 12.121212121212121, 12.247474747474747, 12.373737373737374, 12.5], \"y\": [69.1296844985726, 68.96874481001245, 68.90265104491895, 68.85232853155398, 68.81023581542816, 68.77344406694597, 68.74044748265295, 68.71034941084292, 68.68256427925668, 68.65668443040198, 68.63241239918437, 68.60952314312216, 68.5878414628239, 68.56722774981611, 68.54756858821301, 68.52877032971801, 68.51075456649251, 68.49345485814061, 68.4768143123241, 68.46078376148726, 68.44532036527916, 68.43038652303565, 68.41594901608936, 68.40197832312859, 68.38844806770504, 68.37533456795367, 68.36261646629313, 68.35027442237727, 68.33829085655611, 68.32664973403477, 68.31533638209517, 68.30433733438554, 68.29364019752735, 68.28323353624462, 68.27310677396221, 68.26325010639766, 68.25365442612613, 68.24431125646059, 68.23521269327702, 68.22635135364754, 68.2177203303313, 68.20931315132691, 68.20112374381475, 68.19314640192059, 68.18537575781744, 68.17780675575312, 68.1704346286497, 68.16325487697164, 68.15626324959969, 68.14945572648394, 68.14282850287859, 68.13637797498725, 68.13010072686778, 68.12399351846625, 68.11805327466398, 68.11227707523635, 68.10666214563325, 68.10120584850252, 68.09590567588505, 68.09075924201993, 68.0857642767034, 68.08091861915175, 68.07622021232469, 68.07166709766814, 68.06725741024174, 68.06298937419855, 68.05886129858818, 68.05487157345749, 68.05101866622492, 68.04730111830776, 68.04371754198294, 68.04026661746371, 68.0369470901767, 68.0337577682249, 68.0306975200235, 68.02776527209673, 68.024960007025, 68.02228076153222, 68.01972662470457, 68.01729673633265, 68.01499028536895, 68.01280650849465, 68.0107446887887, 68.00880415449437, 68.00698427787717, 68.00528447417027, 68.00370420060275, 68.00224295550652, 68.00090027749913, 67.99967574473851, 67.99856897424732, 67.99757962130407, 67.9967073788988, 67.99595197725114, 67.99531318338933, 67.99479080078831, 67.99438466906558, 67.994094663734, 67.99392069601026]}, {\"mode\": \"lines\", \"name\": \"Outside, rt = 45.0 nm\", \"type\": \"scatter\", \"x\": [0.0, 0.45454545454545453, 0.9090909090909091, 1.3636363636363635, 1.8181818181818181, 2.2727272727272725, 2.727272727272727, 3.1818181818181817, 3.6363636363636362, 4.090909090909091, 4.545454545454545, 5.0, 5.454545454545454, 5.909090909090909, 6.363636363636363, 6.818181818181818, 7.2727272727272725, 7.727272727272727, 8.181818181818182, 8.636363636363637, 9.09090909090909, 9.545454545454545, 10.0, 10.454545454545455, 10.909090909090908, 11.363636363636363, 11.818181818181818, 12.272727272727272, 12.727272727272727, 13.181818181818182, 13.636363636363637, 14.09090909090909, 14.545454545454545, 15.0, 15.454545454545453, 15.909090909090908, 16.363636363636363, 16.818181818181817, 17.272727272727273, 17.727272727272727, 18.18181818181818, 18.636363636363637, 19.09090909090909, 19.545454545454543, 20.0, 20.454545454545453, 20.90909090909091, 21.363636363636363, 21.818181818181817, 22.272727272727273, 22.727272727272727, 23.18181818181818, 23.636363636363637, 24.09090909090909, 24.545454545454543, 25.0, 25.454545454545453, 25.909090909090907, 26.363636363636363, 26.818181818181817, 27.272727272727273, 27.727272727272727, 28.18181818181818, 28.636363636363637, 29.09090909090909, 29.545454545454543, 30.0, 30.454545454545453, 30.909090909090907, 31.363636363636363, 31.818181818181817, 32.27272727272727, 32.72727272727273, 33.18181818181818, 33.63636363636363, 34.090909090909086, 34.54545454545455, 35.0, 35.45454545454545, 35.90909090909091, 36.36363636363636, 36.81818181818182, 37.27272727272727, 37.72727272727273, 38.18181818181818, 38.63636363636363, 39.090909090909086, 39.54545454545455, 40.0, 40.45454545454545, 40.90909090909091, 41.36363636363636, 41.81818181818182, 42.27272727272727, 42.72727272727273, 43.18181818181818, 43.63636363636363, 44.090909090909086, 44.54545454545455, 45.0], \"y\": [51.475879627001575, 51.63009189979679, 51.693392476705306, 51.741576437633924, 51.7818724589059, 51.817087898545786, 51.84866610776147, 51.87746655026259, 51.90405051215649, 51.92880874369076, 51.952026372873476, 51.97391910877771, 51.99465488459202, 52.01436751869255, 52.03316572318376, 52.051139262424535, 52.06836329239972, 52.084901497989854, 52.10080841201361, 52.116131162884486, 52.130910814224976, 52.14518340728075, 52.15898078303863, 52.172331238473085, 52.185260056124264, 52.197789935703064, 52.2099413490332, 52.22173283436508, 52.233181242274995, 52.24430194255472, 52.255108999409025, 52.2656153207084, 52.275832785849836, 52.28577235586329, 52.29544416869089, 52.3048576220115, 52.31402144554709, 52.32294376444047, 52.33163215501715, 52.340093694022116, 52.348335002241335, 52.35636228327186, 52.36418135808415, 52.371797695921394, 52.37921644199924, 52.3864424424011, 52.39348026650808, 52.400334227254454, 52.40700839946073, 52.41350663646096, 52.41983258521415, 52.42598970006383, 52.431981255289855, 52.43781035657836, 52.44347995152034, 52.44899283923659, 52.4543516792146, 52.459558999433916, 52.46461720384703, 52.46952857927605, 52.474295301778355, 52.47891944252884, 52.48340297326158, 52.48774777130867, 52.49195562427086, 52.49602823435013, 52.49996722237282, 52.503774131527024, 52.507450430837864, 52.51099751840043, 52.514416724388816, 52.51770931385814, 52.52087648935463, 52.52391939334728, 52.5268391104942, 52.52963666975412, 52.5323130463544, 52.53486916362423, 52.537305894701845, 52.53962406412406, 52.541824449304315, 52.54390778190685, 52.54587474912212, 52.54772599484932, 52.549462120790935, 52.551083687463716, 52.552591215130064, 52.553985184654074, 52.555266038284785, 52.556434180370665, 52.5574899780071, 52.558433761620144, 52.55926582548816, 52.55998642820387, 52.56059579307775, 52.56109410848508, 52.56148152815733, 52.561758171419285, 52.56192412337233]}, {\"mode\": \"lines\", \"name\": \"Inside, rt = 45.0 nm\", \"type\": \"scatter\", \"x\": [0.0, 0.45454545454545453, 0.9090909090909091, 1.3636363636363635, 1.8181818181818181, 2.2727272727272725, 2.727272727272727, 3.1818181818181817, 3.6363636363636362, 4.090909090909091, 4.545454545454545, 5.0, 5.454545454545454, 5.909090909090909, 6.363636363636363, 6.818181818181818, 7.2727272727272725, 7.727272727272727, 8.181818181818182, 8.636363636363637, 9.09090909090909, 9.545454545454545, 10.0, 10.454545454545455, 10.909090909090908, 11.363636363636363, 11.818181818181818, 12.272727272727272, 12.727272727272727, 13.181818181818182, 13.636363636363637, 14.09090909090909, 14.545454545454545, 15.0, 15.454545454545453, 15.909090909090908, 16.363636363636363, 16.818181818181817, 17.272727272727273, 17.727272727272727, 18.18181818181818, 18.636363636363637, 19.09090909090909, 19.545454545454543, 20.0, 20.454545454545453, 20.90909090909091, 21.363636363636363, 21.818181818181817, 22.272727272727273, 22.727272727272727, 23.18181818181818, 23.636363636363637, 24.09090909090909, 24.545454545454543, 25.0, 25.454545454545453, 25.909090909090907, 26.363636363636363, 26.818181818181817, 27.272727272727273, 27.727272727272727, 28.18181818181818, 28.636363636363637, 29.09090909090909, 29.545454545454543, 30.0, 30.454545454545453, 30.909090909090907, 31.363636363636363, 31.818181818181817, 32.27272727272727, 32.72727272727273, 33.18181818181818, 33.63636363636363, 34.090909090909086, 34.54545454545455, 35.0, 35.45454545454545, 35.90909090909091, 36.36363636363636, 36.81818181818182, 37.27272727272727, 37.72727272727273, 38.18181818181818, 38.63636363636363, 39.090909090909086, 39.54545454545455, 40.0, 40.45454545454545, 40.90909090909091, 41.36363636363636, 41.81818181818182, 42.27272727272727, 42.72727272727273, 43.18181818181818, 43.63636363636363, 44.090909090909086, 44.54545454545455, 45.0], \"y\": [51.475879627001575, 51.321591521701215, 51.25821588275967, 51.20995763025188, 51.16958808783639, 51.13429989747071, 51.1026497079292, 51.07377805548464, 51.04712365401225, 51.022295753247334, 50.9990092251647, 50.9770483606745, 50.956245226571504, 50.93646600446315, 50.91760198222868, 50.899563395493196, 50.88227508825588, 50.86567337562052, 50.84970372475295, 50.83431900722436, 50.81947815939706, 50.80514514001047, 50.79128810806297, 50.77787876656556, 50.764891832963706, 50.75230460753227, 50.74009661843354, 50.728249327403276, 50.71674588385159, 50.705570917973255, 50.69471036555017, 50.68415131869885, 50.67388189800941, 50.66389114243915, 50.65416891403347, 50.64470581510119, 50.635493115908176, 50.626522691299726, 50.61778696493851, 50.609278860068, 50.60099175589089, 50.5929194487989, 50.58505611781052, 50.577396293671804, 50.56993483115646, 50.56266688417064, 50.555587883323, 50.54869351566913, 50.54197970637873, 50.535442602108, 50.52907855588848, 50.52288411336731, 50.516856000255494, 50.51099111085797, 50.505286497575014, 50.499739361277236, 50.494347042468775, 50.48910701316195, 50.48401686939623, 50.479074324341674, 50.47427720193334, 50.46962343098888, 50.46511103976698, 50.460738150928464, 50.45650297686576, 50.45240381537015, 50.44843904560884, 50.44460712438744, 50.440906582674664, 50.43733602236954, 50.43389411329224, 50.43057959038208, 50.42739125108746, 50.4243279529342, 50.42138861125926, 50.41857219709906, 50.41587773522162, 50.4133043022934, 50.410851025171844, 50.408517079316155, 50.40630168730899, 50.40420411748246, 50.40222368264265, 50.40035973888703, 50.39861168451002, 50.396978958991994, 50.395461042067765, 50.394057452870754, 50.39276774914952, 50.39159152655347, 50.39052841798518, 50.389578093016894, 50.38874025736857, 50.38801465244614, 50.38740105493788, 50.38689927646746, 50.38650916330256, 50.38623059611778, 50.38606348981121]}],                        {\"template\": {\"data\": {\"bar\": [{\"error_x\": {\"color\": \"#2a3f5f\"}, \"error_y\": {\"color\": \"#2a3f5f\"}, \"marker\": {\"line\": {\"color\": \"#E5ECF6\", \"width\": 0.5}}, \"type\": \"bar\"}], \"barpolar\": [{\"marker\": {\"line\": {\"color\": \"#E5ECF6\", \"width\": 0.5}}, \"type\": \"barpolar\"}], \"carpet\": [{\"aaxis\": {\"endlinecolor\": \"#2a3f5f\", \"gridcolor\": \"white\", \"linecolor\": \"white\", \"minorgridcolor\": \"white\", \"startlinecolor\": \"#2a3f5f\"}, \"baxis\": {\"endlinecolor\": \"#2a3f5f\", \"gridcolor\": \"white\", \"linecolor\": \"white\", \"minorgridcolor\": \"white\", \"startlinecolor\": \"#2a3f5f\"}, \"type\": \"carpet\"}], \"choropleth\": [{\"colorbar\": {\"outlinewidth\": 0, \"ticks\": \"\"}, \"type\": \"choropleth\"}], \"contour\": [{\"colorbar\": {\"outlinewidth\": 0, \"ticks\": \"\"}, \"colorscale\": [[0.0, \"#0d0887\"], [0.1111111111111111, \"#46039f\"], [0.2222222222222222, \"#7201a8\"], [0.3333333333333333, \"#9c179e\"], [0.4444444444444444, \"#bd3786\"], [0.5555555555555556, \"#d8576b\"], [0.6666666666666666, \"#ed7953\"], [0.7777777777777778, \"#fb9f3a\"], [0.8888888888888888, \"#fdca26\"], [1.0, \"#f0f921\"]], \"type\": \"contour\"}], \"contourcarpet\": [{\"colorbar\": {\"outlinewidth\": 0, \"ticks\": \"\"}, \"type\": \"contourcarpet\"}], \"heatmap\": [{\"colorbar\": {\"outlinewidth\": 0, \"ticks\": \"\"}, \"colorscale\": [[0.0, \"#0d0887\"], [0.1111111111111111, \"#46039f\"], [0.2222222222222222, \"#7201a8\"], [0.3333333333333333, \"#9c179e\"], [0.4444444444444444, \"#bd3786\"], [0.5555555555555556, \"#d8576b\"], [0.6666666666666666, \"#ed7953\"], [0.7777777777777778, \"#fb9f3a\"], [0.8888888888888888, \"#fdca26\"], [1.0, \"#f0f921\"]], \"type\": \"heatmap\"}], \"heatmapgl\": [{\"colorbar\": {\"outlinewidth\": 0, \"ticks\": \"\"}, \"colorscale\": [[0.0, \"#0d0887\"], [0.1111111111111111, \"#46039f\"], [0.2222222222222222, \"#7201a8\"], [0.3333333333333333, \"#9c179e\"], [0.4444444444444444, \"#bd3786\"], [0.5555555555555556, \"#d8576b\"], [0.6666666666666666, \"#ed7953\"], [0.7777777777777778, \"#fb9f3a\"], [0.8888888888888888, \"#fdca26\"], [1.0, \"#f0f921\"]], \"type\": \"heatmapgl\"}], \"histogram\": [{\"marker\": {\"colorbar\": {\"outlinewidth\": 0, \"ticks\": \"\"}}, \"type\": \"histogram\"}], \"histogram2d\": [{\"colorbar\": {\"outlinewidth\": 0, \"ticks\": \"\"}, \"colorscale\": [[0.0, \"#0d0887\"], [0.1111111111111111, \"#46039f\"], [0.2222222222222222, \"#7201a8\"], [0.3333333333333333, \"#9c179e\"], [0.4444444444444444, \"#bd3786\"], [0.5555555555555556, \"#d8576b\"], [0.6666666666666666, \"#ed7953\"], [0.7777777777777778, \"#fb9f3a\"], [0.8888888888888888, \"#fdca26\"], [1.0, \"#f0f921\"]], \"type\": \"histogram2d\"}], \"histogram2dcontour\": [{\"colorbar\": {\"outlinewidth\": 0, \"ticks\": \"\"}, \"colorscale\": [[0.0, \"#0d0887\"], [0.1111111111111111, \"#46039f\"], [0.2222222222222222, \"#7201a8\"], [0.3333333333333333, \"#9c179e\"], [0.4444444444444444, \"#bd3786\"], [0.5555555555555556, \"#d8576b\"], [0.6666666666666666, \"#ed7953\"], [0.7777777777777778, \"#fb9f3a\"], [0.8888888888888888, \"#fdca26\"], [1.0, \"#f0f921\"]], \"type\": \"histogram2dcontour\"}], \"mesh3d\": [{\"colorbar\": {\"outlinewidth\": 0, \"ticks\": \"\"}, \"type\": \"mesh3d\"}], \"parcoords\": [{\"line\": {\"colorbar\": {\"outlinewidth\": 0, \"ticks\": \"\"}}, \"type\": \"parcoords\"}], \"pie\": [{\"automargin\": true, \"type\": \"pie\"}], \"scatter\": [{\"marker\": {\"colorbar\": {\"outlinewidth\": 0, \"ticks\": \"\"}}, \"type\": \"scatter\"}], \"scatter3d\": [{\"line\": {\"colorbar\": {\"outlinewidth\": 0, \"ticks\": \"\"}}, \"marker\": {\"colorbar\": {\"outlinewidth\": 0, \"ticks\": \"\"}}, \"type\": \"scatter3d\"}], \"scattercarpet\": [{\"marker\": {\"colorbar\": {\"outlinewidth\": 0, \"ticks\": \"\"}}, \"type\": \"scattercarpet\"}], \"scattergeo\": [{\"marker\": {\"colorbar\": {\"outlinewidth\": 0, \"ticks\": \"\"}}, \"type\": \"scattergeo\"}], \"scattergl\": [{\"marker\": {\"colorbar\": {\"outlinewidth\": 0, \"ticks\": \"\"}}, \"type\": \"scattergl\"}], \"scattermapbox\": [{\"marker\": {\"colorbar\": {\"outlinewidth\": 0, \"ticks\": \"\"}}, \"type\": \"scattermapbox\"}], \"scatterpolar\": [{\"marker\": {\"colorbar\": {\"outlinewidth\": 0, \"ticks\": \"\"}}, \"type\": \"scatterpolar\"}], \"scatterpolargl\": [{\"marker\": {\"colorbar\": {\"outlinewidth\": 0, \"ticks\": \"\"}}, \"type\": \"scatterpolargl\"}], \"scatterternary\": [{\"marker\": {\"colorbar\": {\"outlinewidth\": 0, \"ticks\": \"\"}}, \"type\": \"scatterternary\"}], \"surface\": [{\"colorbar\": {\"outlinewidth\": 0, \"ticks\": \"\"}, \"colorscale\": [[0.0, \"#0d0887\"], [0.1111111111111111, \"#46039f\"], [0.2222222222222222, \"#7201a8\"], [0.3333333333333333, \"#9c179e\"], [0.4444444444444444, \"#bd3786\"], [0.5555555555555556, \"#d8576b\"], [0.6666666666666666, \"#ed7953\"], [0.7777777777777778, \"#fb9f3a\"], [0.8888888888888888, \"#fdca26\"], [1.0, \"#f0f921\"]], \"type\": \"surface\"}], \"table\": [{\"cells\": {\"fill\": {\"color\": \"#EBF0F8\"}, \"line\": {\"color\": \"white\"}}, \"header\": {\"fill\": {\"color\": \"#C8D4E3\"}, \"line\": {\"color\": \"white\"}}, \"type\": \"table\"}]}, \"layout\": {\"annotationdefaults\": {\"arrowcolor\": \"#2a3f5f\", \"arrowhead\": 0, \"arrowwidth\": 1}, \"coloraxis\": {\"colorbar\": {\"outlinewidth\": 0, \"ticks\": \"\"}}, \"colorscale\": {\"diverging\": [[0, \"#8e0152\"], [0.1, \"#c51b7d\"], [0.2, \"#de77ae\"], [0.3, \"#f1b6da\"], [0.4, \"#fde0ef\"], [0.5, \"#f7f7f7\"], [0.6, \"#e6f5d0\"], [0.7, \"#b8e186\"], [0.8, \"#7fbc41\"], [0.9, \"#4d9221\"], [1, \"#276419\"]], \"sequential\": [[0.0, \"#0d0887\"], [0.1111111111111111, \"#46039f\"], [0.2222222222222222, \"#7201a8\"], [0.3333333333333333, \"#9c179e\"], [0.4444444444444444, \"#bd3786\"], [0.5555555555555556, \"#d8576b\"], [0.6666666666666666, \"#ed7953\"], [0.7777777777777778, \"#fb9f3a\"], [0.8888888888888888, \"#fdca26\"], [1.0, \"#f0f921\"]], \"sequentialminus\": [[0.0, \"#0d0887\"], [0.1111111111111111, \"#46039f\"], [0.2222222222222222, \"#7201a8\"], [0.3333333333333333, \"#9c179e\"], [0.4444444444444444, \"#bd3786\"], [0.5555555555555556, \"#d8576b\"], [0.6666666666666666, \"#ed7953\"], [0.7777777777777778, \"#fb9f3a\"], [0.8888888888888888, \"#fdca26\"], [1.0, \"#f0f921\"]]}, \"colorway\": [\"#636efa\", \"#EF553B\", \"#00cc96\", \"#ab63fa\", \"#FFA15A\", \"#19d3f3\", \"#FF6692\", \"#B6E880\", \"#FF97FF\", \"#FECB52\"], \"font\": {\"color\": \"#2a3f5f\"}, \"geo\": {\"bgcolor\": \"white\", \"lakecolor\": \"white\", \"landcolor\": \"#E5ECF6\", \"showlakes\": true, \"showland\": true, \"subunitcolor\": \"white\"}, \"hoverlabel\": {\"align\": \"left\"}, \"hovermode\": \"closest\", \"mapbox\": {\"style\": \"light\"}, \"paper_bgcolor\": \"white\", \"plot_bgcolor\": \"#E5ECF6\", \"polar\": {\"angularaxis\": {\"gridcolor\": \"white\", \"linecolor\": \"white\", \"ticks\": \"\"}, \"bgcolor\": \"#E5ECF6\", \"radialaxis\": {\"gridcolor\": \"white\", \"linecolor\": \"white\", \"ticks\": \"\"}}, \"scene\": {\"xaxis\": {\"backgroundcolor\": \"#E5ECF6\", \"gridcolor\": \"white\", \"gridwidth\": 2, \"linecolor\": \"white\", \"showbackground\": true, \"ticks\": \"\", \"zerolinecolor\": \"white\"}, \"yaxis\": {\"backgroundcolor\": \"#E5ECF6\", \"gridcolor\": \"white\", \"gridwidth\": 2, \"linecolor\": \"white\", \"showbackground\": true, \"ticks\": \"\", \"zerolinecolor\": \"white\"}, \"zaxis\": {\"backgroundcolor\": \"#E5ECF6\", \"gridcolor\": \"white\", \"gridwidth\": 2, \"linecolor\": \"white\", \"showbackground\": true, \"ticks\": \"\", \"zerolinecolor\": \"white\"}}, \"shapedefaults\": {\"line\": {\"color\": \"#2a3f5f\"}}, \"ternary\": {\"aaxis\": {\"gridcolor\": \"white\", \"linecolor\": \"white\", \"ticks\": \"\"}, \"baxis\": {\"gridcolor\": \"white\", \"linecolor\": \"white\", \"ticks\": \"\"}, \"bgcolor\": \"#E5ECF6\", \"caxis\": {\"gridcolor\": \"white\", \"linecolor\": \"white\", \"ticks\": \"\"}}, \"title\": {\"x\": 0.05}, \"xaxis\": {\"automargin\": true, \"gridcolor\": \"white\", \"linecolor\": \"white\", \"ticks\": \"\", \"title\": {\"standoff\": 15}, \"zerolinecolor\": \"white\", \"zerolinewidth\": 2}, \"yaxis\": {\"automargin\": true, \"gridcolor\": \"white\", \"linecolor\": \"white\", \"ticks\": \"\", \"title\": {\"standoff\": 15}, \"zerolinecolor\": \"white\", \"zerolinewidth\": 2}}}, \"title\": {\"text\": \"Post-fusion ring energies\"}, \"xaxis\": {\"title\": {\"text\": \"z (nm)\"}}, \"yaxis\": {\"title\": {\"text\": \"Energy (kT)\"}}},                        {\"responsive\": true}                    ).then(function(){\n",
       "                            \n",
       "var gd = document.getElementById('dbd4f8ee-9e20-4d82-8b30-276036596582');\n",
       "var x = new MutationObserver(function (mutations, observer) {{\n",
       "        var display = window.getComputedStyle(gd).display;\n",
       "        if (!display || display === 'none') {{\n",
       "            console.log([gd, 'removed!']);\n",
       "            Plotly.purge(gd);\n",
       "            observer.disconnect();\n",
       "        }}\n",
       "}});\n",
       "\n",
       "// Listen for the removal of the full notebook cells\n",
       "var notebookContainer = gd.closest('#notebook-container');\n",
       "if (notebookContainer) {{\n",
       "    x.observe(notebookContainer, {childList: true});\n",
       "}}\n",
       "\n",
       "// Listen for the clearing of the current output cell\n",
       "var outputEl = gd.closest('.output');\n",
       "if (outputEl) {{\n",
       "    x.observe(outputEl, {childList: true});\n",
       "}}\n",
       "\n",
       "                        })                };                });            </script>        </div>"
      ]
     },
     "metadata": {},
     "output_type": "display_data"
    },
    {
     "data": {
      "application/vnd.plotly.v1+json": {
       "config": {
        "plotlyServerURL": "https://plot.ly"
       },
       "data": [
        {
         "mode": "markers+lines",
         "type": "scatter",
         "x": [
          2,
          2.3,
          2.6,
          3,
          3.5,
          4,
          5,
          6.5,
          8,
          10,
          12.5,
          15,
          17.5,
          20,
          22.5,
          25,
          30,
          35,
          40,
          45
         ],
         "y": [
          35531.412926968624,
          30921.368034349438,
          27375.156934248258,
          23750.11059425065,
          20383.95418976274,
          17859.296260387597,
          14324.678186487545,
          11061.768848330483,
          9022.272147847538,
          7254.489432059199,
          5839.986488583474,
          4896.7332757275135,
          4222.7701888772335,
          3717.1173839969974,
          3323.6749093543813,
          3008.7827584735605,
          2536.109262069441,
          2198.116419066634,
          1944.313622099082,
          1746.6502057599148
         ]
        }
       ],
       "layout": {
        "autosize": true,
        "template": {
         "data": {
          "bar": [
           {
            "error_x": {
             "color": "#2a3f5f"
            },
            "error_y": {
             "color": "#2a3f5f"
            },
            "marker": {
             "line": {
              "color": "#E5ECF6",
              "width": 0.5
             }
            },
            "type": "bar"
           }
          ],
          "barpolar": [
           {
            "marker": {
             "line": {
              "color": "#E5ECF6",
              "width": 0.5
             }
            },
            "type": "barpolar"
           }
          ],
          "carpet": [
           {
            "aaxis": {
             "endlinecolor": "#2a3f5f",
             "gridcolor": "white",
             "linecolor": "white",
             "minorgridcolor": "white",
             "startlinecolor": "#2a3f5f"
            },
            "baxis": {
             "endlinecolor": "#2a3f5f",
             "gridcolor": "white",
             "linecolor": "white",
             "minorgridcolor": "white",
             "startlinecolor": "#2a3f5f"
            },
            "type": "carpet"
           }
          ],
          "choropleth": [
           {
            "colorbar": {
             "outlinewidth": 0,
             "ticks": ""
            },
            "type": "choropleth"
           }
          ],
          "contour": [
           {
            "colorbar": {
             "outlinewidth": 0,
             "ticks": ""
            },
            "colorscale": [
             [
              0,
              "#0d0887"
             ],
             [
              0.1111111111111111,
              "#46039f"
             ],
             [
              0.2222222222222222,
              "#7201a8"
             ],
             [
              0.3333333333333333,
              "#9c179e"
             ],
             [
              0.4444444444444444,
              "#bd3786"
             ],
             [
              0.5555555555555556,
              "#d8576b"
             ],
             [
              0.6666666666666666,
              "#ed7953"
             ],
             [
              0.7777777777777778,
              "#fb9f3a"
             ],
             [
              0.8888888888888888,
              "#fdca26"
             ],
             [
              1,
              "#f0f921"
             ]
            ],
            "type": "contour"
           }
          ],
          "contourcarpet": [
           {
            "colorbar": {
             "outlinewidth": 0,
             "ticks": ""
            },
            "type": "contourcarpet"
           }
          ],
          "heatmap": [
           {
            "colorbar": {
             "outlinewidth": 0,
             "ticks": ""
            },
            "colorscale": [
             [
              0,
              "#0d0887"
             ],
             [
              0.1111111111111111,
              "#46039f"
             ],
             [
              0.2222222222222222,
              "#7201a8"
             ],
             [
              0.3333333333333333,
              "#9c179e"
             ],
             [
              0.4444444444444444,
              "#bd3786"
             ],
             [
              0.5555555555555556,
              "#d8576b"
             ],
             [
              0.6666666666666666,
              "#ed7953"
             ],
             [
              0.7777777777777778,
              "#fb9f3a"
             ],
             [
              0.8888888888888888,
              "#fdca26"
             ],
             [
              1,
              "#f0f921"
             ]
            ],
            "type": "heatmap"
           }
          ],
          "heatmapgl": [
           {
            "colorbar": {
             "outlinewidth": 0,
             "ticks": ""
            },
            "colorscale": [
             [
              0,
              "#0d0887"
             ],
             [
              0.1111111111111111,
              "#46039f"
             ],
             [
              0.2222222222222222,
              "#7201a8"
             ],
             [
              0.3333333333333333,
              "#9c179e"
             ],
             [
              0.4444444444444444,
              "#bd3786"
             ],
             [
              0.5555555555555556,
              "#d8576b"
             ],
             [
              0.6666666666666666,
              "#ed7953"
             ],
             [
              0.7777777777777778,
              "#fb9f3a"
             ],
             [
              0.8888888888888888,
              "#fdca26"
             ],
             [
              1,
              "#f0f921"
             ]
            ],
            "type": "heatmapgl"
           }
          ],
          "histogram": [
           {
            "marker": {
             "colorbar": {
              "outlinewidth": 0,
              "ticks": ""
             }
            },
            "type": "histogram"
           }
          ],
          "histogram2d": [
           {
            "colorbar": {
             "outlinewidth": 0,
             "ticks": ""
            },
            "colorscale": [
             [
              0,
              "#0d0887"
             ],
             [
              0.1111111111111111,
              "#46039f"
             ],
             [
              0.2222222222222222,
              "#7201a8"
             ],
             [
              0.3333333333333333,
              "#9c179e"
             ],
             [
              0.4444444444444444,
              "#bd3786"
             ],
             [
              0.5555555555555556,
              "#d8576b"
             ],
             [
              0.6666666666666666,
              "#ed7953"
             ],
             [
              0.7777777777777778,
              "#fb9f3a"
             ],
             [
              0.8888888888888888,
              "#fdca26"
             ],
             [
              1,
              "#f0f921"
             ]
            ],
            "type": "histogram2d"
           }
          ],
          "histogram2dcontour": [
           {
            "colorbar": {
             "outlinewidth": 0,
             "ticks": ""
            },
            "colorscale": [
             [
              0,
              "#0d0887"
             ],
             [
              0.1111111111111111,
              "#46039f"
             ],
             [
              0.2222222222222222,
              "#7201a8"
             ],
             [
              0.3333333333333333,
              "#9c179e"
             ],
             [
              0.4444444444444444,
              "#bd3786"
             ],
             [
              0.5555555555555556,
              "#d8576b"
             ],
             [
              0.6666666666666666,
              "#ed7953"
             ],
             [
              0.7777777777777778,
              "#fb9f3a"
             ],
             [
              0.8888888888888888,
              "#fdca26"
             ],
             [
              1,
              "#f0f921"
             ]
            ],
            "type": "histogram2dcontour"
           }
          ],
          "mesh3d": [
           {
            "colorbar": {
             "outlinewidth": 0,
             "ticks": ""
            },
            "type": "mesh3d"
           }
          ],
          "parcoords": [
           {
            "line": {
             "colorbar": {
              "outlinewidth": 0,
              "ticks": ""
             }
            },
            "type": "parcoords"
           }
          ],
          "pie": [
           {
            "automargin": true,
            "type": "pie"
           }
          ],
          "scatter": [
           {
            "marker": {
             "colorbar": {
              "outlinewidth": 0,
              "ticks": ""
             }
            },
            "type": "scatter"
           }
          ],
          "scatter3d": [
           {
            "line": {
             "colorbar": {
              "outlinewidth": 0,
              "ticks": ""
             }
            },
            "marker": {
             "colorbar": {
              "outlinewidth": 0,
              "ticks": ""
             }
            },
            "type": "scatter3d"
           }
          ],
          "scattercarpet": [
           {
            "marker": {
             "colorbar": {
              "outlinewidth": 0,
              "ticks": ""
             }
            },
            "type": "scattercarpet"
           }
          ],
          "scattergeo": [
           {
            "marker": {
             "colorbar": {
              "outlinewidth": 0,
              "ticks": ""
             }
            },
            "type": "scattergeo"
           }
          ],
          "scattergl": [
           {
            "marker": {
             "colorbar": {
              "outlinewidth": 0,
              "ticks": ""
             }
            },
            "type": "scattergl"
           }
          ],
          "scattermapbox": [
           {
            "marker": {
             "colorbar": {
              "outlinewidth": 0,
              "ticks": ""
             }
            },
            "type": "scattermapbox"
           }
          ],
          "scatterpolar": [
           {
            "marker": {
             "colorbar": {
              "outlinewidth": 0,
              "ticks": ""
             }
            },
            "type": "scatterpolar"
           }
          ],
          "scatterpolargl": [
           {
            "marker": {
             "colorbar": {
              "outlinewidth": 0,
              "ticks": ""
             }
            },
            "type": "scatterpolargl"
           }
          ],
          "scatterternary": [
           {
            "marker": {
             "colorbar": {
              "outlinewidth": 0,
              "ticks": ""
             }
            },
            "type": "scatterternary"
           }
          ],
          "surface": [
           {
            "colorbar": {
             "outlinewidth": 0,
             "ticks": ""
            },
            "colorscale": [
             [
              0,
              "#0d0887"
             ],
             [
              0.1111111111111111,
              "#46039f"
             ],
             [
              0.2222222222222222,
              "#7201a8"
             ],
             [
              0.3333333333333333,
              "#9c179e"
             ],
             [
              0.4444444444444444,
              "#bd3786"
             ],
             [
              0.5555555555555556,
              "#d8576b"
             ],
             [
              0.6666666666666666,
              "#ed7953"
             ],
             [
              0.7777777777777778,
              "#fb9f3a"
             ],
             [
              0.8888888888888888,
              "#fdca26"
             ],
             [
              1,
              "#f0f921"
             ]
            ],
            "type": "surface"
           }
          ],
          "table": [
           {
            "cells": {
             "fill": {
              "color": "#EBF0F8"
             },
             "line": {
              "color": "white"
             }
            },
            "header": {
             "fill": {
              "color": "#C8D4E3"
             },
             "line": {
              "color": "white"
             }
            },
            "type": "table"
           }
          ]
         },
         "layout": {
          "annotationdefaults": {
           "arrowcolor": "#2a3f5f",
           "arrowhead": 0,
           "arrowwidth": 1
          },
          "coloraxis": {
           "colorbar": {
            "outlinewidth": 0,
            "ticks": ""
           }
          },
          "colorscale": {
           "diverging": [
            [
             0,
             "#8e0152"
            ],
            [
             0.1,
             "#c51b7d"
            ],
            [
             0.2,
             "#de77ae"
            ],
            [
             0.3,
             "#f1b6da"
            ],
            [
             0.4,
             "#fde0ef"
            ],
            [
             0.5,
             "#f7f7f7"
            ],
            [
             0.6,
             "#e6f5d0"
            ],
            [
             0.7,
             "#b8e186"
            ],
            [
             0.8,
             "#7fbc41"
            ],
            [
             0.9,
             "#4d9221"
            ],
            [
             1,
             "#276419"
            ]
           ],
           "sequential": [
            [
             0,
             "#0d0887"
            ],
            [
             0.1111111111111111,
             "#46039f"
            ],
            [
             0.2222222222222222,
             "#7201a8"
            ],
            [
             0.3333333333333333,
             "#9c179e"
            ],
            [
             0.4444444444444444,
             "#bd3786"
            ],
            [
             0.5555555555555556,
             "#d8576b"
            ],
            [
             0.6666666666666666,
             "#ed7953"
            ],
            [
             0.7777777777777778,
             "#fb9f3a"
            ],
            [
             0.8888888888888888,
             "#fdca26"
            ],
            [
             1,
             "#f0f921"
            ]
           ],
           "sequentialminus": [
            [
             0,
             "#0d0887"
            ],
            [
             0.1111111111111111,
             "#46039f"
            ],
            [
             0.2222222222222222,
             "#7201a8"
            ],
            [
             0.3333333333333333,
             "#9c179e"
            ],
            [
             0.4444444444444444,
             "#bd3786"
            ],
            [
             0.5555555555555556,
             "#d8576b"
            ],
            [
             0.6666666666666666,
             "#ed7953"
            ],
            [
             0.7777777777777778,
             "#fb9f3a"
            ],
            [
             0.8888888888888888,
             "#fdca26"
            ],
            [
             1,
             "#f0f921"
            ]
           ]
          },
          "colorway": [
           "#636efa",
           "#EF553B",
           "#00cc96",
           "#ab63fa",
           "#FFA15A",
           "#19d3f3",
           "#FF6692",
           "#B6E880",
           "#FF97FF",
           "#FECB52"
          ],
          "font": {
           "color": "#2a3f5f"
          },
          "geo": {
           "bgcolor": "white",
           "lakecolor": "white",
           "landcolor": "#E5ECF6",
           "showlakes": true,
           "showland": true,
           "subunitcolor": "white"
          },
          "hoverlabel": {
           "align": "left"
          },
          "hovermode": "closest",
          "mapbox": {
           "style": "light"
          },
          "paper_bgcolor": "white",
          "plot_bgcolor": "#E5ECF6",
          "polar": {
           "angularaxis": {
            "gridcolor": "white",
            "linecolor": "white",
            "ticks": ""
           },
           "bgcolor": "#E5ECF6",
           "radialaxis": {
            "gridcolor": "white",
            "linecolor": "white",
            "ticks": ""
           }
          },
          "scene": {
           "xaxis": {
            "backgroundcolor": "#E5ECF6",
            "gridcolor": "white",
            "gridwidth": 2,
            "linecolor": "white",
            "showbackground": true,
            "ticks": "",
            "zerolinecolor": "white"
           },
           "yaxis": {
            "backgroundcolor": "#E5ECF6",
            "gridcolor": "white",
            "gridwidth": 2,
            "linecolor": "white",
            "showbackground": true,
            "ticks": "",
            "zerolinecolor": "white"
           },
           "zaxis": {
            "backgroundcolor": "#E5ECF6",
            "gridcolor": "white",
            "gridwidth": 2,
            "linecolor": "white",
            "showbackground": true,
            "ticks": "",
            "zerolinecolor": "white"
           }
          },
          "shapedefaults": {
           "line": {
            "color": "#2a3f5f"
           }
          },
          "ternary": {
           "aaxis": {
            "gridcolor": "white",
            "linecolor": "white",
            "ticks": ""
           },
           "baxis": {
            "gridcolor": "white",
            "linecolor": "white",
            "ticks": ""
           },
           "bgcolor": "#E5ECF6",
           "caxis": {
            "gridcolor": "white",
            "linecolor": "white",
            "ticks": ""
           }
          },
          "title": {
           "x": 0.05
          },
          "xaxis": {
           "automargin": true,
           "gridcolor": "white",
           "linecolor": "white",
           "ticks": "",
           "title": {
            "standoff": 15
           },
           "zerolinecolor": "white",
           "zerolinewidth": 2
          },
          "yaxis": {
           "automargin": true,
           "gridcolor": "white",
           "linecolor": "white",
           "ticks": "",
           "title": {
            "standoff": 15
           },
           "zerolinecolor": "white",
           "zerolinewidth": 2
          }
         }
        },
        "title": {
         "text": "Post-fusion protrusion rim energies"
        },
        "xaxis": {
         "autorange": true,
         "range": [
          -0.5605537989843827,
          47.56055379898438
         ],
         "title": {
          "text": "r<sub>t,prtr</sub> (nm)"
         },
         "type": "linear"
        },
        "yaxis": {
         "autorange": true,
         "range": [
          -728.0298661757549,
          38006.09299890429
         ],
         "title": {
          "text": "Energy (kT)"
         },
         "type": "linear"
        }
       }
      },
      "image/png": "[encoded data removed]",
      "text/html": [
       "<div>                            <div id=\"177b8cb3-721f-483a-9d2c-d15e2e5407dd\" class=\"plotly-graph-div\" style=\"height:525px; width:100%;\"></div>            <script type=\"text/javascript\">                require([\"plotly\"], function(Plotly) {                    window.PLOTLYENV=window.PLOTLYENV || {};                                    if (document.getElementById(\"177b8cb3-721f-483a-9d2c-d15e2e5407dd\")) {                    Plotly.newPlot(                        \"177b8cb3-721f-483a-9d2c-d15e2e5407dd\",                        [{\"mode\": \"markers+lines\", \"type\": \"scatter\", \"x\": [2.0, 2.3, 2.6, 3.0, 3.5, 4.0, 5.0, 6.5, 8.0, 10.0, 12.5, 15.0, 17.5, 20.0, 22.5, 25.0, 30.0, 35.0, 40.0, 45.0], \"y\": [35531.412926968624, 30921.368034349438, 27375.156934248258, 23750.11059425065, 20383.95418976274, 17859.296260387597, 14324.678186487545, 11061.768848330483, 9022.272147847538, 7254.489432059199, 5839.986488583474, 4896.7332757275135, 4222.7701888772335, 3717.1173839969974, 3323.6749093543813, 3008.7827584735605, 2536.109262069441, 2198.116419066634, 1944.313622099082, 1746.6502057599148]}],                        {\"template\": {\"data\": {\"bar\": [{\"error_x\": {\"color\": \"#2a3f5f\"}, \"error_y\": {\"color\": \"#2a3f5f\"}, \"marker\": {\"line\": {\"color\": \"#E5ECF6\", \"width\": 0.5}}, \"type\": \"bar\"}], \"barpolar\": [{\"marker\": {\"line\": {\"color\": \"#E5ECF6\", \"width\": 0.5}}, \"type\": \"barpolar\"}], \"carpet\": [{\"aaxis\": {\"endlinecolor\": \"#2a3f5f\", \"gridcolor\": \"white\", \"linecolor\": \"white\", \"minorgridcolor\": \"white\", \"startlinecolor\": \"#2a3f5f\"}, \"baxis\": {\"endlinecolor\": \"#2a3f5f\", \"gridcolor\": \"white\", \"linecolor\": \"white\", \"minorgridcolor\": \"white\", \"startlinecolor\": \"#2a3f5f\"}, \"type\": \"carpet\"}], \"choropleth\": [{\"colorbar\": {\"outlinewidth\": 0, \"ticks\": \"\"}, \"type\": \"choropleth\"}], \"contour\": [{\"colorbar\": {\"outlinewidth\": 0, \"ticks\": \"\"}, \"colorscale\": [[0.0, \"#0d0887\"], [0.1111111111111111, \"#46039f\"], [0.2222222222222222, \"#7201a8\"], [0.3333333333333333, \"#9c179e\"], [0.4444444444444444, \"#bd3786\"], [0.5555555555555556, \"#d8576b\"], [0.6666666666666666, \"#ed7953\"], [0.7777777777777778, \"#fb9f3a\"], [0.8888888888888888, \"#fdca26\"], [1.0, \"#f0f921\"]], \"type\": \"contour\"}], \"contourcarpet\": [{\"colorbar\": {\"outlinewidth\": 0, \"ticks\": \"\"}, \"type\": \"contourcarpet\"}], \"heatmap\": [{\"colorbar\": {\"outlinewidth\": 0, \"ticks\": \"\"}, \"colorscale\": [[0.0, \"#0d0887\"], [0.1111111111111111, \"#46039f\"], [0.2222222222222222, \"#7201a8\"], [0.3333333333333333, \"#9c179e\"], [0.4444444444444444, \"#bd3786\"], [0.5555555555555556, \"#d8576b\"], [0.6666666666666666, \"#ed7953\"], [0.7777777777777778, \"#fb9f3a\"], [0.8888888888888888, \"#fdca26\"], [1.0, \"#f0f921\"]], \"type\": \"heatmap\"}], \"heatmapgl\": [{\"colorbar\": {\"outlinewidth\": 0, \"ticks\": \"\"}, \"colorscale\": [[0.0, \"#0d0887\"], [0.1111111111111111, \"#46039f\"], [0.2222222222222222, \"#7201a8\"], [0.3333333333333333, \"#9c179e\"], [0.4444444444444444, \"#bd3786\"], [0.5555555555555556, \"#d8576b\"], [0.6666666666666666, \"#ed7953\"], [0.7777777777777778, \"#fb9f3a\"], [0.8888888888888888, \"#fdca26\"], [1.0, \"#f0f921\"]], \"type\": \"heatmapgl\"}], \"histogram\": [{\"marker\": {\"colorbar\": {\"outlinewidth\": 0, \"ticks\": \"\"}}, \"type\": \"histogram\"}], \"histogram2d\": [{\"colorbar\": {\"outlinewidth\": 0, \"ticks\": \"\"}, \"colorscale\": [[0.0, \"#0d0887\"], [0.1111111111111111, \"#46039f\"], [0.2222222222222222, \"#7201a8\"], [0.3333333333333333, \"#9c179e\"], [0.4444444444444444, \"#bd3786\"], [0.5555555555555556, \"#d8576b\"], [0.6666666666666666, \"#ed7953\"], [0.7777777777777778, \"#fb9f3a\"], [0.8888888888888888, \"#fdca26\"], [1.0, \"#f0f921\"]], \"type\": \"histogram2d\"}], \"histogram2dcontour\": [{\"colorbar\": {\"outlinewidth\": 0, \"ticks\": \"\"}, \"colorscale\": [[0.0, \"#0d0887\"], [0.1111111111111111, \"#46039f\"], [0.2222222222222222, \"#7201a8\"], [0.3333333333333333, \"#9c179e\"], [0.4444444444444444, \"#bd3786\"], [0.5555555555555556, \"#d8576b\"], [0.6666666666666666, \"#ed7953\"], [0.7777777777777778, \"#fb9f3a\"], [0.8888888888888888, \"#fdca26\"], [1.0, \"#f0f921\"]], \"type\": \"histogram2dcontour\"}], \"mesh3d\": [{\"colorbar\": {\"outlinewidth\": 0, \"ticks\": \"\"}, \"type\": \"mesh3d\"}], \"parcoords\": [{\"line\": {\"colorbar\": {\"outlinewidth\": 0, \"ticks\": \"\"}}, \"type\": \"parcoords\"}], \"pie\": [{\"automargin\": true, \"type\": \"pie\"}], \"scatter\": [{\"marker\": {\"colorbar\": {\"outlinewidth\": 0, \"ticks\": \"\"}}, \"type\": \"scatter\"}], \"scatter3d\": [{\"line\": {\"colorbar\": {\"outlinewidth\": 0, \"ticks\": \"\"}}, \"marker\": {\"colorbar\": {\"outlinewidth\": 0, \"ticks\": \"\"}}, \"type\": \"scatter3d\"}], \"scattercarpet\": [{\"marker\": {\"colorbar\": {\"outlinewidth\": 0, \"ticks\": \"\"}}, \"type\": \"scattercarpet\"}], \"scattergeo\": [{\"marker\": {\"colorbar\": {\"outlinewidth\": 0, \"ticks\": \"\"}}, \"type\": \"scattergeo\"}], \"scattergl\": [{\"marker\": {\"colorbar\": {\"outlinewidth\": 0, \"ticks\": \"\"}}, \"type\": \"scattergl\"}], \"scattermapbox\": [{\"marker\": {\"colorbar\": {\"outlinewidth\": 0, \"ticks\": \"\"}}, \"type\": \"scattermapbox\"}], \"scatterpolar\": [{\"marker\": {\"colorbar\": {\"outlinewidth\": 0, \"ticks\": \"\"}}, \"type\": \"scatterpolar\"}], \"scatterpolargl\": [{\"marker\": {\"colorbar\": {\"outlinewidth\": 0, \"ticks\": \"\"}}, \"type\": \"scatterpolargl\"}], \"scatterternary\": [{\"marker\": {\"colorbar\": {\"outlinewidth\": 0, \"ticks\": \"\"}}, \"type\": \"scatterternary\"}], \"surface\": [{\"colorbar\": {\"outlinewidth\": 0, \"ticks\": \"\"}, \"colorscale\": [[0.0, \"#0d0887\"], [0.1111111111111111, \"#46039f\"], [0.2222222222222222, \"#7201a8\"], [0.3333333333333333, \"#9c179e\"], [0.4444444444444444, \"#bd3786\"], [0.5555555555555556, \"#d8576b\"], [0.6666666666666666, \"#ed7953\"], [0.7777777777777778, \"#fb9f3a\"], [0.8888888888888888, \"#fdca26\"], [1.0, \"#f0f921\"]], \"type\": \"surface\"}], \"table\": [{\"cells\": {\"fill\": {\"color\": \"#EBF0F8\"}, \"line\": {\"color\": \"white\"}}, \"header\": {\"fill\": {\"color\": \"#C8D4E3\"}, \"line\": {\"color\": \"white\"}}, \"type\": \"table\"}]}, \"layout\": {\"annotationdefaults\": {\"arrowcolor\": \"#2a3f5f\", \"arrowhead\": 0, \"arrowwidth\": 1}, \"coloraxis\": {\"colorbar\": {\"outlinewidth\": 0, \"ticks\": \"\"}}, \"colorscale\": {\"diverging\": [[0, \"#8e0152\"], [0.1, \"#c51b7d\"], [0.2, \"#de77ae\"], [0.3, \"#f1b6da\"], [0.4, \"#fde0ef\"], [0.5, \"#f7f7f7\"], [0.6, \"#e6f5d0\"], [0.7, \"#b8e186\"], [0.8, \"#7fbc41\"], [0.9, \"#4d9221\"], [1, \"#276419\"]], \"sequential\": [[0.0, \"#0d0887\"], [0.1111111111111111, \"#46039f\"], [0.2222222222222222, \"#7201a8\"], [0.3333333333333333, \"#9c179e\"], [0.4444444444444444, \"#bd3786\"], [0.5555555555555556, \"#d8576b\"], [0.6666666666666666, \"#ed7953\"], [0.7777777777777778, \"#fb9f3a\"], [0.8888888888888888, \"#fdca26\"], [1.0, \"#f0f921\"]], \"sequentialminus\": [[0.0, \"#0d0887\"], [0.1111111111111111, \"#46039f\"], [0.2222222222222222, \"#7201a8\"], [0.3333333333333333, \"#9c179e\"], [0.4444444444444444, \"#bd3786\"], [0.5555555555555556, \"#d8576b\"], [0.6666666666666666, \"#ed7953\"], [0.7777777777777778, \"#fb9f3a\"], [0.8888888888888888, \"#fdca26\"], [1.0, \"#f0f921\"]]}, \"colorway\": [\"#636efa\", \"#EF553B\", \"#00cc96\", \"#ab63fa\", \"#FFA15A\", \"#19d3f3\", \"#FF6692\", \"#B6E880\", \"#FF97FF\", \"#FECB52\"], \"font\": {\"color\": \"#2a3f5f\"}, \"geo\": {\"bgcolor\": \"white\", \"lakecolor\": \"white\", \"landcolor\": \"#E5ECF6\", \"showlakes\": true, \"showland\": true, \"subunitcolor\": \"white\"}, \"hoverlabel\": {\"align\": \"left\"}, \"hovermode\": \"closest\", \"mapbox\": {\"style\": \"light\"}, \"paper_bgcolor\": \"white\", \"plot_bgcolor\": \"#E5ECF6\", \"polar\": {\"angularaxis\": {\"gridcolor\": \"white\", \"linecolor\": \"white\", \"ticks\": \"\"}, \"bgcolor\": \"#E5ECF6\", \"radialaxis\": {\"gridcolor\": \"white\", \"linecolor\": \"white\", \"ticks\": \"\"}}, \"scene\": {\"xaxis\": {\"backgroundcolor\": \"#E5ECF6\", \"gridcolor\": \"white\", \"gridwidth\": 2, \"linecolor\": \"white\", \"showbackground\": true, \"ticks\": \"\", \"zerolinecolor\": \"white\"}, \"yaxis\": {\"backgroundcolor\": \"#E5ECF6\", \"gridcolor\": \"white\", \"gridwidth\": 2, \"linecolor\": \"white\", \"showbackground\": true, \"ticks\": \"\", \"zerolinecolor\": \"white\"}, \"zaxis\": {\"backgroundcolor\": \"#E5ECF6\", \"gridcolor\": \"white\", \"gridwidth\": 2, \"linecolor\": \"white\", \"showbackground\": true, \"ticks\": \"\", \"zerolinecolor\": \"white\"}}, \"shapedefaults\": {\"line\": {\"color\": \"#2a3f5f\"}}, \"ternary\": {\"aaxis\": {\"gridcolor\": \"white\", \"linecolor\": \"white\", \"ticks\": \"\"}, \"baxis\": {\"gridcolor\": \"white\", \"linecolor\": \"white\", \"ticks\": \"\"}, \"bgcolor\": \"#E5ECF6\", \"caxis\": {\"gridcolor\": \"white\", \"linecolor\": \"white\", \"ticks\": \"\"}}, \"title\": {\"x\": 0.05}, \"xaxis\": {\"automargin\": true, \"gridcolor\": \"white\", \"linecolor\": \"white\", \"ticks\": \"\", \"title\": {\"standoff\": 15}, \"zerolinecolor\": \"white\", \"zerolinewidth\": 2}, \"yaxis\": {\"automargin\": true, \"gridcolor\": \"white\", \"linecolor\": \"white\", \"ticks\": \"\", \"title\": {\"standoff\": 15}, \"zerolinecolor\": \"white\", \"zerolinewidth\": 2}}}, \"title\": {\"text\": \"Post-fusion protrusion rim energies\"}, \"xaxis\": {\"title\": {\"text\": \"r<sub>t,prtr</sub> (nm)\"}}, \"yaxis\": {\"title\": {\"text\": \"Energy (kT)\"}}},                        {\"responsive\": true}                    ).then(function(){\n",
       "                            \n",
       "var gd = document.getElementById('177b8cb3-721f-483a-9d2c-d15e2e5407dd');\n",
       "var x = new MutationObserver(function (mutations, observer) {{\n",
       "        var display = window.getComputedStyle(gd).display;\n",
       "        if (!display || display === 'none') {{\n",
       "            console.log([gd, 'removed!']);\n",
       "            Plotly.purge(gd);\n",
       "            observer.disconnect();\n",
       "        }}\n",
       "}});\n",
       "\n",
       "// Listen for the removal of the full notebook cells\n",
       "var notebookContainer = gd.closest('#notebook-container');\n",
       "if (notebookContainer) {{\n",
       "    x.observe(notebookContainer, {childList: true});\n",
       "}}\n",
       "\n",
       "// Listen for the clearing of the current output cell\n",
       "var outputEl = gd.closest('.output');\n",
       "if (outputEl) {{\n",
       "    x.observe(outputEl, {childList: true});\n",
       "}}\n",
       "\n",
       "                        })                };                });            </script>        </div>"
      ]
     },
     "metadata": {},
     "output_type": "display_data"
    },
    {
     "name": "stdout",
     "output_type": "stream",
     "text": [
      "Total Gb of post-fusion protrusion rim in kT =  [35531.41292697 30921.36803435 27375.15693425 23750.11059425\n",
      " 20383.95418976 17859.29626039 14324.67818649 11061.76884833\n",
      "  9022.27214785  7254.48943206  5839.98648858  4896.73327573\n",
      "  4222.77018888  3717.117384    3323.67490935  3008.78275847\n",
      "  2536.10926207  2198.11641907  1944.3136221   1746.65020576]\n"
     ]
    }
   ],
   "source": [
    "zSteps = 100\n",
    "zRim = [np.linspace(0,rim_rt[0],num=zSteps)] # nm\n",
    "for rt in range(1,rim_rt.size):\n",
    "    zRim.append(np.linspace(0,rim_rt[rt],num=zSteps))\n",
    "\n",
    "uRim = np.zeros((rim_rt.size,zSteps,2)) # radians\n",
    "    # rim tube angle for each rim_rt as a function of z where uRim1 = 0 is \n",
    "    # defined as pointing outward on the bisecting transverse plane\n",
    "    # 3rd dimension to acct for the fact that each z has a u for the inner \n",
    "    # surface and a u for the outer surface\n",
    "\n",
    "kRim = np.zeros((rim_rt.size,zSteps,2)) # 1/nm; curv for each angle u on rim\n",
    "    # curvature for each rim_rt value at each zRim along the rim surface\n",
    "stressRim = np.zeros((rim_rt.size,zSteps,2)) # kT/nm^2; stress at each point\n",
    "GRingPost = np.zeros((rim_rt.size,zSteps-1,2)) # kT; G_b of each ring\n",
    "    # zRim.size-1 since Reimann summing reduces num of elements by 1\n",
    "GPost = np.zeros(rim_rt.size)\n",
    "\n",
    "#First calculate the relevant angles\n",
    "for rt in range(0,rim_rt.size):\n",
    "    for z in range(0,zSteps):\n",
    "        uRim[rt,z,0] = np.arcsin((rim_rt[rt]-zRim[rt][z])/rim_rt[rt])  # Outside of torus\n",
    "        uRim[rt,z,1] = np.pi - np.arcsin((rim_rt[rt]-zRim[rt][z])/rim_rt[rt])  # Inside of torus\n",
    "        \n",
    "#Second calculate the curvatures\n",
    "for rt in range(0,rim_rt.size):\n",
    "    for z in range(0,zSteps):\n",
    "        kRim[rt,z,0] = torusCircCurv(R0,rim_rt[rt],uRim[rt,z,0])\n",
    "        kRim[rt,z,1] = torusCircCurv(R0,rim_rt[rt],uRim[rt,z,1])\n",
    "#print(kRim)\n",
    "\n",
    "#Next calculate the \"stress\" (energy per unit area) profile\n",
    "for rt in range(0,rim_rt.size):\n",
    "    for z in range(0,zSteps):\n",
    "        stressRim[rt,z,0] = helfrichStress(kRim[rt,z,0],1/rim_rt[rt],Kb)\n",
    "        stressRim[rt,z,1] = helfrichStress(kRim[rt,z,1],1/rim_rt[rt],Kb)\n",
    "            # NOT Kb*2 since only a single bilayer bending now\n",
    "\n",
    "# Now find the energy of the discrete uRim rings via left Riemann sum\n",
    "# To do so, we first must find the radii of the inner ringers and the outer rings\n",
    "R1Out = np.zeros((rim_rt.size,zSteps))\n",
    "R1In = np.zeros((rim_rt.size,zSteps))\n",
    "for rt in range(0,rim_rt.size):\n",
    "    for z in range(0,zSteps):\n",
    "        R1Out[rt,z] = R0 + rim_rt[rt] + np.sqrt(1-((rim_rt[rt]-zRim[rt][z])/rim_rt[rt])**2) #out\n",
    "        R1In[rt,z] = R0 + rim_rt[rt] - np.sqrt(1-((rim_rt[rt]-zRim[rt][z])/rim_rt[rt])**2) #in\n",
    "            #Dist from z axis to membrane at given z (using trig a identity)\n",
    "# Now we'll find the energy of each ring via left Riemann sum\n",
    "for rt in range(0,rim_rt.size):\n",
    "    for z in range(0,zSteps-1):\n",
    "        # Stress per ring by finding cylindrical wall area * ring stress\n",
    "        GRingPost[rt,z,0] = np.pi * 2*R1Out[rt,z] * (zRim[rt][1]-zRim[rt][0]) * stressRim[rt,z,0]\n",
    "        GRingPost[rt,z,1] = np.pi * 2*R1In[rt,z] * (zRim[rt][1]-zRim[rt][0]) * stressRim[rt,z,1]\n",
    "\n",
    "# Finally, we can find the total energy\n",
    "# Add up all the rings' energies to get the total energy\n",
    "for rt in range(0,rim_rt.size):\n",
    "    for z in range(0,zSteps-1):\n",
    "        GPost[rt] += GRingPost[rt,z,0] + GRingPost[rt,z,1]\n",
    "# Then multiply the result by 2 to reflect the 2 symmetric rims\n",
    "GPost = GPost*2\n",
    "\n",
    "#--------------------------------------------------------------------------------------------\n",
    "# Graph the results\n",
    "#--------------------------------------------------------------------------------------------\n",
    "stressPlot = go.Figure()\n",
    "stressPlot.add_trace(go.Scatter(x=zRim[0], y=stressRim[0,:,0], mode='lines', \n",
    "                                name='Outside, rt = {0} nm'.format(rim_rt[0])))\n",
    "stressPlot.add_trace(go.Scatter(x=zRim[0], y=stressRim[0,:,1], mode='lines', \n",
    "                                name='Inside, rt = {0} nm'.format(rim_rt[0])))\n",
    "stressPlot.add_trace(go.Scatter(x=zRim[round((rim_rt.size-1)/2)], y=stressRim[2,:,0], mode='lines', \n",
    "                                name='Outside, rt = {0} nm'.format(rim_rt[2])))\n",
    "stressPlot.add_trace(go.Scatter(x=zRim[round((rim_rt.size-1)/2)], y=stressRim[2,:,1], mode='lines', \n",
    "                                name='Inside, rt = {0} nm'.format(rim_rt[2])))\n",
    "stressPlot.add_trace(go.Scatter(x=zRim[rim_rt.size-1], y=stressRim[4,:,0], mode='lines', \n",
    "                                name='Outside, rt = {0} nm'.format(rim_rt[rim_rt.size-1])))\n",
    "stressPlot.add_trace(go.Scatter(x=zRim[rim_rt.size-1], y=stressRim[4,:,1], mode='lines', \n",
    "                                name='Inside, rt = {0} nm'.format(rim_rt[rim_rt.size-1])))\n",
    "stressPlot.update_layout(title=\"Post-fusion body stress profile\",\n",
    "                        xaxis_title=\"z (nm)\", yaxis_title=\"Stress (kT/nm^2)\")\n",
    "stressPlot.show()\n",
    "\n",
    "ringGPlot = go.Figure()\n",
    "ringGPlot.add_trace(go.Scatter(x=zRim[0], y=GRingPost[0,:,0], mode='lines', \n",
    "                               name='Outside, rt = {0} nm'.format(rim_rt[0])))\n",
    "ringGPlot.add_trace(go.Scatter(x=zRim[0], y=GRingPost[0,:,1], mode='lines', \n",
    "                               name='Inside, rt = {0} nm'.format(rim_rt[0])))\n",
    "ringGPlot.add_trace(go.Scatter(x=zRim[round((rim_rt.size-1)/2)], y=GRingPost[2,:,0], mode='lines', \n",
    "                               name='Outside, rt = {0} nm'.format(rim_rt[2])))\n",
    "ringGPlot.add_trace(go.Scatter(x=zRim[round((rim_rt.size-1)/2)], y=GRingPost[2,:,1], mode='lines', \n",
    "                               name='Inside, rt = {0} nm'.format(rim_rt[2])))\n",
    "ringGPlot.add_trace(go.Scatter(x=zRim[rim_rt.size-1], y=GRingPost[4,:,0], mode='lines', \n",
    "                               name='Outside, rt = {0} nm'.format(rim_rt[rim_rt.size-1])))\n",
    "ringGPlot.add_trace(go.Scatter(x=zRim[rim_rt.size-1], y=GRingPost[4,:,1], mode='lines', \n",
    "                               name='Inside, rt = {0} nm'.format(rim_rt[rim_rt.size-1])))\n",
    "ringGPlot.update_layout(title=\"Post-fusion ring energies\",\n",
    "                        xaxis_title=\"z (nm)\", yaxis_title=\"Energy (kT)\")\n",
    "ringGPlot.show()\n",
    "\n",
    "postGPlot = go.Figure()\n",
    "postGPlot.add_trace(go.Scatter(x=rim_rt, y=GPost, mode='markers + lines'))\n",
    "postGPlot.update_layout(title=\"Post-fusion protrusion rim energies\",\n",
    "                        xaxis_title=\"r<sub>t,prtr</sub> (nm)\", yaxis_title=\"Energy (kT)\")\n",
    "postGPlot.show()\n",
    "\n",
    "print(\"Total Gb of post-fusion protrusion rim in kT = \",GPost)"
   ]
  },
  {
   "cell_type": "markdown",
   "metadata": {},
   "source": [
    "\"Simulation parameter\" validation: \n",
    "- Logical trend in GPost1: PASS\n",
    "- zRim values match desired values: PASS\n",
    "- Sufficient z resolution: PASS\n",
    "    - Each of the GPost1 change by less than 1 kT when increasing zSteps from 100 --> 1000\n",
    "\n",
    "## Comparing pre-fusion energy vs post-fusion energy"
   ]
  },
  {
   "cell_type": "code",
   "execution_count": 10,
   "metadata": {},
   "outputs": [
    {
     "name": "stdout",
     "output_type": "stream",
     "text": [
      "Some relevant pore energies below.\n",
      "Note that these numbers should not be taken at face-value since the hypothetical pores are huge.\n",
      "Pore Gb for pore radius 400 nm, pore_rt = 15:  3569.3455980891786\n",
      "Pore Gb for pore radius 400 nm, pore_rt = 25:  2090.8478991057846\n",
      "Pore Gb for pore radius 400 nm, pore_rt = 50:  985.3105416057647\n"
     ]
    },
    {
     "data": {
      "application/vnd.plotly.v1+json": {
       "config": {
        "plotlyServerURL": "https://plot.ly"
       },
       "data": [
        {
         "mode": "markers+lines",
         "name": "Post-fusion",
         "type": "scatter",
         "x": [
          2,
          2.3,
          2.6,
          3,
          3.5,
          4,
          5,
          6.5,
          8,
          10,
          12.5,
          15,
          17.5,
          20,
          22.5,
          25,
          30,
          35,
          40,
          45
         ],
         "y": [
          35531.412926968624,
          30921.368034349438,
          27375.156934248258,
          23750.11059425065,
          20383.95418976274,
          17859.296260387597,
          14324.678186487545,
          11061.768848330483,
          9022.272147847538,
          7254.489432059199,
          5839.986488583474,
          4896.7332757275135,
          4222.7701888772335,
          3717.1173839969974,
          3323.6749093543813,
          3008.7827584735605,
          2536.109262069441,
          2198.116419066634,
          1944.313622099082,
          1746.6502057599148
         ]
        },
        {
         "mode": "lines",
         "name": "Pre-fusion",
         "type": "scatter",
         "x": [
          2,
          2.3,
          2.6,
          3,
          3.5,
          4,
          5,
          6.5,
          8,
          10,
          12.5,
          15,
          17.5,
          20,
          22.5,
          25,
          30,
          35,
          40,
          45
         ],
         "y": [
          0.7539822368615504,
          0.8670795723907829,
          0.9801769079200155,
          1.1309733552923256,
          1.3194689145077132,
          1.5079644737231008,
          1.884955592153876,
          2.450442269800039,
          3.0159289474462017,
          3.769911184307752,
          4.71238898038469,
          5.6548667764616285,
          6.597344572538566,
          7.539822368615504,
          8.482300164692441,
          9.42477796076938,
          11.309733552923257,
          13.194689145077133,
          15.079644737231009,
          16.964600329384883
         ]
        }
       ],
       "layout": {
        "autosize": true,
        "template": {
         "data": {
          "bar": [
           {
            "error_x": {
             "color": "#2a3f5f"
            },
            "error_y": {
             "color": "#2a3f5f"
            },
            "marker": {
             "line": {
              "color": "#E5ECF6",
              "width": 0.5
             }
            },
            "type": "bar"
           }
          ],
          "barpolar": [
           {
            "marker": {
             "line": {
              "color": "#E5ECF6",
              "width": 0.5
             }
            },
            "type": "barpolar"
           }
          ],
          "carpet": [
           {
            "aaxis": {
             "endlinecolor": "#2a3f5f",
             "gridcolor": "white",
             "linecolor": "white",
             "minorgridcolor": "white",
             "startlinecolor": "#2a3f5f"
            },
            "baxis": {
             "endlinecolor": "#2a3f5f",
             "gridcolor": "white",
             "linecolor": "white",
             "minorgridcolor": "white",
             "startlinecolor": "#2a3f5f"
            },
            "type": "carpet"
           }
          ],
          "choropleth": [
           {
            "colorbar": {
             "outlinewidth": 0,
             "ticks": ""
            },
            "type": "choropleth"
           }
          ],
          "contour": [
           {
            "colorbar": {
             "outlinewidth": 0,
             "ticks": ""
            },
            "colorscale": [
             [
              0,
              "#0d0887"
             ],
             [
              0.1111111111111111,
              "#46039f"
             ],
             [
              0.2222222222222222,
              "#7201a8"
             ],
             [
              0.3333333333333333,
              "#9c179e"
             ],
             [
              0.4444444444444444,
              "#bd3786"
             ],
             [
              0.5555555555555556,
              "#d8576b"
             ],
             [
              0.6666666666666666,
              "#ed7953"
             ],
             [
              0.7777777777777778,
              "#fb9f3a"
             ],
             [
              0.8888888888888888,
              "#fdca26"
             ],
             [
              1,
              "#f0f921"
             ]
            ],
            "type": "contour"
           }
          ],
          "contourcarpet": [
           {
            "colorbar": {
             "outlinewidth": 0,
             "ticks": ""
            },
            "type": "contourcarpet"
           }
          ],
          "heatmap": [
           {
            "colorbar": {
             "outlinewidth": 0,
             "ticks": ""
            },
            "colorscale": [
             [
              0,
              "#0d0887"
             ],
             [
              0.1111111111111111,
              "#46039f"
             ],
             [
              0.2222222222222222,
              "#7201a8"
             ],
             [
              0.3333333333333333,
              "#9c179e"
             ],
             [
              0.4444444444444444,
              "#bd3786"
             ],
             [
              0.5555555555555556,
              "#d8576b"
             ],
             [
              0.6666666666666666,
              "#ed7953"
             ],
             [
              0.7777777777777778,
              "#fb9f3a"
             ],
             [
              0.8888888888888888,
              "#fdca26"
             ],
             [
              1,
              "#f0f921"
             ]
            ],
            "type": "heatmap"
           }
          ],
          "heatmapgl": [
           {
            "colorbar": {
             "outlinewidth": 0,
             "ticks": ""
            },
            "colorscale": [
             [
              0,
              "#0d0887"
             ],
             [
              0.1111111111111111,
              "#46039f"
             ],
             [
              0.2222222222222222,
              "#7201a8"
             ],
             [
              0.3333333333333333,
              "#9c179e"
             ],
             [
              0.4444444444444444,
              "#bd3786"
             ],
             [
              0.5555555555555556,
              "#d8576b"
             ],
             [
              0.6666666666666666,
              "#ed7953"
             ],
             [
              0.7777777777777778,
              "#fb9f3a"
             ],
             [
              0.8888888888888888,
              "#fdca26"
             ],
             [
              1,
              "#f0f921"
             ]
            ],
            "type": "heatmapgl"
           }
          ],
          "histogram": [
           {
            "marker": {
             "colorbar": {
              "outlinewidth": 0,
              "ticks": ""
             }
            },
            "type": "histogram"
           }
          ],
          "histogram2d": [
           {
            "colorbar": {
             "outlinewidth": 0,
             "ticks": ""
            },
            "colorscale": [
             [
              0,
              "#0d0887"
             ],
             [
              0.1111111111111111,
              "#46039f"
             ],
             [
              0.2222222222222222,
              "#7201a8"
             ],
             [
              0.3333333333333333,
              "#9c179e"
             ],
             [
              0.4444444444444444,
              "#bd3786"
             ],
             [
              0.5555555555555556,
              "#d8576b"
             ],
             [
              0.6666666666666666,
              "#ed7953"
             ],
             [
              0.7777777777777778,
              "#fb9f3a"
             ],
             [
              0.8888888888888888,
              "#fdca26"
             ],
             [
              1,
              "#f0f921"
             ]
            ],
            "type": "histogram2d"
           }
          ],
          "histogram2dcontour": [
           {
            "colorbar": {
             "outlinewidth": 0,
             "ticks": ""
            },
            "colorscale": [
             [
              0,
              "#0d0887"
             ],
             [
              0.1111111111111111,
              "#46039f"
             ],
             [
              0.2222222222222222,
              "#7201a8"
             ],
             [
              0.3333333333333333,
              "#9c179e"
             ],
             [
              0.4444444444444444,
              "#bd3786"
             ],
             [
              0.5555555555555556,
              "#d8576b"
             ],
             [
              0.6666666666666666,
              "#ed7953"
             ],
             [
              0.7777777777777778,
              "#fb9f3a"
             ],
             [
              0.8888888888888888,
              "#fdca26"
             ],
             [
              1,
              "#f0f921"
             ]
            ],
            "type": "histogram2dcontour"
           }
          ],
          "mesh3d": [
           {
            "colorbar": {
             "outlinewidth": 0,
             "ticks": ""
            },
            "type": "mesh3d"
           }
          ],
          "parcoords": [
           {
            "line": {
             "colorbar": {
              "outlinewidth": 0,
              "ticks": ""
             }
            },
            "type": "parcoords"
           }
          ],
          "pie": [
           {
            "automargin": true,
            "type": "pie"
           }
          ],
          "scatter": [
           {
            "marker": {
             "colorbar": {
              "outlinewidth": 0,
              "ticks": ""
             }
            },
            "type": "scatter"
           }
          ],
          "scatter3d": [
           {
            "line": {
             "colorbar": {
              "outlinewidth": 0,
              "ticks": ""
             }
            },
            "marker": {
             "colorbar": {
              "outlinewidth": 0,
              "ticks": ""
             }
            },
            "type": "scatter3d"
           }
          ],
          "scattercarpet": [
           {
            "marker": {
             "colorbar": {
              "outlinewidth": 0,
              "ticks": ""
             }
            },
            "type": "scattercarpet"
           }
          ],
          "scattergeo": [
           {
            "marker": {
             "colorbar": {
              "outlinewidth": 0,
              "ticks": ""
             }
            },
            "type": "scattergeo"
           }
          ],
          "scattergl": [
           {
            "marker": {
             "colorbar": {
              "outlinewidth": 0,
              "ticks": ""
             }
            },
            "type": "scattergl"
           }
          ],
          "scattermapbox": [
           {
            "marker": {
             "colorbar": {
              "outlinewidth": 0,
              "ticks": ""
             }
            },
            "type": "scattermapbox"
           }
          ],
          "scatterpolar": [
           {
            "marker": {
             "colorbar": {
              "outlinewidth": 0,
              "ticks": ""
             }
            },
            "type": "scatterpolar"
           }
          ],
          "scatterpolargl": [
           {
            "marker": {
             "colorbar": {
              "outlinewidth": 0,
              "ticks": ""
             }
            },
            "type": "scatterpolargl"
           }
          ],
          "scatterternary": [
           {
            "marker": {
             "colorbar": {
              "outlinewidth": 0,
              "ticks": ""
             }
            },
            "type": "scatterternary"
           }
          ],
          "surface": [
           {
            "colorbar": {
             "outlinewidth": 0,
             "ticks": ""
            },
            "colorscale": [
             [
              0,
              "#0d0887"
             ],
             [
              0.1111111111111111,
              "#46039f"
             ],
             [
              0.2222222222222222,
              "#7201a8"
             ],
             [
              0.3333333333333333,
              "#9c179e"
             ],
             [
              0.4444444444444444,
              "#bd3786"
             ],
             [
              0.5555555555555556,
              "#d8576b"
             ],
             [
              0.6666666666666666,
              "#ed7953"
             ],
             [
              0.7777777777777778,
              "#fb9f3a"
             ],
             [
              0.8888888888888888,
              "#fdca26"
             ],
             [
              1,
              "#f0f921"
             ]
            ],
            "type": "surface"
           }
          ],
          "table": [
           {
            "cells": {
             "fill": {
              "color": "#EBF0F8"
             },
             "line": {
              "color": "white"
             }
            },
            "header": {
             "fill": {
              "color": "#C8D4E3"
             },
             "line": {
              "color": "white"
             }
            },
            "type": "table"
           }
          ]
         },
         "layout": {
          "annotationdefaults": {
           "arrowcolor": "#2a3f5f",
           "arrowhead": 0,
           "arrowwidth": 1
          },
          "coloraxis": {
           "colorbar": {
            "outlinewidth": 0,
            "ticks": ""
           }
          },
          "colorscale": {
           "diverging": [
            [
             0,
             "#8e0152"
            ],
            [
             0.1,
             "#c51b7d"
            ],
            [
             0.2,
             "#de77ae"
            ],
            [
             0.3,
             "#f1b6da"
            ],
            [
             0.4,
             "#fde0ef"
            ],
            [
             0.5,
             "#f7f7f7"
            ],
            [
             0.6,
             "#e6f5d0"
            ],
            [
             0.7,
             "#b8e186"
            ],
            [
             0.8,
             "#7fbc41"
            ],
            [
             0.9,
             "#4d9221"
            ],
            [
             1,
             "#276419"
            ]
           ],
           "sequential": [
            [
             0,
             "#0d0887"
            ],
            [
             0.1111111111111111,
             "#46039f"
            ],
            [
             0.2222222222222222,
             "#7201a8"
            ],
            [
             0.3333333333333333,
             "#9c179e"
            ],
            [
             0.4444444444444444,
             "#bd3786"
            ],
            [
             0.5555555555555556,
             "#d8576b"
            ],
            [
             0.6666666666666666,
             "#ed7953"
            ],
            [
             0.7777777777777778,
             "#fb9f3a"
            ],
            [
             0.8888888888888888,
             "#fdca26"
            ],
            [
             1,
             "#f0f921"
            ]
           ],
           "sequentialminus": [
            [
             0,
             "#0d0887"
            ],
            [
             0.1111111111111111,
             "#46039f"
            ],
            [
             0.2222222222222222,
             "#7201a8"
            ],
            [
             0.3333333333333333,
             "#9c179e"
            ],
            [
             0.4444444444444444,
             "#bd3786"
            ],
            [
             0.5555555555555556,
             "#d8576b"
            ],
            [
             0.6666666666666666,
             "#ed7953"
            ],
            [
             0.7777777777777778,
             "#fb9f3a"
            ],
            [
             0.8888888888888888,
             "#fdca26"
            ],
            [
             1,
             "#f0f921"
            ]
           ]
          },
          "colorway": [
           "#636efa",
           "#EF553B",
           "#00cc96",
           "#ab63fa",
           "#FFA15A",
           "#19d3f3",
           "#FF6692",
           "#B6E880",
           "#FF97FF",
           "#FECB52"
          ],
          "font": {
           "color": "#2a3f5f"
          },
          "geo": {
           "bgcolor": "white",
           "lakecolor": "white",
           "landcolor": "#E5ECF6",
           "showlakes": true,
           "showland": true,
           "subunitcolor": "white"
          },
          "hoverlabel": {
           "align": "left"
          },
          "hovermode": "closest",
          "mapbox": {
           "style": "light"
          },
          "paper_bgcolor": "white",
          "plot_bgcolor": "#E5ECF6",
          "polar": {
           "angularaxis": {
            "gridcolor": "white",
            "linecolor": "white",
            "ticks": ""
           },
           "bgcolor": "#E5ECF6",
           "radialaxis": {
            "gridcolor": "white",
            "linecolor": "white",
            "ticks": ""
           }
          },
          "scene": {
           "xaxis": {
            "backgroundcolor": "#E5ECF6",
            "gridcolor": "white",
            "gridwidth": 2,
            "linecolor": "white",
            "showbackground": true,
            "ticks": "",
            "zerolinecolor": "white"
           },
           "yaxis": {
            "backgroundcolor": "#E5ECF6",
            "gridcolor": "white",
            "gridwidth": 2,
            "linecolor": "white",
            "showbackground": true,
            "ticks": "",
            "zerolinecolor": "white"
           },
           "zaxis": {
            "backgroundcolor": "#E5ECF6",
            "gridcolor": "white",
            "gridwidth": 2,
            "linecolor": "white",
            "showbackground": true,
            "ticks": "",
            "zerolinecolor": "white"
           }
          },
          "shapedefaults": {
           "line": {
            "color": "#2a3f5f"
           }
          },
          "ternary": {
           "aaxis": {
            "gridcolor": "white",
            "linecolor": "white",
            "ticks": ""
           },
           "baxis": {
            "gridcolor": "white",
            "linecolor": "white",
            "ticks": ""
           },
           "bgcolor": "#E5ECF6",
           "caxis": {
            "gridcolor": "white",
            "linecolor": "white",
            "ticks": ""
           }
          },
          "title": {
           "x": 0.05
          },
          "xaxis": {
           "automargin": true,
           "gridcolor": "white",
           "linecolor": "white",
           "ticks": "",
           "title": {
            "standoff": 15
           },
           "zerolinecolor": "white",
           "zerolinewidth": 2
          },
          "yaxis": {
           "automargin": true,
           "gridcolor": "white",
           "linecolor": "white",
           "ticks": "",
           "title": {
            "standoff": 15
           },
           "zerolinecolor": "white",
           "zerolinewidth": 2
          }
         }
        },
        "title": {
         "text": "Pre-fusion energy vs post-fusion energy"
        },
        "xaxis": {
         "autorange": true,
         "range": [
          -0.5724236836713792,
          47.57242368367138
         ],
         "title": {
          "text": "r<sub>t,prtr</sub> (nm)"
         },
         "type": "linear"
        },
        "yaxis": {
         "autorange": true,
         "range": [
          -2004.1107858044293,
          38093.18457502138
         ],
         "title": {
          "text": "Energy (kT)"
         },
         "type": "linear"
        }
       }
      },
      "image/png": "[encoded data removed]",
      "text/html": [
       "<div>                            <div id=\"79a8f20b-2f7f-4bb8-a6b9-853d35788d4c\" class=\"plotly-graph-div\" style=\"height:525px; width:100%;\"></div>            <script type=\"text/javascript\">                require([\"plotly\"], function(Plotly) {                    window.PLOTLYENV=window.PLOTLYENV || {};                                    if (document.getElementById(\"79a8f20b-2f7f-4bb8-a6b9-853d35788d4c\")) {                    Plotly.newPlot(                        \"79a8f20b-2f7f-4bb8-a6b9-853d35788d4c\",                        [{\"mode\": \"markers+lines\", \"name\": \"Post-fusion\", \"type\": \"scatter\", \"x\": [2.0, 2.3, 2.6, 3.0, 3.5, 4.0, 5.0, 6.5, 8.0, 10.0, 12.5, 15.0, 17.5, 20.0, 22.5, 25.0, 30.0, 35.0, 40.0, 45.0], \"y\": [35531.412926968624, 30921.368034349438, 27375.156934248258, 23750.11059425065, 20383.95418976274, 17859.296260387597, 14324.678186487545, 11061.768848330483, 9022.272147847538, 7254.489432059199, 5839.986488583474, 4896.7332757275135, 4222.7701888772335, 3717.1173839969974, 3323.6749093543813, 3008.7827584735605, 2536.109262069441, 2198.116419066634, 1944.313622099082, 1746.6502057599148]}, {\"mode\": \"lines\", \"name\": \"Pre-fusion\", \"type\": \"scatter\", \"x\": [2.0, 2.3, 2.6, 3.0, 3.5, 4.0, 5.0, 6.5, 8.0, 10.0, 12.5, 15.0, 17.5, 20.0, 22.5, 25.0, 30.0, 35.0, 40.0, 45.0], \"y\": [0.7539822368615504, 0.8670795723907829, 0.9801769079200155, 1.1309733552923256, 1.3194689145077132, 1.5079644737231008, 1.884955592153876, 2.450442269800039, 3.0159289474462017, 3.769911184307752, 4.71238898038469, 5.6548667764616285, 6.597344572538566, 7.539822368615504, 8.482300164692441, 9.42477796076938, 11.309733552923257, 13.194689145077133, 15.079644737231009, 16.964600329384883]}],                        {\"template\": {\"data\": {\"bar\": [{\"error_x\": {\"color\": \"#2a3f5f\"}, \"error_y\": {\"color\": \"#2a3f5f\"}, \"marker\": {\"line\": {\"color\": \"#E5ECF6\", \"width\": 0.5}}, \"type\": \"bar\"}], \"barpolar\": [{\"marker\": {\"line\": {\"color\": \"#E5ECF6\", \"width\": 0.5}}, \"type\": \"barpolar\"}], \"carpet\": [{\"aaxis\": {\"endlinecolor\": \"#2a3f5f\", \"gridcolor\": \"white\", \"linecolor\": \"white\", \"minorgridcolor\": \"white\", \"startlinecolor\": \"#2a3f5f\"}, \"baxis\": {\"endlinecolor\": \"#2a3f5f\", \"gridcolor\": \"white\", \"linecolor\": \"white\", \"minorgridcolor\": \"white\", \"startlinecolor\": \"#2a3f5f\"}, \"type\": \"carpet\"}], \"choropleth\": [{\"colorbar\": {\"outlinewidth\": 0, \"ticks\": \"\"}, \"type\": \"choropleth\"}], \"contour\": [{\"colorbar\": {\"outlinewidth\": 0, \"ticks\": \"\"}, \"colorscale\": [[0.0, \"#0d0887\"], [0.1111111111111111, \"#46039f\"], [0.2222222222222222, \"#7201a8\"], [0.3333333333333333, \"#9c179e\"], [0.4444444444444444, \"#bd3786\"], [0.5555555555555556, \"#d8576b\"], [0.6666666666666666, \"#ed7953\"], [0.7777777777777778, \"#fb9f3a\"], [0.8888888888888888, \"#fdca26\"], [1.0, \"#f0f921\"]], \"type\": \"contour\"}], \"contourcarpet\": [{\"colorbar\": {\"outlinewidth\": 0, \"ticks\": \"\"}, \"type\": \"contourcarpet\"}], \"heatmap\": [{\"colorbar\": {\"outlinewidth\": 0, \"ticks\": \"\"}, \"colorscale\": [[0.0, \"#0d0887\"], [0.1111111111111111, \"#46039f\"], [0.2222222222222222, \"#7201a8\"], [0.3333333333333333, \"#9c179e\"], [0.4444444444444444, \"#bd3786\"], [0.5555555555555556, \"#d8576b\"], [0.6666666666666666, \"#ed7953\"], [0.7777777777777778, \"#fb9f3a\"], [0.8888888888888888, \"#fdca26\"], [1.0, \"#f0f921\"]], \"type\": \"heatmap\"}], \"heatmapgl\": [{\"colorbar\": {\"outlinewidth\": 0, \"ticks\": \"\"}, \"colorscale\": [[0.0, \"#0d0887\"], [0.1111111111111111, \"#46039f\"], [0.2222222222222222, \"#7201a8\"], [0.3333333333333333, \"#9c179e\"], [0.4444444444444444, \"#bd3786\"], [0.5555555555555556, \"#d8576b\"], [0.6666666666666666, \"#ed7953\"], [0.7777777777777778, \"#fb9f3a\"], [0.8888888888888888, \"#fdca26\"], [1.0, \"#f0f921\"]], \"type\": \"heatmapgl\"}], \"histogram\": [{\"marker\": {\"colorbar\": {\"outlinewidth\": 0, \"ticks\": \"\"}}, \"type\": \"histogram\"}], \"histogram2d\": [{\"colorbar\": {\"outlinewidth\": 0, \"ticks\": \"\"}, \"colorscale\": [[0.0, \"#0d0887\"], [0.1111111111111111, \"#46039f\"], [0.2222222222222222, \"#7201a8\"], [0.3333333333333333, \"#9c179e\"], [0.4444444444444444, \"#bd3786\"], [0.5555555555555556, \"#d8576b\"], [0.6666666666666666, \"#ed7953\"], [0.7777777777777778, \"#fb9f3a\"], [0.8888888888888888, \"#fdca26\"], [1.0, \"#f0f921\"]], \"type\": \"histogram2d\"}], \"histogram2dcontour\": [{\"colorbar\": {\"outlinewidth\": 0, \"ticks\": \"\"}, \"colorscale\": [[0.0, \"#0d0887\"], [0.1111111111111111, \"#46039f\"], [0.2222222222222222, \"#7201a8\"], [0.3333333333333333, \"#9c179e\"], [0.4444444444444444, \"#bd3786\"], [0.5555555555555556, \"#d8576b\"], [0.6666666666666666, \"#ed7953\"], [0.7777777777777778, \"#fb9f3a\"], [0.8888888888888888, \"#fdca26\"], [1.0, \"#f0f921\"]], \"type\": \"histogram2dcontour\"}], \"mesh3d\": [{\"colorbar\": {\"outlinewidth\": 0, \"ticks\": \"\"}, \"type\": \"mesh3d\"}], \"parcoords\": [{\"line\": {\"colorbar\": {\"outlinewidth\": 0, \"ticks\": \"\"}}, \"type\": \"parcoords\"}], \"pie\": [{\"automargin\": true, \"type\": \"pie\"}], \"scatter\": [{\"marker\": {\"colorbar\": {\"outlinewidth\": 0, \"ticks\": \"\"}}, \"type\": \"scatter\"}], \"scatter3d\": [{\"line\": {\"colorbar\": {\"outlinewidth\": 0, \"ticks\": \"\"}}, \"marker\": {\"colorbar\": {\"outlinewidth\": 0, \"ticks\": \"\"}}, \"type\": \"scatter3d\"}], \"scattercarpet\": [{\"marker\": {\"colorbar\": {\"outlinewidth\": 0, \"ticks\": \"\"}}, \"type\": \"scattercarpet\"}], \"scattergeo\": [{\"marker\": {\"colorbar\": {\"outlinewidth\": 0, \"ticks\": \"\"}}, \"type\": \"scattergeo\"}], \"scattergl\": [{\"marker\": {\"colorbar\": {\"outlinewidth\": 0, \"ticks\": \"\"}}, \"type\": \"scattergl\"}], \"scattermapbox\": [{\"marker\": {\"colorbar\": {\"outlinewidth\": 0, \"ticks\": \"\"}}, \"type\": \"scattermapbox\"}], \"scatterpolar\": [{\"marker\": {\"colorbar\": {\"outlinewidth\": 0, \"ticks\": \"\"}}, \"type\": \"scatterpolar\"}], \"scatterpolargl\": [{\"marker\": {\"colorbar\": {\"outlinewidth\": 0, \"ticks\": \"\"}}, \"type\": \"scatterpolargl\"}], \"scatterternary\": [{\"marker\": {\"colorbar\": {\"outlinewidth\": 0, \"ticks\": \"\"}}, \"type\": \"scatterternary\"}], \"surface\": [{\"colorbar\": {\"outlinewidth\": 0, \"ticks\": \"\"}, \"colorscale\": [[0.0, \"#0d0887\"], [0.1111111111111111, \"#46039f\"], [0.2222222222222222, \"#7201a8\"], [0.3333333333333333, \"#9c179e\"], [0.4444444444444444, \"#bd3786\"], [0.5555555555555556, \"#d8576b\"], [0.6666666666666666, \"#ed7953\"], [0.7777777777777778, \"#fb9f3a\"], [0.8888888888888888, \"#fdca26\"], [1.0, \"#f0f921\"]], \"type\": \"surface\"}], \"table\": [{\"cells\": {\"fill\": {\"color\": \"#EBF0F8\"}, \"line\": {\"color\": \"white\"}}, \"header\": {\"fill\": {\"color\": \"#C8D4E3\"}, \"line\": {\"color\": \"white\"}}, \"type\": \"table\"}]}, \"layout\": {\"annotationdefaults\": {\"arrowcolor\": \"#2a3f5f\", \"arrowhead\": 0, \"arrowwidth\": 1}, \"coloraxis\": {\"colorbar\": {\"outlinewidth\": 0, \"ticks\": \"\"}}, \"colorscale\": {\"diverging\": [[0, \"#8e0152\"], [0.1, \"#c51b7d\"], [0.2, \"#de77ae\"], [0.3, \"#f1b6da\"], [0.4, \"#fde0ef\"], [0.5, \"#f7f7f7\"], [0.6, \"#e6f5d0\"], [0.7, \"#b8e186\"], [0.8, \"#7fbc41\"], [0.9, \"#4d9221\"], [1, \"#276419\"]], \"sequential\": [[0.0, \"#0d0887\"], [0.1111111111111111, \"#46039f\"], [0.2222222222222222, \"#7201a8\"], [0.3333333333333333, \"#9c179e\"], [0.4444444444444444, \"#bd3786\"], [0.5555555555555556, \"#d8576b\"], [0.6666666666666666, \"#ed7953\"], [0.7777777777777778, \"#fb9f3a\"], [0.8888888888888888, \"#fdca26\"], [1.0, \"#f0f921\"]], \"sequentialminus\": [[0.0, \"#0d0887\"], [0.1111111111111111, \"#46039f\"], [0.2222222222222222, \"#7201a8\"], [0.3333333333333333, \"#9c179e\"], [0.4444444444444444, \"#bd3786\"], [0.5555555555555556, \"#d8576b\"], [0.6666666666666666, \"#ed7953\"], [0.7777777777777778, \"#fb9f3a\"], [0.8888888888888888, \"#fdca26\"], [1.0, \"#f0f921\"]]}, \"colorway\": [\"#636efa\", \"#EF553B\", \"#00cc96\", \"#ab63fa\", \"#FFA15A\", \"#19d3f3\", \"#FF6692\", \"#B6E880\", \"#FF97FF\", \"#FECB52\"], \"font\": {\"color\": \"#2a3f5f\"}, \"geo\": {\"bgcolor\": \"white\", \"lakecolor\": \"white\", \"landcolor\": \"#E5ECF6\", \"showlakes\": true, \"showland\": true, \"subunitcolor\": \"white\"}, \"hoverlabel\": {\"align\": \"left\"}, \"hovermode\": \"closest\", \"mapbox\": {\"style\": \"light\"}, \"paper_bgcolor\": \"white\", \"plot_bgcolor\": \"#E5ECF6\", \"polar\": {\"angularaxis\": {\"gridcolor\": \"white\", \"linecolor\": \"white\", \"ticks\": \"\"}, \"bgcolor\": \"#E5ECF6\", \"radialaxis\": {\"gridcolor\": \"white\", \"linecolor\": \"white\", \"ticks\": \"\"}}, \"scene\": {\"xaxis\": {\"backgroundcolor\": \"#E5ECF6\", \"gridcolor\": \"white\", \"gridwidth\": 2, \"linecolor\": \"white\", \"showbackground\": true, \"ticks\": \"\", \"zerolinecolor\": \"white\"}, \"yaxis\": {\"backgroundcolor\": \"#E5ECF6\", \"gridcolor\": \"white\", \"gridwidth\": 2, \"linecolor\": \"white\", \"showbackground\": true, \"ticks\": \"\", \"zerolinecolor\": \"white\"}, \"zaxis\": {\"backgroundcolor\": \"#E5ECF6\", \"gridcolor\": \"white\", \"gridwidth\": 2, \"linecolor\": \"white\", \"showbackground\": true, \"ticks\": \"\", \"zerolinecolor\": \"white\"}}, \"shapedefaults\": {\"line\": {\"color\": \"#2a3f5f\"}}, \"ternary\": {\"aaxis\": {\"gridcolor\": \"white\", \"linecolor\": \"white\", \"ticks\": \"\"}, \"baxis\": {\"gridcolor\": \"white\", \"linecolor\": \"white\", \"ticks\": \"\"}, \"bgcolor\": \"#E5ECF6\", \"caxis\": {\"gridcolor\": \"white\", \"linecolor\": \"white\", \"ticks\": \"\"}}, \"title\": {\"x\": 0.05}, \"xaxis\": {\"automargin\": true, \"gridcolor\": \"white\", \"linecolor\": \"white\", \"ticks\": \"\", \"title\": {\"standoff\": 15}, \"zerolinecolor\": \"white\", \"zerolinewidth\": 2}, \"yaxis\": {\"automargin\": true, \"gridcolor\": \"white\", \"linecolor\": \"white\", \"ticks\": \"\", \"title\": {\"standoff\": 15}, \"zerolinecolor\": \"white\", \"zerolinewidth\": 2}}}, \"title\": {\"text\": \"Pre-fusion energy vs post-fusion energy\"}, \"xaxis\": {\"title\": {\"text\": \"r<sub>t,prtr</sub> (nm)\"}}, \"yaxis\": {\"title\": {\"text\": \"Energy (kT)\"}}},                        {\"responsive\": true}                    ).then(function(){\n",
       "                            \n",
       "var gd = document.getElementById('79a8f20b-2f7f-4bb8-a6b9-853d35788d4c');\n",
       "var x = new MutationObserver(function (mutations, observer) {{\n",
       "        var display = window.getComputedStyle(gd).display;\n",
       "        if (!display || display === 'none') {{\n",
       "            console.log([gd, 'removed!']);\n",
       "            Plotly.purge(gd);\n",
       "            observer.disconnect();\n",
       "        }}\n",
       "}});\n",
       "\n",
       "// Listen for the removal of the full notebook cells\n",
       "var notebookContainer = gd.closest('#notebook-container');\n",
       "if (notebookContainer) {{\n",
       "    x.observe(notebookContainer, {childList: true});\n",
       "}}\n",
       "\n",
       "// Listen for the clearing of the current output cell\n",
       "var outputEl = gd.closest('.output');\n",
       "if (outputEl) {{\n",
       "    x.observe(outputEl, {childList: true});\n",
       "}}\n",
       "\n",
       "                        })                };                });            </script>        </div>"
      ]
     },
     "metadata": {},
     "output_type": "display_data"
    }
   ],
   "source": [
    "print(\"Some relevant pore energies below.\")\n",
    "print(\"Note that these numbers should not be taken at face-value since the hypothetical pores are huge.\")\n",
    "print(\"Pore Gb for pore radius 400 nm, pore_rt = 15: \",GToroidalPore(15,R0,Kb))\n",
    "print(\"Pore Gb for pore radius 400 nm, pore_rt = 25: \",GToroidalPore(25,R0,Kb))\n",
    "print(\"Pore Gb for pore radius 400 nm, pore_rt = 50: \",GToroidalPore(50,R0,Kb))\n",
    "\n",
    "vsPlot = go.Figure()\n",
    "vsPlot.add_trace(go.Scatter(x=rim_rt, y=GPost, mode='markers + lines', name='Post-fusion'))\n",
    "vsPlot.add_trace(go.Scatter(x=rim_rt, y=GPre, mode='lines', name='Pre-fusion'))\n",
    "vsPlot.update_layout(title=\"Pre-fusion energy vs post-fusion energy\",\n",
    "                        xaxis_title=\"r<sub>t,prtr</sub> (nm)\", yaxis_title=\"Energy (kT)\")\n",
    "vsPlot.show()"
   ]
  },
  {
   "cell_type": "markdown",
   "metadata": {},
   "source": [
    "If this is accurate, the energetic increase may decrease with greater $r_{t,rim}$, but fusion at the base is clearly an energy *intensive* process, not one that releases energy.\n",
    "\n",
    "## Calculate pre vs post $G_b$ difference and export results"
   ]
  },
  {
   "cell_type": "code",
   "execution_count": 11,
   "metadata": {},
   "outputs": [
    {
     "data": {
      "application/vnd.plotly.v1+json": {
       "config": {
        "plotlyServerURL": "https://plot.ly"
       },
       "data": [
        {
         "mode": "markers+lines",
         "type": "scatter",
         "x": [
          2,
          2.3,
          2.6,
          3,
          3.5,
          4,
          5,
          6.5,
          8,
          10,
          12.5,
          15,
          17.5,
          20,
          22.5,
          25,
          30,
          35,
          40,
          45
         ],
         "y": [
          35530.65894473176,
          30920.500954777046,
          27374.176757340338,
          23748.97962089536,
          20382.63472084823,
          17857.788295913873,
          14322.793230895391,
          11059.318406060684,
          9019.256218900091,
          7250.719520874892,
          5835.27409960309,
          4891.078408951052,
          4216.172844304695,
          3709.5775616283818,
          3315.192609189689,
          2999.357980512791,
          2524.7995285165175,
          2184.921729921557,
          1929.233977361851,
          1729.68560543053
         ]
        }
       ],
       "layout": {
        "autosize": true,
        "template": {
         "data": {
          "bar": [
           {
            "error_x": {
             "color": "#2a3f5f"
            },
            "error_y": {
             "color": "#2a3f5f"
            },
            "marker": {
             "line": {
              "color": "#E5ECF6",
              "width": 0.5
             }
            },
            "type": "bar"
           }
          ],
          "barpolar": [
           {
            "marker": {
             "line": {
              "color": "#E5ECF6",
              "width": 0.5
             }
            },
            "type": "barpolar"
           }
          ],
          "carpet": [
           {
            "aaxis": {
             "endlinecolor": "#2a3f5f",
             "gridcolor": "white",
             "linecolor": "white",
             "minorgridcolor": "white",
             "startlinecolor": "#2a3f5f"
            },
            "baxis": {
             "endlinecolor": "#2a3f5f",
             "gridcolor": "white",
             "linecolor": "white",
             "minorgridcolor": "white",
             "startlinecolor": "#2a3f5f"
            },
            "type": "carpet"
           }
          ],
          "choropleth": [
           {
            "colorbar": {
             "outlinewidth": 0,
             "ticks": ""
            },
            "type": "choropleth"
           }
          ],
          "contour": [
           {
            "colorbar": {
             "outlinewidth": 0,
             "ticks": ""
            },
            "colorscale": [
             [
              0,
              "#0d0887"
             ],
             [
              0.1111111111111111,
              "#46039f"
             ],
             [
              0.2222222222222222,
              "#7201a8"
             ],
             [
              0.3333333333333333,
              "#9c179e"
             ],
             [
              0.4444444444444444,
              "#bd3786"
             ],
             [
              0.5555555555555556,
              "#d8576b"
             ],
             [
              0.6666666666666666,
              "#ed7953"
             ],
             [
              0.7777777777777778,
              "#fb9f3a"
             ],
             [
              0.8888888888888888,
              "#fdca26"
             ],
             [
              1,
              "#f0f921"
             ]
            ],
            "type": "contour"
           }
          ],
          "contourcarpet": [
           {
            "colorbar": {
             "outlinewidth": 0,
             "ticks": ""
            },
            "type": "contourcarpet"
           }
          ],
          "heatmap": [
           {
            "colorbar": {
             "outlinewidth": 0,
             "ticks": ""
            },
            "colorscale": [
             [
              0,
              "#0d0887"
             ],
             [
              0.1111111111111111,
              "#46039f"
             ],
             [
              0.2222222222222222,
              "#7201a8"
             ],
             [
              0.3333333333333333,
              "#9c179e"
             ],
             [
              0.4444444444444444,
              "#bd3786"
             ],
             [
              0.5555555555555556,
              "#d8576b"
             ],
             [
              0.6666666666666666,
              "#ed7953"
             ],
             [
              0.7777777777777778,
              "#fb9f3a"
             ],
             [
              0.8888888888888888,
              "#fdca26"
             ],
             [
              1,
              "#f0f921"
             ]
            ],
            "type": "heatmap"
           }
          ],
          "heatmapgl": [
           {
            "colorbar": {
             "outlinewidth": 0,
             "ticks": ""
            },
            "colorscale": [
             [
              0,
              "#0d0887"
             ],
             [
              0.1111111111111111,
              "#46039f"
             ],
             [
              0.2222222222222222,
              "#7201a8"
             ],
             [
              0.3333333333333333,
              "#9c179e"
             ],
             [
              0.4444444444444444,
              "#bd3786"
             ],
             [
              0.5555555555555556,
              "#d8576b"
             ],
             [
              0.6666666666666666,
              "#ed7953"
             ],
             [
              0.7777777777777778,
              "#fb9f3a"
             ],
             [
              0.8888888888888888,
              "#fdca26"
             ],
             [
              1,
              "#f0f921"
             ]
            ],
            "type": "heatmapgl"
           }
          ],
          "histogram": [
           {
            "marker": {
             "colorbar": {
              "outlinewidth": 0,
              "ticks": ""
             }
            },
            "type": "histogram"
           }
          ],
          "histogram2d": [
           {
            "colorbar": {
             "outlinewidth": 0,
             "ticks": ""
            },
            "colorscale": [
             [
              0,
              "#0d0887"
             ],
             [
              0.1111111111111111,
              "#46039f"
             ],
             [
              0.2222222222222222,
              "#7201a8"
             ],
             [
              0.3333333333333333,
              "#9c179e"
             ],
             [
              0.4444444444444444,
              "#bd3786"
             ],
             [
              0.5555555555555556,
              "#d8576b"
             ],
             [
              0.6666666666666666,
              "#ed7953"
             ],
             [
              0.7777777777777778,
              "#fb9f3a"
             ],
             [
              0.8888888888888888,
              "#fdca26"
             ],
             [
              1,
              "#f0f921"
             ]
            ],
            "type": "histogram2d"
           }
          ],
          "histogram2dcontour": [
           {
            "colorbar": {
             "outlinewidth": 0,
             "ticks": ""
            },
            "colorscale": [
             [
              0,
              "#0d0887"
             ],
             [
              0.1111111111111111,
              "#46039f"
             ],
             [
              0.2222222222222222,
              "#7201a8"
             ],
             [
              0.3333333333333333,
              "#9c179e"
             ],
             [
              0.4444444444444444,
              "#bd3786"
             ],
             [
              0.5555555555555556,
              "#d8576b"
             ],
             [
              0.6666666666666666,
              "#ed7953"
             ],
             [
              0.7777777777777778,
              "#fb9f3a"
             ],
             [
              0.8888888888888888,
              "#fdca26"
             ],
             [
              1,
              "#f0f921"
             ]
            ],
            "type": "histogram2dcontour"
           }
          ],
          "mesh3d": [
           {
            "colorbar": {
             "outlinewidth": 0,
             "ticks": ""
            },
            "type": "mesh3d"
           }
          ],
          "parcoords": [
           {
            "line": {
             "colorbar": {
              "outlinewidth": 0,
              "ticks": ""
             }
            },
            "type": "parcoords"
           }
          ],
          "pie": [
           {
            "automargin": true,
            "type": "pie"
           }
          ],
          "scatter": [
           {
            "marker": {
             "colorbar": {
              "outlinewidth": 0,
              "ticks": ""
             }
            },
            "type": "scatter"
           }
          ],
          "scatter3d": [
           {
            "line": {
             "colorbar": {
              "outlinewidth": 0,
              "ticks": ""
             }
            },
            "marker": {
             "colorbar": {
              "outlinewidth": 0,
              "ticks": ""
             }
            },
            "type": "scatter3d"
           }
          ],
          "scattercarpet": [
           {
            "marker": {
             "colorbar": {
              "outlinewidth": 0,
              "ticks": ""
             }
            },
            "type": "scattercarpet"
           }
          ],
          "scattergeo": [
           {
            "marker": {
             "colorbar": {
              "outlinewidth": 0,
              "ticks": ""
             }
            },
            "type": "scattergeo"
           }
          ],
          "scattergl": [
           {
            "marker": {
             "colorbar": {
              "outlinewidth": 0,
              "ticks": ""
             }
            },
            "type": "scattergl"
           }
          ],
          "scattermapbox": [
           {
            "marker": {
             "colorbar": {
              "outlinewidth": 0,
              "ticks": ""
             }
            },
            "type": "scattermapbox"
           }
          ],
          "scatterpolar": [
           {
            "marker": {
             "colorbar": {
              "outlinewidth": 0,
              "ticks": ""
             }
            },
            "type": "scatterpolar"
           }
          ],
          "scatterpolargl": [
           {
            "marker": {
             "colorbar": {
              "outlinewidth": 0,
              "ticks": ""
             }
            },
            "type": "scatterpolargl"
           }
          ],
          "scatterternary": [
           {
            "marker": {
             "colorbar": {
              "outlinewidth": 0,
              "ticks": ""
             }
            },
            "type": "scatterternary"
           }
          ],
          "surface": [
           {
            "colorbar": {
             "outlinewidth": 0,
             "ticks": ""
            },
            "colorscale": [
             [
              0,
              "#0d0887"
             ],
             [
              0.1111111111111111,
              "#46039f"
             ],
             [
              0.2222222222222222,
              "#7201a8"
             ],
             [
              0.3333333333333333,
              "#9c179e"
             ],
             [
              0.4444444444444444,
              "#bd3786"
             ],
             [
              0.5555555555555556,
              "#d8576b"
             ],
             [
              0.6666666666666666,
              "#ed7953"
             ],
             [
              0.7777777777777778,
              "#fb9f3a"
             ],
             [
              0.8888888888888888,
              "#fdca26"
             ],
             [
              1,
              "#f0f921"
             ]
            ],
            "type": "surface"
           }
          ],
          "table": [
           {
            "cells": {
             "fill": {
              "color": "#EBF0F8"
             },
             "line": {
              "color": "white"
             }
            },
            "header": {
             "fill": {
              "color": "#C8D4E3"
             },
             "line": {
              "color": "white"
             }
            },
            "type": "table"
           }
          ]
         },
         "layout": {
          "annotationdefaults": {
           "arrowcolor": "#2a3f5f",
           "arrowhead": 0,
           "arrowwidth": 1
          },
          "coloraxis": {
           "colorbar": {
            "outlinewidth": 0,
            "ticks": ""
           }
          },
          "colorscale": {
           "diverging": [
            [
             0,
             "#8e0152"
            ],
            [
             0.1,
             "#c51b7d"
            ],
            [
             0.2,
             "#de77ae"
            ],
            [
             0.3,
             "#f1b6da"
            ],
            [
             0.4,
             "#fde0ef"
            ],
            [
             0.5,
             "#f7f7f7"
            ],
            [
             0.6,
             "#e6f5d0"
            ],
            [
             0.7,
             "#b8e186"
            ],
            [
             0.8,
             "#7fbc41"
            ],
            [
             0.9,
             "#4d9221"
            ],
            [
             1,
             "#276419"
            ]
           ],
           "sequential": [
            [
             0,
             "#0d0887"
            ],
            [
             0.1111111111111111,
             "#46039f"
            ],
            [
             0.2222222222222222,
             "#7201a8"
            ],
            [
             0.3333333333333333,
             "#9c179e"
            ],
            [
             0.4444444444444444,
             "#bd3786"
            ],
            [
             0.5555555555555556,
             "#d8576b"
            ],
            [
             0.6666666666666666,
             "#ed7953"
            ],
            [
             0.7777777777777778,
             "#fb9f3a"
            ],
            [
             0.8888888888888888,
             "#fdca26"
            ],
            [
             1,
             "#f0f921"
            ]
           ],
           "sequentialminus": [
            [
             0,
             "#0d0887"
            ],
            [
             0.1111111111111111,
             "#46039f"
            ],
            [
             0.2222222222222222,
             "#7201a8"
            ],
            [
             0.3333333333333333,
             "#9c179e"
            ],
            [
             0.4444444444444444,
             "#bd3786"
            ],
            [
             0.5555555555555556,
             "#d8576b"
            ],
            [
             0.6666666666666666,
             "#ed7953"
            ],
            [
             0.7777777777777778,
             "#fb9f3a"
            ],
            [
             0.8888888888888888,
             "#fdca26"
            ],
            [
             1,
             "#f0f921"
            ]
           ]
          },
          "colorway": [
           "#636efa",
           "#EF553B",
           "#00cc96",
           "#ab63fa",
           "#FFA15A",
           "#19d3f3",
           "#FF6692",
           "#B6E880",
           "#FF97FF",
           "#FECB52"
          ],
          "font": {
           "color": "#2a3f5f"
          },
          "geo": {
           "bgcolor": "white",
           "lakecolor": "white",
           "landcolor": "#E5ECF6",
           "showlakes": true,
           "showland": true,
           "subunitcolor": "white"
          },
          "hoverlabel": {
           "align": "left"
          },
          "hovermode": "closest",
          "mapbox": {
           "style": "light"
          },
          "paper_bgcolor": "white",
          "plot_bgcolor": "#E5ECF6",
          "polar": {
           "angularaxis": {
            "gridcolor": "white",
            "linecolor": "white",
            "ticks": ""
           },
           "bgcolor": "#E5ECF6",
           "radialaxis": {
            "gridcolor": "white",
            "linecolor": "white",
            "ticks": ""
           }
          },
          "scene": {
           "xaxis": {
            "backgroundcolor": "#E5ECF6",
            "gridcolor": "white",
            "gridwidth": 2,
            "linecolor": "white",
            "showbackground": true,
            "ticks": "",
            "zerolinecolor": "white"
           },
           "yaxis": {
            "backgroundcolor": "#E5ECF6",
            "gridcolor": "white",
            "gridwidth": 2,
            "linecolor": "white",
            "showbackground": true,
            "ticks": "",
            "zerolinecolor": "white"
           },
           "zaxis": {
            "backgroundcolor": "#E5ECF6",
            "gridcolor": "white",
            "gridwidth": 2,
            "linecolor": "white",
            "showbackground": true,
            "ticks": "",
            "zerolinecolor": "white"
           }
          },
          "shapedefaults": {
           "line": {
            "color": "#2a3f5f"
           }
          },
          "ternary": {
           "aaxis": {
            "gridcolor": "white",
            "linecolor": "white",
            "ticks": ""
           },
           "baxis": {
            "gridcolor": "white",
            "linecolor": "white",
            "ticks": ""
           },
           "bgcolor": "#E5ECF6",
           "caxis": {
            "gridcolor": "white",
            "linecolor": "white",
            "ticks": ""
           }
          },
          "title": {
           "x": 0.05
          },
          "xaxis": {
           "automargin": true,
           "gridcolor": "white",
           "linecolor": "white",
           "ticks": "",
           "title": {
            "standoff": 15
           },
           "zerolinecolor": "white",
           "zerolinewidth": 2
          },
          "yaxis": {
           "automargin": true,
           "gridcolor": "white",
           "linecolor": "white",
           "ticks": "",
           "title": {
            "standoff": 15
           },
           "zerolinecolor": "white",
           "zerolinewidth": 2
          }
         }
        },
        "title": {
         "text": "Body: ΔG<sub>b</sub> = G<sub>b</sub><sup>post</sup> - G<sub>b</sub><sup>pre</sup>"
        },
        "xaxis": {
         "autorange": true,
         "range": [
          -0.5605537989843827,
          47.56055379898438
         ],
         "title": {
          "text": "r<sub>t,prtr</sub> (nm)"
         },
         "type": "linear"
        },
        "yaxis": {
         "autorange": true,
         "range": [
          -746.1818684673308,
          38006.52641862962
         ],
         "title": {
          "text": "Energy (kT)"
         },
         "type": "linear"
        }
       }
      },
      "image/png": "[encoded data removed]",
      "text/html": [
       "<div>                            <div id=\"726c7add-67bc-46ac-9d6d-f617536e54c0\" class=\"plotly-graph-div\" style=\"height:525px; width:100%;\"></div>            <script type=\"text/javascript\">                require([\"plotly\"], function(Plotly) {                    window.PLOTLYENV=window.PLOTLYENV || {};                                    if (document.getElementById(\"726c7add-67bc-46ac-9d6d-f617536e54c0\")) {                    Plotly.newPlot(                        \"726c7add-67bc-46ac-9d6d-f617536e54c0\",                        [{\"mode\": \"markers+lines\", \"type\": \"scatter\", \"x\": [2.0, 2.3, 2.6, 3.0, 3.5, 4.0, 5.0, 6.5, 8.0, 10.0, 12.5, 15.0, 17.5, 20.0, 22.5, 25.0, 30.0, 35.0, 40.0, 45.0], \"y\": [35530.65894473176, 30920.500954777046, 27374.176757340338, 23748.97962089536, 20382.63472084823, 17857.788295913873, 14322.793230895391, 11059.318406060684, 9019.256218900091, 7250.719520874892, 5835.27409960309, 4891.078408951052, 4216.172844304695, 3709.5775616283818, 3315.192609189689, 2999.357980512791, 2524.7995285165175, 2184.921729921557, 1929.233977361851, 1729.68560543053]}],                        {\"template\": {\"data\": {\"bar\": [{\"error_x\": {\"color\": \"#2a3f5f\"}, \"error_y\": {\"color\": \"#2a3f5f\"}, \"marker\": {\"line\": {\"color\": \"#E5ECF6\", \"width\": 0.5}}, \"type\": \"bar\"}], \"barpolar\": [{\"marker\": {\"line\": {\"color\": \"#E5ECF6\", \"width\": 0.5}}, \"type\": \"barpolar\"}], \"carpet\": [{\"aaxis\": {\"endlinecolor\": \"#2a3f5f\", \"gridcolor\": \"white\", \"linecolor\": \"white\", \"minorgridcolor\": \"white\", \"startlinecolor\": \"#2a3f5f\"}, \"baxis\": {\"endlinecolor\": \"#2a3f5f\", \"gridcolor\": \"white\", \"linecolor\": \"white\", \"minorgridcolor\": \"white\", \"startlinecolor\": \"#2a3f5f\"}, \"type\": \"carpet\"}], \"choropleth\": [{\"colorbar\": {\"outlinewidth\": 0, \"ticks\": \"\"}, \"type\": \"choropleth\"}], \"contour\": [{\"colorbar\": {\"outlinewidth\": 0, \"ticks\": \"\"}, \"colorscale\": [[0.0, \"#0d0887\"], [0.1111111111111111, \"#46039f\"], [0.2222222222222222, \"#7201a8\"], [0.3333333333333333, \"#9c179e\"], [0.4444444444444444, \"#bd3786\"], [0.5555555555555556, \"#d8576b\"], [0.6666666666666666, \"#ed7953\"], [0.7777777777777778, \"#fb9f3a\"], [0.8888888888888888, \"#fdca26\"], [1.0, \"#f0f921\"]], \"type\": \"contour\"}], \"contourcarpet\": [{\"colorbar\": {\"outlinewidth\": 0, \"ticks\": \"\"}, \"type\": \"contourcarpet\"}], \"heatmap\": [{\"colorbar\": {\"outlinewidth\": 0, \"ticks\": \"\"}, \"colorscale\": [[0.0, \"#0d0887\"], [0.1111111111111111, \"#46039f\"], [0.2222222222222222, \"#7201a8\"], [0.3333333333333333, \"#9c179e\"], [0.4444444444444444, \"#bd3786\"], [0.5555555555555556, \"#d8576b\"], [0.6666666666666666, \"#ed7953\"], [0.7777777777777778, \"#fb9f3a\"], [0.8888888888888888, \"#fdca26\"], [1.0, \"#f0f921\"]], \"type\": \"heatmap\"}], \"heatmapgl\": [{\"colorbar\": {\"outlinewidth\": 0, \"ticks\": \"\"}, \"colorscale\": [[0.0, \"#0d0887\"], [0.1111111111111111, \"#46039f\"], [0.2222222222222222, \"#7201a8\"], [0.3333333333333333, \"#9c179e\"], [0.4444444444444444, \"#bd3786\"], [0.5555555555555556, \"#d8576b\"], [0.6666666666666666, \"#ed7953\"], [0.7777777777777778, \"#fb9f3a\"], [0.8888888888888888, \"#fdca26\"], [1.0, \"#f0f921\"]], \"type\": \"heatmapgl\"}], \"histogram\": [{\"marker\": {\"colorbar\": {\"outlinewidth\": 0, \"ticks\": \"\"}}, \"type\": \"histogram\"}], \"histogram2d\": [{\"colorbar\": {\"outlinewidth\": 0, \"ticks\": \"\"}, \"colorscale\": [[0.0, \"#0d0887\"], [0.1111111111111111, \"#46039f\"], [0.2222222222222222, \"#7201a8\"], [0.3333333333333333, \"#9c179e\"], [0.4444444444444444, \"#bd3786\"], [0.5555555555555556, \"#d8576b\"], [0.6666666666666666, \"#ed7953\"], [0.7777777777777778, \"#fb9f3a\"], [0.8888888888888888, \"#fdca26\"], [1.0, \"#f0f921\"]], \"type\": \"histogram2d\"}], \"histogram2dcontour\": [{\"colorbar\": {\"outlinewidth\": 0, \"ticks\": \"\"}, \"colorscale\": [[0.0, \"#0d0887\"], [0.1111111111111111, \"#46039f\"], [0.2222222222222222, \"#7201a8\"], [0.3333333333333333, \"#9c179e\"], [0.4444444444444444, \"#bd3786\"], [0.5555555555555556, \"#d8576b\"], [0.6666666666666666, \"#ed7953\"], [0.7777777777777778, \"#fb9f3a\"], [0.8888888888888888, \"#fdca26\"], [1.0, \"#f0f921\"]], \"type\": \"histogram2dcontour\"}], \"mesh3d\": [{\"colorbar\": {\"outlinewidth\": 0, \"ticks\": \"\"}, \"type\": \"mesh3d\"}], \"parcoords\": [{\"line\": {\"colorbar\": {\"outlinewidth\": 0, \"ticks\": \"\"}}, \"type\": \"parcoords\"}], \"pie\": [{\"automargin\": true, \"type\": \"pie\"}], \"scatter\": [{\"marker\": {\"colorbar\": {\"outlinewidth\": 0, \"ticks\": \"\"}}, \"type\": \"scatter\"}], \"scatter3d\": [{\"line\": {\"colorbar\": {\"outlinewidth\": 0, \"ticks\": \"\"}}, \"marker\": {\"colorbar\": {\"outlinewidth\": 0, \"ticks\": \"\"}}, \"type\": \"scatter3d\"}], \"scattercarpet\": [{\"marker\": {\"colorbar\": {\"outlinewidth\": 0, \"ticks\": \"\"}}, \"type\": \"scattercarpet\"}], \"scattergeo\": [{\"marker\": {\"colorbar\": {\"outlinewidth\": 0, \"ticks\": \"\"}}, \"type\": \"scattergeo\"}], \"scattergl\": [{\"marker\": {\"colorbar\": {\"outlinewidth\": 0, \"ticks\": \"\"}}, \"type\": \"scattergl\"}], \"scattermapbox\": [{\"marker\": {\"colorbar\": {\"outlinewidth\": 0, \"ticks\": \"\"}}, \"type\": \"scattermapbox\"}], \"scatterpolar\": [{\"marker\": {\"colorbar\": {\"outlinewidth\": 0, \"ticks\": \"\"}}, \"type\": \"scatterpolar\"}], \"scatterpolargl\": [{\"marker\": {\"colorbar\": {\"outlinewidth\": 0, \"ticks\": \"\"}}, \"type\": \"scatterpolargl\"}], \"scatterternary\": [{\"marker\": {\"colorbar\": {\"outlinewidth\": 0, \"ticks\": \"\"}}, \"type\": \"scatterternary\"}], \"surface\": [{\"colorbar\": {\"outlinewidth\": 0, \"ticks\": \"\"}, \"colorscale\": [[0.0, \"#0d0887\"], [0.1111111111111111, \"#46039f\"], [0.2222222222222222, \"#7201a8\"], [0.3333333333333333, \"#9c179e\"], [0.4444444444444444, \"#bd3786\"], [0.5555555555555556, \"#d8576b\"], [0.6666666666666666, \"#ed7953\"], [0.7777777777777778, \"#fb9f3a\"], [0.8888888888888888, \"#fdca26\"], [1.0, \"#f0f921\"]], \"type\": \"surface\"}], \"table\": [{\"cells\": {\"fill\": {\"color\": \"#EBF0F8\"}, \"line\": {\"color\": \"white\"}}, \"header\": {\"fill\": {\"color\": \"#C8D4E3\"}, \"line\": {\"color\": \"white\"}}, \"type\": \"table\"}]}, \"layout\": {\"annotationdefaults\": {\"arrowcolor\": \"#2a3f5f\", \"arrowhead\": 0, \"arrowwidth\": 1}, \"coloraxis\": {\"colorbar\": {\"outlinewidth\": 0, \"ticks\": \"\"}}, \"colorscale\": {\"diverging\": [[0, \"#8e0152\"], [0.1, \"#c51b7d\"], [0.2, \"#de77ae\"], [0.3, \"#f1b6da\"], [0.4, \"#fde0ef\"], [0.5, \"#f7f7f7\"], [0.6, \"#e6f5d0\"], [0.7, \"#b8e186\"], [0.8, \"#7fbc41\"], [0.9, \"#4d9221\"], [1, \"#276419\"]], \"sequential\": [[0.0, \"#0d0887\"], [0.1111111111111111, \"#46039f\"], [0.2222222222222222, \"#7201a8\"], [0.3333333333333333, \"#9c179e\"], [0.4444444444444444, \"#bd3786\"], [0.5555555555555556, \"#d8576b\"], [0.6666666666666666, \"#ed7953\"], [0.7777777777777778, \"#fb9f3a\"], [0.8888888888888888, \"#fdca26\"], [1.0, \"#f0f921\"]], \"sequentialminus\": [[0.0, \"#0d0887\"], [0.1111111111111111, \"#46039f\"], [0.2222222222222222, \"#7201a8\"], [0.3333333333333333, \"#9c179e\"], [0.4444444444444444, \"#bd3786\"], [0.5555555555555556, \"#d8576b\"], [0.6666666666666666, \"#ed7953\"], [0.7777777777777778, \"#fb9f3a\"], [0.8888888888888888, \"#fdca26\"], [1.0, \"#f0f921\"]]}, \"colorway\": [\"#636efa\", \"#EF553B\", \"#00cc96\", \"#ab63fa\", \"#FFA15A\", \"#19d3f3\", \"#FF6692\", \"#B6E880\", \"#FF97FF\", \"#FECB52\"], \"font\": {\"color\": \"#2a3f5f\"}, \"geo\": {\"bgcolor\": \"white\", \"lakecolor\": \"white\", \"landcolor\": \"#E5ECF6\", \"showlakes\": true, \"showland\": true, \"subunitcolor\": \"white\"}, \"hoverlabel\": {\"align\": \"left\"}, \"hovermode\": \"closest\", \"mapbox\": {\"style\": \"light\"}, \"paper_bgcolor\": \"white\", \"plot_bgcolor\": \"#E5ECF6\", \"polar\": {\"angularaxis\": {\"gridcolor\": \"white\", \"linecolor\": \"white\", \"ticks\": \"\"}, \"bgcolor\": \"#E5ECF6\", \"radialaxis\": {\"gridcolor\": \"white\", \"linecolor\": \"white\", \"ticks\": \"\"}}, \"scene\": {\"xaxis\": {\"backgroundcolor\": \"#E5ECF6\", \"gridcolor\": \"white\", \"gridwidth\": 2, \"linecolor\": \"white\", \"showbackground\": true, \"ticks\": \"\", \"zerolinecolor\": \"white\"}, \"yaxis\": {\"backgroundcolor\": \"#E5ECF6\", \"gridcolor\": \"white\", \"gridwidth\": 2, \"linecolor\": \"white\", \"showbackground\": true, \"ticks\": \"\", \"zerolinecolor\": \"white\"}, \"zaxis\": {\"backgroundcolor\": \"#E5ECF6\", \"gridcolor\": \"white\", \"gridwidth\": 2, \"linecolor\": \"white\", \"showbackground\": true, \"ticks\": \"\", \"zerolinecolor\": \"white\"}}, \"shapedefaults\": {\"line\": {\"color\": \"#2a3f5f\"}}, \"ternary\": {\"aaxis\": {\"gridcolor\": \"white\", \"linecolor\": \"white\", \"ticks\": \"\"}, \"baxis\": {\"gridcolor\": \"white\", \"linecolor\": \"white\", \"ticks\": \"\"}, \"bgcolor\": \"#E5ECF6\", \"caxis\": {\"gridcolor\": \"white\", \"linecolor\": \"white\", \"ticks\": \"\"}}, \"title\": {\"x\": 0.05}, \"xaxis\": {\"automargin\": true, \"gridcolor\": \"white\", \"linecolor\": \"white\", \"ticks\": \"\", \"title\": {\"standoff\": 15}, \"zerolinecolor\": \"white\", \"zerolinewidth\": 2}, \"yaxis\": {\"automargin\": true, \"gridcolor\": \"white\", \"linecolor\": \"white\", \"ticks\": \"\", \"title\": {\"standoff\": 15}, \"zerolinecolor\": \"white\", \"zerolinewidth\": 2}}}, \"title\": {\"text\": \"Body: \\u0394G<sub>b</sub> = G<sub>b</sub><sup>post</sup> - G<sub>b</sub><sup>pre</sup>\"}, \"xaxis\": {\"title\": {\"text\": \"r<sub>t,prtr</sub> (nm)\"}}, \"yaxis\": {\"title\": {\"text\": \"Energy (kT)\"}}},                        {\"responsive\": true}                    ).then(function(){\n",
       "                            \n",
       "var gd = document.getElementById('726c7add-67bc-46ac-9d6d-f617536e54c0');\n",
       "var x = new MutationObserver(function (mutations, observer) {{\n",
       "        var display = window.getComputedStyle(gd).display;\n",
       "        if (!display || display === 'none') {{\n",
       "            console.log([gd, 'removed!']);\n",
       "            Plotly.purge(gd);\n",
       "            observer.disconnect();\n",
       "        }}\n",
       "}});\n",
       "\n",
       "// Listen for the removal of the full notebook cells\n",
       "var notebookContainer = gd.closest('#notebook-container');\n",
       "if (notebookContainer) {{\n",
       "    x.observe(notebookContainer, {childList: true});\n",
       "}}\n",
       "\n",
       "// Listen for the clearing of the current output cell\n",
       "var outputEl = gd.closest('.output');\n",
       "if (outputEl) {{\n",
       "    x.observe(outputEl, {childList: true});\n",
       "}}\n",
       "\n",
       "                        })                };                });            </script>        </div>"
      ]
     },
     "metadata": {},
     "output_type": "display_data"
    },
    {
     "name": "stdout",
     "output_type": "stream",
     "text": [
      "Saving DGb for body\n",
      "Saving rim_rt for body\n",
      "Done!\n"
     ]
    }
   ],
   "source": [
    "DGb = GPost - GPre\n",
    "\n",
    "DGbPlot = go.Figure()\n",
    "DGbPlot.add_trace(go.Scatter(x=rim_rt, y=DGb, mode='markers + lines'))\n",
    "DGbPlot.update_layout(title=\"Body: ΔG<sub>b</sub> = G<sub>b</sub><sup>post</sup> - G<sub>b</sub><sup>pre</sup>\",\n",
    "                        xaxis_title=\"r<sub>t,prtr</sub> (nm)\", yaxis_title=\"Energy (kT)\")\n",
    "DGbPlot.show()\n",
    "\n",
    "print('Saving DGb for body')\n",
    "np.savetxt('output data/Body DGb 2-0.csv', DGb, delimiter=',') # Export DGb as a versioned csv\n",
    "print('Saving rim_rt for body')\n",
    "np.savetxt('output data/Body rt 2-0.csv', rim_rt, delimiter=',') # Export rim_rt that was used\n",
    "print('Done!')"
   ]
  },
  {
   "cell_type": "code",
   "execution_count": 12,
   "metadata": {},
   "outputs": [],
   "source": [
    "DGbPlot.write_image(\"output data/Body DGb 2-0-5.pdf\")"
   ]
  },
  {
   "cell_type": "code",
   "execution_count": null,
   "metadata": {},
   "outputs": [],
   "source": []
  }
 ],
 "metadata": {
  "kernelspec": {
   "display_name": "Python 3",
   "language": "python",
   "name": "python3"
  },
  "language_info": {
   "codemirror_mode": {
    "name": "ipython",
    "version": 3
   },
   "file_extension": ".py",
   "mimetype": "text/x-python",
   "name": "python",
   "nbconvert_exporter": "python",
   "pygments_lexer": "ipython3",
   "version": "3.8.2"
  }
 },
 "nbformat": 4,
 "nbformat_minor": 4
}
